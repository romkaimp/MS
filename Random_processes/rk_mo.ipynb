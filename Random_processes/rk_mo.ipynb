{
 "cells": [
  {
   "cell_type": "code",
   "id": "initial_id",
   "metadata": {
    "collapsed": true,
    "ExecuteTime": {
     "end_time": "2025-03-25T07:58:40.367804Z",
     "start_time": "2025-03-25T07:58:40.361286Z"
    }
   },
   "source": [
    "import math\n",
    "\n",
    "import numpy as np"
   ],
   "outputs": [],
   "execution_count": 17
  },
  {
   "metadata": {},
   "cell_type": "markdown",
   "source": "### Массовое обслуживание без вероятностей выйти из очереди\n",
   "id": "eddcbc0e28d4ed35"
  },
  {
   "metadata": {
    "ExecuteTime": {
     "end_time": "2025-03-25T07:58:40.441475Z",
     "start_time": "2025-03-25T07:58:40.385322Z"
    }
   },
   "cell_type": "code",
   "source": [
    "lmb = 15\n",
    "mu = 5\n",
    "query = 4\n",
    "ops = 3\n"
   ],
   "id": "5f150b11ab44954f",
   "outputs": [],
   "execution_count": 18
  },
  {
   "metadata": {
    "ExecuteTime": {
     "end_time": "2025-03-25T07:58:40.686842Z",
     "start_time": "2025-03-25T07:58:40.671740Z"
    }
   },
   "cell_type": "code",
   "source": [
    "p_0 = 1 / (\n",
    "    1 +\n",
    "    sum([lmb ** k / ((mu ** k) * math.factorial(k)) for k in range(1, ops + 1)]) +\n",
    "    sum([lmb ** k / (math.factorial(ops) * (mu ** k) * (ops ** (k - ops))) for k in range(ops + 1, ops + query + 1)])\n",
    "        )\n",
    "def p_i(i):\n",
    "    if i > ops:\n",
    "        return (lmb ** i) * p_0 / (math.factorial(ops) * (mu ** i) * (ops ** (i - ops)))\n",
    "    else:\n",
    "        return (lmb ** i) * p_0 / ((mu ** i) * math.factorial(i))\n",
    "\n",
    "print(p_0, p_i(7))"
   ],
   "id": "5b320e3fca49d8eb",
   "outputs": [
    {
     "name": "stdout",
     "output_type": "stream",
     "text": [
      "0.03225806451612903 0.14516129032258066\n"
     ]
    }
   ],
   "execution_count": 19
  },
  {
   "metadata": {},
   "cell_type": "markdown",
   "source": "### Марковская цепь с дискретным временем",
   "id": "54f0b8d83741abd9"
  },
  {
   "metadata": {
    "ExecuteTime": {
     "end_time": "2025-03-25T07:58:40.765696Z",
     "start_time": "2025-03-25T07:58:40.709380Z"
    }
   },
   "cell_type": "code",
   "source": [
    "m = 5\n",
    "matrix = [[0 for i in range(m)] for j in range(m)]\n",
    "matrix[0][1] = 0.6\n",
    "matrix[1][2] = 0.2\n",
    "matrix[2][3] = 0.3\n",
    "matrix[3][4] = 0.4\n",
    "matrix[4][0] = 0.5\n",
    "# matrix = [[]]\n",
    "for i in range(m):\n",
    "    matrix[i][i] = 1 - sum(matrix[i])\n",
    "print(np.array(matrix))"
   ],
   "id": "459bfe8d195fd107",
   "outputs": [
    {
     "name": "stdout",
     "output_type": "stream",
     "text": [
      "[[0.4 0.6 0.  0.  0. ]\n",
      " [0.  0.8 0.2 0.  0. ]\n",
      " [0.  0.  0.7 0.3 0. ]\n",
      " [0.  0.  0.  0.6 0.4]\n",
      " [0.5 0.  0.  0.  0.5]]\n"
     ]
    }
   ],
   "execution_count": 20
  },
  {
   "metadata": {
    "ExecuteTime": {
     "end_time": "2025-03-25T07:59:10.828082Z",
     "start_time": "2025-03-25T07:59:10.814945Z"
    }
   },
   "cell_type": "code",
   "source": [
    "import numpy.linalg as la\n",
    "SLAU = np.empty((m, m))\n",
    "b = np.empty(m)\n",
    "for i in range(m - 1):\n",
    "    for j in range(m):\n",
    "        SLAU[i, j] = matrix[j][i]\n",
    "    b[i] = 0\n",
    "    SLAU[i, i] -= 1\n",
    "# normalizing\n",
    "for i in range(m):\n",
    "    SLAU[-1, i] = 1\n",
    "b[-1] = 1\n",
    "print(\"SLAU:\", SLAU)\n",
    "print(\"b:\", b)\n",
    "\n",
    "stationary_probs = la.solve(SLAU, b)\n",
    "print(stationary_probs)"
   ],
   "id": "e5c62c64d58c39fa",
   "outputs": [
    {
     "name": "stdout",
     "output_type": "stream",
     "text": [
      "SLAU: [[-0.6  0.   0.   0.   0.5]\n",
      " [ 0.6 -0.2  0.   0.   0. ]\n",
      " [ 0.   0.2 -0.3  0.   0. ]\n",
      " [ 0.   0.   0.3 -0.4  0. ]\n",
      " [ 1.   1.   1.   1.   1. ]]\n",
      "b: [0. 0. 0. 0. 1.]\n",
      "[0.11494253 0.34482759 0.22988506 0.17241379 0.13793103]\n"
     ]
    }
   ],
   "execution_count": 22
  },
  {
   "metadata": {},
   "cell_type": "markdown",
   "source": "### Игра с двумя игроками",
   "id": "fdd8a2f43c8aecd0"
  },
  {
   "metadata": {},
   "cell_type": "code",
   "outputs": [],
   "execution_count": null,
   "source": [
    "p = 1/3 \n",
    "q = 1 - p\n",
    "A = 100\n",
    "B = 130"
   ],
   "id": "b40cbbd768773afe"
  },
  {
   "metadata": {},
   "cell_type": "code",
   "outputs": [],
   "execution_count": null,
   "source": [
    "import numpy.linalg as la\n",
    "SLAU = np.empty((m, m))\n",
    "b = np.empty(m)\n",
    "for i in range(A + B):\n",
    "    if i == A:\n",
    "        a = 0"
   ],
   "id": "8c01176a06f3b93b"
  },
  {
   "metadata": {},
   "cell_type": "markdown",
   "source": "### Гибель, рождение",
   "id": "dea8e2f81e086a2f"
  },
  {
   "metadata": {
    "ExecuteTime": {
     "end_time": "2025-03-25T08:56:00.957596Z",
     "start_time": "2025-03-25T08:56:00.951499Z"
    }
   },
   "cell_type": "code",
   "source": [
    "lmb = 1\n",
    "mu = 1\n",
    "N = 500\n",
    "pi_0 = (1 + lmb/mu) ** (-N)\n",
    "def pi_i(i):\n",
    "    return pi_0 * (lmb/mu) ** i"
   ],
   "id": "eec63bf9cf2c1b48",
   "outputs": [],
   "execution_count": 23
  }
 ],
 "metadata": {
  "kernelspec": {
   "display_name": "Python 3",
   "language": "python",
   "name": "python3"
  },
  "language_info": {
   "codemirror_mode": {
    "name": "ipython",
    "version": 2
   },
   "file_extension": ".py",
   "mimetype": "text/x-python",
   "name": "python",
   "nbconvert_exporter": "python",
   "pygments_lexer": "ipython2",
   "version": "2.7.6"
  }
 },
 "nbformat": 4,
 "nbformat_minor": 5
}
