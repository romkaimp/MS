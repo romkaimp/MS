{
 "cells": [
  {
   "metadata": {
    "ExecuteTime": {
     "end_time": "2025-03-05T14:14:13.501530Z",
     "start_time": "2025-03-05T14:14:13.496584Z"
    }
   },
   "cell_type": "code",
   "source": [
    "import numpy as np\n",
    "import numpy.linalg as la\n",
    "from graphviz import Digraph"
   ],
   "id": "7daa7e0c38ac4536",
   "outputs": [],
   "execution_count": 28
  },
  {
   "metadata": {
    "ExecuteTime": {
     "end_time": "2025-03-05T14:14:13.561099Z",
     "start_time": "2025-03-05T14:14:13.554197Z"
    }
   },
   "cell_type": "code",
   "source": [
    "m = 5\n",
    "k = 100\n",
    "n = 10000\n",
    "matrix = [[0 for i in range(m)] for j in range(m)]\n",
    "matrix[0][1] = 0.6\n",
    "matrix[1][2] = 0.2\n",
    "matrix[2][3] = 0.3\n",
    "matrix[3][4] = 0.4\n",
    "matrix[4][0] = 0.5"
   ],
   "id": "cd068bf0e8416649",
   "outputs": [],
   "execution_count": 29
  },
  {
   "metadata": {
    "ExecuteTime": {
     "end_time": "2025-03-05T14:14:13.588630Z",
     "start_time": "2025-03-05T14:14:13.581629Z"
    }
   },
   "cell_type": "code",
   "source": [
    "for i in range(m):\n",
    "    matrix[i][i] = 1 - sum(matrix[i])\n",
    "print(np.array(matrix))"
   ],
   "id": "ef1c36e8f955d3e3",
   "outputs": [
    {
     "name": "stdout",
     "output_type": "stream",
     "text": [
      "[[0.4 0.6 0.  0.  0. ]\n",
      " [0.  0.8 0.2 0.  0. ]\n",
      " [0.  0.  0.7 0.3 0. ]\n",
      " [0.  0.  0.  0.6 0.4]\n",
      " [0.5 0.  0.  0.  0.5]]\n"
     ]
    }
   ],
   "execution_count": 30
  },
  {
   "metadata": {
    "ExecuteTime": {
     "end_time": "2025-03-05T14:14:13.632260Z",
     "start_time": "2025-03-05T14:14:13.625261Z"
    }
   },
   "cell_type": "code",
   "source": [
    "def plot_graph(matrix):\n",
    "    dot = Digraph(format='png', engine='dot')\n",
    "    num_states = len(matrix)\n",
    "\n",
    "    for i in range(num_states):\n",
    "        dot.node(str(i), f\"State {i + 1}\")\n",
    "\n",
    "    for i in range(num_states):\n",
    "        for j in range(num_states):\n",
    "            prob = matrix[i][j]\n",
    "            if prob > 0:\n",
    "                dot.edge(str(i), str(j), label=f\"{prob:.2f}\")\n",
    "\n",
    "    dot.render('markov_chain', view=True)\n",
    "\n",
    "#plot_graph(matrix)"
   ],
   "id": "729538e0f67fc50f",
   "outputs": [],
   "execution_count": 31
  },
  {
   "metadata": {
    "ExecuteTime": {
     "end_time": "2025-03-05T14:14:13.679679Z",
     "start_time": "2025-03-05T14:14:13.671437Z"
    }
   },
   "cell_type": "code",
   "source": [
    "matrix = np.array(matrix)\n",
    "print(matrix)\n",
    "np.set_printoptions(precision=3, suppress=True)\n",
    "stationary_matrix = np.copy(matrix)\n",
    "for i in range(100):\n",
    "    stationary_matrix = stationary_matrix @ matrix\n",
    "print(\"matrix:\", stationary_matrix)\n",
    "print(\"matrix2:\", stationary_matrix@matrix)"
   ],
   "id": "42f56f77be2b0660",
   "outputs": [
    {
     "name": "stdout",
     "output_type": "stream",
     "text": [
      "[[0.4 0.6 0.  0.  0. ]\n",
      " [0.  0.8 0.2 0.  0. ]\n",
      " [0.  0.  0.7 0.3 0. ]\n",
      " [0.  0.  0.  0.6 0.4]\n",
      " [0.5 0.  0.  0.  0.5]]\n",
      "matrix: [[0.115 0.345 0.23  0.172 0.138]\n",
      " [0.115 0.345 0.23  0.172 0.138]\n",
      " [0.115 0.345 0.23  0.172 0.138]\n",
      " [0.115 0.345 0.23  0.172 0.138]\n",
      " [0.115 0.345 0.23  0.172 0.138]]\n",
      "matrix2: [[0.115 0.345 0.23  0.172 0.138]\n",
      " [0.115 0.345 0.23  0.172 0.138]\n",
      " [0.115 0.345 0.23  0.172 0.138]\n",
      " [0.115 0.345 0.23  0.172 0.138]\n",
      " [0.115 0.345 0.23  0.172 0.138]]\n"
     ]
    }
   ],
   "execution_count": 32
  },
  {
   "metadata": {
    "ExecuteTime": {
     "end_time": "2025-03-05T14:14:13.733698Z",
     "start_time": "2025-03-05T14:14:13.726698Z"
    }
   },
   "cell_type": "code",
   "source": [
    "def generate_initial_state(num_states, verbose=False):\n",
    "    r = np.random.rand(num_states - 1)\n",
    "    r = np.sort(r)\n",
    "    r = np.append(np.array([0]), r)\n",
    "    r = np.append(r, np.array([1]))\n",
    "    if verbose:\n",
    "        print(\"generated r:\", r)\n",
    "    r = np.diff(r)\n",
    "    if verbose:\n",
    "        print(\"differentiated r:\", r)\n",
    "    return r\n",
    "\n",
    "initial_state = generate_initial_state(m, verbose=True)"
   ],
   "id": "f53d3794fab10325",
   "outputs": [
    {
     "name": "stdout",
     "output_type": "stream",
     "text": [
      "generated r: [0.    0.014 0.315 0.582 0.765 1.   ]\n",
      "differentiated r: [0.014 0.3   0.268 0.183 0.235]\n"
     ]
    }
   ],
   "execution_count": 33
  },
  {
   "metadata": {
    "ExecuteTime": {
     "end_time": "2025-03-05T14:14:13.797008Z",
     "start_time": "2025-03-05T14:14:13.791006Z"
    }
   },
   "cell_type": "code",
   "source": [
    "p_k = initial_state @ la.matrix_power(matrix, k)\n",
    "print(p_k)"
   ],
   "id": "dfc56e88ced70f2c",
   "outputs": [
    {
     "name": "stdout",
     "output_type": "stream",
     "text": [
      "[0.115 0.345 0.23  0.172 0.138]\n"
     ]
    }
   ],
   "execution_count": 34
  },
  {
   "metadata": {
    "ExecuteTime": {
     "end_time": "2025-03-05T14:14:13.842488Z",
     "start_time": "2025-03-05T14:14:13.835671Z"
    }
   },
   "cell_type": "code",
   "source": [
    "def roll_state(p: list, verbose: False) -> int:\n",
    "    if verbose:\n",
    "        print(\"probabilities:\", p)\n",
    "    cumulated_p = np.cumsum(p)\n",
    "    if verbose:\n",
    "        print(\"cumulated p:\", cumulated_p)\n",
    "    k = np.random.rand(1)\n",
    "    if verbose:\n",
    "        print(\"random num:\", k)\n",
    "    for i, el in enumerate(cumulated_p):\n",
    "        if k < el:\n",
    "            if verbose:\n",
    "                print(\"->\", i+1, \"state\")\n",
    "            return i \n",
    "    "
   ],
   "id": "613a251d1150fa79",
   "outputs": [],
   "execution_count": 35
  },
  {
   "metadata": {
    "ExecuteTime": {
     "end_time": "2025-03-05T14:14:25.779930Z",
     "start_time": "2025-03-05T14:14:13.870951Z"
    }
   },
   "cell_type": "code",
   "source": [
    "trajectories = np.zeros((n, k + 1)) # timestamps {0,...,k}; trajectories {0,...,n - 1}\n",
    "p_states = np.zeros((n, k + 2, m)) # states {0 (initial),..., k+1 (on k step)}\n",
    "p_states[:, 0, :] = initial_state\n",
    "print(\"initial state:\", initial_state)\n",
    "for i in range(n):\n",
    "    for j in range(k + 1):\n",
    "        if i == 0:\n",
    "            verb = True\n",
    "        else:\n",
    "            verb = False\n",
    "        next_state = roll_state(p_states[i][j], verbose=verb) # index {0...m-1}\n",
    "        p_states[i, j + 1, :] = matrix[next_state]\n",
    "        trajectories[i, j] = next_state + 1\n",
    "print(trajectories[0, :])"
   ],
   "id": "e3a2979df846d445",
   "outputs": [
    {
     "name": "stdout",
     "output_type": "stream",
     "text": [
      "initial state: [0.014 0.3   0.268 0.183 0.235]\n",
      "probabilities: [0.014 0.3   0.268 0.183 0.235]\n",
      "cumulated p: [0.014 0.315 0.582 0.765 1.   ]\n",
      "random num: [0.74]\n",
      "-> 4 state\n",
      "probabilities: [0.  0.  0.  0.6 0.4]\n",
      "cumulated p: [0.  0.  0.  0.6 1. ]\n",
      "random num: [0.154]\n",
      "-> 4 state\n",
      "probabilities: [0.  0.  0.  0.6 0.4]\n",
      "cumulated p: [0.  0.  0.  0.6 1. ]\n",
      "random num: [0.219]\n",
      "-> 4 state\n",
      "probabilities: [0.  0.  0.  0.6 0.4]\n",
      "cumulated p: [0.  0.  0.  0.6 1. ]\n",
      "random num: [0.795]\n",
      "-> 5 state\n",
      "probabilities: [0.5 0.  0.  0.  0.5]\n",
      "cumulated p: [0.5 0.5 0.5 0.5 1. ]\n",
      "random num: [0.372]\n",
      "-> 1 state\n",
      "probabilities: [0.4 0.6 0.  0.  0. ]\n",
      "cumulated p: [0.4 1.  1.  1.  1. ]\n",
      "random num: [0.557]\n",
      "-> 2 state\n",
      "probabilities: [0.  0.8 0.2 0.  0. ]\n",
      "cumulated p: [0.  0.8 1.  1.  1. ]\n",
      "random num: [0.17]\n",
      "-> 2 state\n",
      "probabilities: [0.  0.8 0.2 0.  0. ]\n",
      "cumulated p: [0.  0.8 1.  1.  1. ]\n",
      "random num: [0.401]\n",
      "-> 2 state\n",
      "probabilities: [0.  0.8 0.2 0.  0. ]\n",
      "cumulated p: [0.  0.8 1.  1.  1. ]\n",
      "random num: [0.194]\n",
      "-> 2 state\n",
      "probabilities: [0.  0.8 0.2 0.  0. ]\n",
      "cumulated p: [0.  0.8 1.  1.  1. ]\n",
      "random num: [0.16]\n",
      "-> 2 state\n",
      "probabilities: [0.  0.8 0.2 0.  0. ]\n",
      "cumulated p: [0.  0.8 1.  1.  1. ]\n",
      "random num: [0.717]\n",
      "-> 2 state\n",
      "probabilities: [0.  0.8 0.2 0.  0. ]\n",
      "cumulated p: [0.  0.8 1.  1.  1. ]\n",
      "random num: [0.509]\n",
      "-> 2 state\n",
      "probabilities: [0.  0.8 0.2 0.  0. ]\n",
      "cumulated p: [0.  0.8 1.  1.  1. ]\n",
      "random num: [0.518]\n",
      "-> 2 state\n",
      "probabilities: [0.  0.8 0.2 0.  0. ]\n",
      "cumulated p: [0.  0.8 1.  1.  1. ]\n",
      "random num: [0.055]\n",
      "-> 2 state\n",
      "probabilities: [0.  0.8 0.2 0.  0. ]\n",
      "cumulated p: [0.  0.8 1.  1.  1. ]\n",
      "random num: [0.001]\n",
      "-> 2 state\n",
      "probabilities: [0.  0.8 0.2 0.  0. ]\n",
      "cumulated p: [0.  0.8 1.  1.  1. ]\n",
      "random num: [0.064]\n",
      "-> 2 state\n",
      "probabilities: [0.  0.8 0.2 0.  0. ]\n",
      "cumulated p: [0.  0.8 1.  1.  1. ]\n",
      "random num: [0.01]\n",
      "-> 2 state\n",
      "probabilities: [0.  0.8 0.2 0.  0. ]\n",
      "cumulated p: [0.  0.8 1.  1.  1. ]\n",
      "random num: [0.942]\n",
      "-> 3 state\n",
      "probabilities: [0.  0.  0.7 0.3 0. ]\n",
      "cumulated p: [0.  0.  0.7 1.  1. ]\n",
      "random num: [0.786]\n",
      "-> 4 state\n",
      "probabilities: [0.  0.  0.  0.6 0.4]\n",
      "cumulated p: [0.  0.  0.  0.6 1. ]\n",
      "random num: [0.466]\n",
      "-> 4 state\n",
      "probabilities: [0.  0.  0.  0.6 0.4]\n",
      "cumulated p: [0.  0.  0.  0.6 1. ]\n",
      "random num: [0.363]\n",
      "-> 4 state\n",
      "probabilities: [0.  0.  0.  0.6 0.4]\n",
      "cumulated p: [0.  0.  0.  0.6 1. ]\n",
      "random num: [0.502]\n",
      "-> 4 state\n",
      "probabilities: [0.  0.  0.  0.6 0.4]\n",
      "cumulated p: [0.  0.  0.  0.6 1. ]\n",
      "random num: [0.069]\n",
      "-> 4 state\n",
      "probabilities: [0.  0.  0.  0.6 0.4]\n",
      "cumulated p: [0.  0.  0.  0.6 1. ]\n",
      "random num: [0.762]\n",
      "-> 5 state\n",
      "probabilities: [0.5 0.  0.  0.  0.5]\n",
      "cumulated p: [0.5 0.5 0.5 0.5 1. ]\n",
      "random num: [0.214]\n",
      "-> 1 state\n",
      "probabilities: [0.4 0.6 0.  0.  0. ]\n",
      "cumulated p: [0.4 1.  1.  1.  1. ]\n",
      "random num: [0.992]\n",
      "-> 2 state\n",
      "probabilities: [0.  0.8 0.2 0.  0. ]\n",
      "cumulated p: [0.  0.8 1.  1.  1. ]\n",
      "random num: [0.953]\n",
      "-> 3 state\n",
      "probabilities: [0.  0.  0.7 0.3 0. ]\n",
      "cumulated p: [0.  0.  0.7 1.  1. ]\n",
      "random num: [0.415]\n",
      "-> 3 state\n",
      "probabilities: [0.  0.  0.7 0.3 0. ]\n",
      "cumulated p: [0.  0.  0.7 1.  1. ]\n",
      "random num: [0.915]\n",
      "-> 4 state\n",
      "probabilities: [0.  0.  0.  0.6 0.4]\n",
      "cumulated p: [0.  0.  0.  0.6 1. ]\n",
      "random num: [0.561]\n",
      "-> 4 state\n",
      "probabilities: [0.  0.  0.  0.6 0.4]\n",
      "cumulated p: [0.  0.  0.  0.6 1. ]\n",
      "random num: [0.238]\n",
      "-> 4 state\n",
      "probabilities: [0.  0.  0.  0.6 0.4]\n",
      "cumulated p: [0.  0.  0.  0.6 1. ]\n",
      "random num: [0.603]\n",
      "-> 5 state\n",
      "probabilities: [0.5 0.  0.  0.  0.5]\n",
      "cumulated p: [0.5 0.5 0.5 0.5 1. ]\n",
      "random num: [0.44]\n",
      "-> 1 state\n",
      "probabilities: [0.4 0.6 0.  0.  0. ]\n",
      "cumulated p: [0.4 1.  1.  1.  1. ]\n",
      "random num: [0.464]\n",
      "-> 2 state\n",
      "probabilities: [0.  0.8 0.2 0.  0. ]\n",
      "cumulated p: [0.  0.8 1.  1.  1. ]\n",
      "random num: [0.378]\n",
      "-> 2 state\n",
      "probabilities: [0.  0.8 0.2 0.  0. ]\n",
      "cumulated p: [0.  0.8 1.  1.  1. ]\n",
      "random num: [0.93]\n",
      "-> 3 state\n",
      "probabilities: [0.  0.  0.7 0.3 0. ]\n",
      "cumulated p: [0.  0.  0.7 1.  1. ]\n",
      "random num: [0.348]\n",
      "-> 3 state\n",
      "probabilities: [0.  0.  0.7 0.3 0. ]\n",
      "cumulated p: [0.  0.  0.7 1.  1. ]\n",
      "random num: [0.332]\n",
      "-> 3 state\n",
      "probabilities: [0.  0.  0.7 0.3 0. ]\n",
      "cumulated p: [0.  0.  0.7 1.  1. ]\n",
      "random num: [0.111]\n",
      "-> 3 state\n",
      "probabilities: [0.  0.  0.7 0.3 0. ]\n",
      "cumulated p: [0.  0.  0.7 1.  1. ]\n",
      "random num: [0.969]\n",
      "-> 4 state\n",
      "probabilities: [0.  0.  0.  0.6 0.4]\n",
      "cumulated p: [0.  0.  0.  0.6 1. ]\n",
      "random num: [0.711]\n",
      "-> 5 state\n",
      "probabilities: [0.5 0.  0.  0.  0.5]\n",
      "cumulated p: [0.5 0.5 0.5 0.5 1. ]\n",
      "random num: [0.486]\n",
      "-> 1 state\n",
      "probabilities: [0.4 0.6 0.  0.  0. ]\n",
      "cumulated p: [0.4 1.  1.  1.  1. ]\n",
      "random num: [0.378]\n",
      "-> 1 state\n",
      "probabilities: [0.4 0.6 0.  0.  0. ]\n",
      "cumulated p: [0.4 1.  1.  1.  1. ]\n",
      "random num: [0.912]\n",
      "-> 2 state\n",
      "probabilities: [0.  0.8 0.2 0.  0. ]\n",
      "cumulated p: [0.  0.8 1.  1.  1. ]\n",
      "random num: [0.918]\n",
      "-> 3 state\n",
      "probabilities: [0.  0.  0.7 0.3 0. ]\n",
      "cumulated p: [0.  0.  0.7 1.  1. ]\n",
      "random num: [0.257]\n",
      "-> 3 state\n",
      "probabilities: [0.  0.  0.7 0.3 0. ]\n",
      "cumulated p: [0.  0.  0.7 1.  1. ]\n",
      "random num: [0.399]\n",
      "-> 3 state\n",
      "probabilities: [0.  0.  0.7 0.3 0. ]\n",
      "cumulated p: [0.  0.  0.7 1.  1. ]\n",
      "random num: [0.08]\n",
      "-> 3 state\n",
      "probabilities: [0.  0.  0.7 0.3 0. ]\n",
      "cumulated p: [0.  0.  0.7 1.  1. ]\n",
      "random num: [0.642]\n",
      "-> 3 state\n",
      "probabilities: [0.  0.  0.7 0.3 0. ]\n",
      "cumulated p: [0.  0.  0.7 1.  1. ]\n",
      "random num: [0.784]\n",
      "-> 4 state\n",
      "probabilities: [0.  0.  0.  0.6 0.4]\n",
      "cumulated p: [0.  0.  0.  0.6 1. ]\n",
      "random num: [0.07]\n",
      "-> 4 state\n",
      "probabilities: [0.  0.  0.  0.6 0.4]\n",
      "cumulated p: [0.  0.  0.  0.6 1. ]\n",
      "random num: [0.951]\n",
      "-> 5 state\n",
      "probabilities: [0.5 0.  0.  0.  0.5]\n",
      "cumulated p: [0.5 0.5 0.5 0.5 1. ]\n",
      "random num: [0.936]\n",
      "-> 5 state\n",
      "probabilities: [0.5 0.  0.  0.  0.5]\n",
      "cumulated p: [0.5 0.5 0.5 0.5 1. ]\n",
      "random num: [0.661]\n",
      "-> 5 state\n",
      "probabilities: [0.5 0.  0.  0.  0.5]\n",
      "cumulated p: [0.5 0.5 0.5 0.5 1. ]\n",
      "random num: [0.339]\n",
      "-> 1 state\n",
      "probabilities: [0.4 0.6 0.  0.  0. ]\n",
      "cumulated p: [0.4 1.  1.  1.  1. ]\n",
      "random num: [0.725]\n",
      "-> 2 state\n",
      "probabilities: [0.  0.8 0.2 0.  0. ]\n",
      "cumulated p: [0.  0.8 1.  1.  1. ]\n",
      "random num: [0.745]\n",
      "-> 2 state\n",
      "probabilities: [0.  0.8 0.2 0.  0. ]\n",
      "cumulated p: [0.  0.8 1.  1.  1. ]\n",
      "random num: [0.246]\n",
      "-> 2 state\n",
      "probabilities: [0.  0.8 0.2 0.  0. ]\n",
      "cumulated p: [0.  0.8 1.  1.  1. ]\n",
      "random num: [0.233]\n",
      "-> 2 state\n",
      "probabilities: [0.  0.8 0.2 0.  0. ]\n",
      "cumulated p: [0.  0.8 1.  1.  1. ]\n",
      "random num: [0.156]\n",
      "-> 2 state\n",
      "probabilities: [0.  0.8 0.2 0.  0. ]\n",
      "cumulated p: [0.  0.8 1.  1.  1. ]\n",
      "random num: [0.577]\n",
      "-> 2 state\n",
      "probabilities: [0.  0.8 0.2 0.  0. ]\n",
      "cumulated p: [0.  0.8 1.  1.  1. ]\n",
      "random num: [0.212]\n",
      "-> 2 state\n",
      "probabilities: [0.  0.8 0.2 0.  0. ]\n",
      "cumulated p: [0.  0.8 1.  1.  1. ]\n",
      "random num: [0.742]\n",
      "-> 2 state\n",
      "probabilities: [0.  0.8 0.2 0.  0. ]\n",
      "cumulated p: [0.  0.8 1.  1.  1. ]\n",
      "random num: [0.081]\n",
      "-> 2 state\n",
      "probabilities: [0.  0.8 0.2 0.  0. ]\n",
      "cumulated p: [0.  0.8 1.  1.  1. ]\n",
      "random num: [0.708]\n",
      "-> 2 state\n",
      "probabilities: [0.  0.8 0.2 0.  0. ]\n",
      "cumulated p: [0.  0.8 1.  1.  1. ]\n",
      "random num: [0.95]\n",
      "-> 3 state\n",
      "probabilities: [0.  0.  0.7 0.3 0. ]\n",
      "cumulated p: [0.  0.  0.7 1.  1. ]\n",
      "random num: [0.431]\n",
      "-> 3 state\n",
      "probabilities: [0.  0.  0.7 0.3 0. ]\n",
      "cumulated p: [0.  0.  0.7 1.  1. ]\n",
      "random num: [0.216]\n",
      "-> 3 state\n",
      "probabilities: [0.  0.  0.7 0.3 0. ]\n",
      "cumulated p: [0.  0.  0.7 1.  1. ]\n",
      "random num: [0.642]\n",
      "-> 3 state\n",
      "probabilities: [0.  0.  0.7 0.3 0. ]\n",
      "cumulated p: [0.  0.  0.7 1.  1. ]\n",
      "random num: [0.182]\n",
      "-> 3 state\n",
      "probabilities: [0.  0.  0.7 0.3 0. ]\n",
      "cumulated p: [0.  0.  0.7 1.  1. ]\n",
      "random num: [0.142]\n",
      "-> 3 state\n",
      "probabilities: [0.  0.  0.7 0.3 0. ]\n",
      "cumulated p: [0.  0.  0.7 1.  1. ]\n",
      "random num: [0.217]\n",
      "-> 3 state\n",
      "probabilities: [0.  0.  0.7 0.3 0. ]\n",
      "cumulated p: [0.  0.  0.7 1.  1. ]\n",
      "random num: [0.885]\n",
      "-> 4 state\n",
      "probabilities: [0.  0.  0.  0.6 0.4]\n",
      "cumulated p: [0.  0.  0.  0.6 1. ]\n",
      "random num: [0.248]\n",
      "-> 4 state\n",
      "probabilities: [0.  0.  0.  0.6 0.4]\n",
      "cumulated p: [0.  0.  0.  0.6 1. ]\n",
      "random num: [0.742]\n",
      "-> 5 state\n",
      "probabilities: [0.5 0.  0.  0.  0.5]\n",
      "cumulated p: [0.5 0.5 0.5 0.5 1. ]\n",
      "random num: [0.433]\n",
      "-> 1 state\n",
      "probabilities: [0.4 0.6 0.  0.  0. ]\n",
      "cumulated p: [0.4 1.  1.  1.  1. ]\n",
      "random num: [0.698]\n",
      "-> 2 state\n",
      "probabilities: [0.  0.8 0.2 0.  0. ]\n",
      "cumulated p: [0.  0.8 1.  1.  1. ]\n",
      "random num: [0.368]\n",
      "-> 2 state\n",
      "probabilities: [0.  0.8 0.2 0.  0. ]\n",
      "cumulated p: [0.  0.8 1.  1.  1. ]\n",
      "random num: [0.905]\n",
      "-> 3 state\n",
      "probabilities: [0.  0.  0.7 0.3 0. ]\n",
      "cumulated p: [0.  0.  0.7 1.  1. ]\n",
      "random num: [0.628]\n",
      "-> 3 state\n",
      "probabilities: [0.  0.  0.7 0.3 0. ]\n",
      "cumulated p: [0.  0.  0.7 1.  1. ]\n",
      "random num: [0.482]\n",
      "-> 3 state\n",
      "probabilities: [0.  0.  0.7 0.3 0. ]\n",
      "cumulated p: [0.  0.  0.7 1.  1. ]\n",
      "random num: [0.454]\n",
      "-> 3 state\n",
      "probabilities: [0.  0.  0.7 0.3 0. ]\n",
      "cumulated p: [0.  0.  0.7 1.  1. ]\n",
      "random num: [0.001]\n",
      "-> 3 state\n",
      "probabilities: [0.  0.  0.7 0.3 0. ]\n",
      "cumulated p: [0.  0.  0.7 1.  1. ]\n",
      "random num: [0.421]\n",
      "-> 3 state\n",
      "probabilities: [0.  0.  0.7 0.3 0. ]\n",
      "cumulated p: [0.  0.  0.7 1.  1. ]\n",
      "random num: [0.036]\n",
      "-> 3 state\n",
      "probabilities: [0.  0.  0.7 0.3 0. ]\n",
      "cumulated p: [0.  0.  0.7 1.  1. ]\n",
      "random num: [0.867]\n",
      "-> 4 state\n",
      "probabilities: [0.  0.  0.  0.6 0.4]\n",
      "cumulated p: [0.  0.  0.  0.6 1. ]\n",
      "random num: [0.694]\n",
      "-> 5 state\n",
      "probabilities: [0.5 0.  0.  0.  0.5]\n",
      "cumulated p: [0.5 0.5 0.5 0.5 1. ]\n",
      "random num: [0.594]\n",
      "-> 5 state\n",
      "probabilities: [0.5 0.  0.  0.  0.5]\n",
      "cumulated p: [0.5 0.5 0.5 0.5 1. ]\n",
      "random num: [0.866]\n",
      "-> 5 state\n",
      "probabilities: [0.5 0.  0.  0.  0.5]\n",
      "cumulated p: [0.5 0.5 0.5 0.5 1. ]\n",
      "random num: [0.607]\n",
      "-> 5 state\n",
      "probabilities: [0.5 0.  0.  0.  0.5]\n",
      "cumulated p: [0.5 0.5 0.5 0.5 1. ]\n",
      "random num: [0.512]\n",
      "-> 5 state\n",
      "probabilities: [0.5 0.  0.  0.  0.5]\n",
      "cumulated p: [0.5 0.5 0.5 0.5 1. ]\n",
      "random num: [0.462]\n",
      "-> 1 state\n",
      "probabilities: [0.4 0.6 0.  0.  0. ]\n",
      "cumulated p: [0.4 1.  1.  1.  1. ]\n",
      "random num: [0.814]\n",
      "-> 2 state\n",
      "probabilities: [0.  0.8 0.2 0.  0. ]\n",
      "cumulated p: [0.  0.8 1.  1.  1. ]\n",
      "random num: [0.927]\n",
      "-> 3 state\n",
      "probabilities: [0.  0.  0.7 0.3 0. ]\n",
      "cumulated p: [0.  0.  0.7 1.  1. ]\n",
      "random num: [0.956]\n",
      "-> 4 state\n",
      "probabilities: [0.  0.  0.  0.6 0.4]\n",
      "cumulated p: [0.  0.  0.  0.6 1. ]\n",
      "random num: [0.391]\n",
      "-> 4 state\n",
      "probabilities: [0.  0.  0.  0.6 0.4]\n",
      "cumulated p: [0.  0.  0.  0.6 1. ]\n",
      "random num: [0.231]\n",
      "-> 4 state\n",
      "probabilities: [0.  0.  0.  0.6 0.4]\n",
      "cumulated p: [0.  0.  0.  0.6 1. ]\n",
      "random num: [0.455]\n",
      "-> 4 state\n",
      "probabilities: [0.  0.  0.  0.6 0.4]\n",
      "cumulated p: [0.  0.  0.  0.6 1. ]\n",
      "random num: [0.023]\n",
      "-> 4 state\n",
      "probabilities: [0.  0.  0.  0.6 0.4]\n",
      "cumulated p: [0.  0.  0.  0.6 1. ]\n",
      "random num: [0.648]\n",
      "-> 5 state\n",
      "probabilities: [0.5 0.  0.  0.  0.5]\n",
      "cumulated p: [0.5 0.5 0.5 0.5 1. ]\n",
      "random num: [0.015]\n",
      "-> 1 state\n",
      "[4. 4. 4. 5. 1. 2. 2. 2. 2. 2. 2. 2. 2. 2. 2. 2. 2. 3. 4. 4. 4. 4. 4. 5.\n",
      " 1. 2. 3. 3. 4. 4. 4. 5. 1. 2. 2. 3. 3. 3. 3. 4. 5. 1. 1. 2. 3. 3. 3. 3.\n",
      " 3. 4. 4. 5. 5. 5. 1. 2. 2. 2. 2. 2. 2. 2. 2. 2. 2. 3. 3. 3. 3. 3. 3. 3.\n",
      " 4. 4. 5. 1. 2. 2. 3. 3. 3. 3. 3. 3. 3. 4. 5. 5. 5. 5. 5. 1. 2. 3. 4. 4.\n",
      " 4. 4. 4. 5. 1.]\n"
     ]
    }
   ],
   "execution_count": 36
  },
  {
   "metadata": {
    "ExecuteTime": {
     "end_time": "2025-03-05T14:14:25.846791Z",
     "start_time": "2025-03-05T14:14:25.839788Z"
    }
   },
   "cell_type": "code",
   "source": [
    "_, state_counts = np.unique(trajectories[:, k], return_counts=True)\n",
    "p_states_on_k_step = state_counts / sum(state_counts)\n",
    "print(\"empirical:\", p_states_on_k_step)\n",
    "print(\"theoretical:\", p_k)"
   ],
   "id": "2552275621a2e9a3",
   "outputs": [
    {
     "name": "stdout",
     "output_type": "stream",
     "text": [
      "empirical: [0.122 0.349 0.226 0.17  0.133]\n",
      "theoretical: [0.115 0.345 0.23  0.172 0.138]\n"
     ]
    }
   ],
   "execution_count": 37
  },
  {
   "metadata": {
    "ExecuteTime": {
     "end_time": "2025-03-05T14:14:25.895016Z",
     "start_time": "2025-03-05T14:14:25.887567Z"
    }
   },
   "cell_type": "code",
   "source": [
    "SLAU = np.empty((m, m))\n",
    "b = np.empty(m)\n",
    "for i in range(m - 1):\n",
    "    for j in range(m):\n",
    "        SLAU[i, j] = matrix[j][i]\n",
    "    b[i] = 0\n",
    "    SLAU[i, i] -= 1\n",
    "# normalizing\n",
    "for i in range(m):\n",
    "    SLAU[-1, i] = 1\n",
    "b[-1] = 1\n",
    "print(\"SLAU:\", SLAU)\n",
    "print(\"b:\", b)"
   ],
   "id": "8a1ba7a86e794212",
   "outputs": [
    {
     "name": "stdout",
     "output_type": "stream",
     "text": [
      "SLAU: [[-0.6  0.   0.   0.   0.5]\n",
      " [ 0.6 -0.2  0.   0.   0. ]\n",
      " [ 0.   0.2 -0.3  0.   0. ]\n",
      " [ 0.   0.   0.3 -0.4  0. ]\n",
      " [ 1.   1.   1.   1.   1. ]]\n",
      "b: [0. 0. 0. 0. 1.]\n"
     ]
    }
   ],
   "execution_count": 38
  },
  {
   "metadata": {
    "ExecuteTime": {
     "end_time": "2025-03-05T14:14:26.020812Z",
     "start_time": "2025-03-05T14:14:26.014752Z"
    }
   },
   "cell_type": "code",
   "source": [
    "stationary_probs = la.solve(SLAU, b)\n",
    "print(stationary_probs)\n",
    "print(p_k)"
   ],
   "id": "ce33565019330518",
   "outputs": [
    {
     "name": "stdout",
     "output_type": "stream",
     "text": [
      "[0.115 0.345 0.23  0.172 0.138]\n",
      "[0.115 0.345 0.23  0.172 0.138]\n"
     ]
    }
   ],
   "execution_count": 39
  },
  {
   "metadata": {
    "ExecuteTime": {
     "end_time": "2025-03-05T14:14:26.153402Z",
     "start_time": "2025-03-05T14:14:26.147677Z"
    }
   },
   "cell_type": "code",
   "source": "print(stationary_matrix)",
   "id": "4296b2956f478dee",
   "outputs": [
    {
     "name": "stdout",
     "output_type": "stream",
     "text": [
      "[[0.115 0.345 0.23  0.172 0.138]\n",
      " [0.115 0.345 0.23  0.172 0.138]\n",
      " [0.115 0.345 0.23  0.172 0.138]\n",
      " [0.115 0.345 0.23  0.172 0.138]\n",
      " [0.115 0.345 0.23  0.172 0.138]]\n"
     ]
    }
   ],
   "execution_count": 40
  }
 ],
 "metadata": {
  "kernelspec": {
   "display_name": "Python 3",
   "language": "python",
   "name": "python3"
  },
  "language_info": {
   "codemirror_mode": {
    "name": "ipython",
    "version": 2
   },
   "file_extension": ".py",
   "mimetype": "text/x-python",
   "name": "python",
   "nbconvert_exporter": "python",
   "pygments_lexer": "ipython2",
   "version": "2.7.6"
  }
 },
 "nbformat": 4,
 "nbformat_minor": 5
}
