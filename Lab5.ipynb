{
 "cells": [
  {
   "cell_type": "code",
   "id": "initial_id",
   "metadata": {
    "collapsed": true,
    "ExecuteTime": {
     "end_time": "2024-10-29T15:55:12.183512Z",
     "start_time": "2024-10-29T15:55:12.178935Z"
    }
   },
   "source": [
    "import math\n",
    "import pandas as pd\n",
    "import numpy as np\n",
    "import matplotlib.pyplot as plt\n",
    "from scipy.interpolate import make_interp_spline\n",
    "from scipy.special import gamma\n",
    "from sympy import diff, symbols, integrate, Rational, solve, Pow, limit\n",
    "from scipy.integrate import quad\n",
    "from numpy.random import normal\n",
    "from scipy.stats import beta, norm"
   ],
   "outputs": [],
   "execution_count": 15
  },
  {
   "metadata": {
    "ExecuteTime": {
     "end_time": "2024-10-29T15:55:12.208383Z",
     "start_time": "2024-10-29T15:55:12.204519Z"
    }
   },
   "cell_type": "code",
   "source": "k, p, n = 3, 1/2, 160",
   "id": "ef0b66703a08b49e",
   "outputs": [],
   "execution_count": 16
  },
  {
   "metadata": {
    "ExecuteTime": {
     "end_time": "2024-10-29T15:55:12.235501Z",
     "start_time": "2024-10-29T15:55:12.229354Z"
    }
   },
   "cell_type": "code",
   "source": [
    "def comb(n, k):\n",
    "    return math.factorial(k)/(math.factorial(k-n)*math.factorial(n))\n",
    "Pk = [comb(j, k)*p**j*(1-p)**(k-j) for j in range(k+1)]\n",
    "Uk = [sum(Pk[:i+1]) for i in range(len(Pk))]\n",
    "print(Pk, Uk)\n",
    "\n",
    "X = np.empty(n)\n",
    "for i in range(n):\n",
    "    p_val = np.random.rand()\n",
    "    for j, value in enumerate(Uk):\n",
    "        if p_val < value:\n",
    "            X[i] = (j)\n",
    "            break          \n",
    "X = sorted(X)     \n",
    "print(X)"
   ],
   "id": "e6ffdd1441213b51",
   "outputs": [
    {
     "name": "stdout",
     "output_type": "stream",
     "text": [
      "[0.125, 0.375, 0.375, 0.125] [0.125, 0.5, 0.875, 1.0]\n",
      "[np.float64(0.0), np.float64(0.0), np.float64(0.0), np.float64(0.0), np.float64(0.0), np.float64(0.0), np.float64(0.0), np.float64(0.0), np.float64(0.0), np.float64(0.0), np.float64(0.0), np.float64(0.0), np.float64(0.0), np.float64(0.0), np.float64(0.0), np.float64(0.0), np.float64(0.0), np.float64(0.0), np.float64(0.0), np.float64(0.0), np.float64(0.0), np.float64(0.0), np.float64(0.0), np.float64(0.0), np.float64(1.0), np.float64(1.0), np.float64(1.0), np.float64(1.0), np.float64(1.0), np.float64(1.0), np.float64(1.0), np.float64(1.0), np.float64(1.0), np.float64(1.0), np.float64(1.0), np.float64(1.0), np.float64(1.0), np.float64(1.0), np.float64(1.0), np.float64(1.0), np.float64(1.0), np.float64(1.0), np.float64(1.0), np.float64(1.0), np.float64(1.0), np.float64(1.0), np.float64(1.0), np.float64(1.0), np.float64(1.0), np.float64(1.0), np.float64(1.0), np.float64(1.0), np.float64(1.0), np.float64(1.0), np.float64(1.0), np.float64(1.0), np.float64(1.0), np.float64(1.0), np.float64(1.0), np.float64(1.0), np.float64(1.0), np.float64(1.0), np.float64(1.0), np.float64(1.0), np.float64(1.0), np.float64(1.0), np.float64(1.0), np.float64(1.0), np.float64(1.0), np.float64(1.0), np.float64(1.0), np.float64(1.0), np.float64(1.0), np.float64(1.0), np.float64(1.0), np.float64(1.0), np.float64(1.0), np.float64(1.0), np.float64(1.0), np.float64(1.0), np.float64(1.0), np.float64(1.0), np.float64(1.0), np.float64(1.0), np.float64(1.0), np.float64(1.0), np.float64(1.0), np.float64(1.0), np.float64(1.0), np.float64(1.0), np.float64(2.0), np.float64(2.0), np.float64(2.0), np.float64(2.0), np.float64(2.0), np.float64(2.0), np.float64(2.0), np.float64(2.0), np.float64(2.0), np.float64(2.0), np.float64(2.0), np.float64(2.0), np.float64(2.0), np.float64(2.0), np.float64(2.0), np.float64(2.0), np.float64(2.0), np.float64(2.0), np.float64(2.0), np.float64(2.0), np.float64(2.0), np.float64(2.0), np.float64(2.0), np.float64(2.0), np.float64(2.0), np.float64(2.0), np.float64(2.0), np.float64(2.0), np.float64(2.0), np.float64(2.0), np.float64(2.0), np.float64(2.0), np.float64(2.0), np.float64(2.0), np.float64(2.0), np.float64(2.0), np.float64(2.0), np.float64(2.0), np.float64(2.0), np.float64(2.0), np.float64(2.0), np.float64(2.0), np.float64(2.0), np.float64(2.0), np.float64(2.0), np.float64(2.0), np.float64(2.0), np.float64(2.0), np.float64(2.0), np.float64(2.0), np.float64(2.0), np.float64(2.0), np.float64(2.0), np.float64(2.0), np.float64(2.0), np.float64(2.0), np.float64(3.0), np.float64(3.0), np.float64(3.0), np.float64(3.0), np.float64(3.0), np.float64(3.0), np.float64(3.0), np.float64(3.0), np.float64(3.0), np.float64(3.0), np.float64(3.0), np.float64(3.0), np.float64(3.0), np.float64(3.0)]\n"
     ]
    }
   ],
   "execution_count": 17
  },
  {
   "metadata": {
    "ExecuteTime": {
     "end_time": "2024-10-29T15:55:12.306425Z",
     "start_time": "2024-10-29T15:55:12.300292Z"
    }
   },
   "cell_type": "code",
   "source": [
    "alpha = 0.02\n",
    "e_x = np.mean(X)\n",
    "Kx = e_x * n\n",
    "Beta1 = beta(a=np.sum(X), b=n*k - np.sum(X) + 1)\n",
    "Beta2 = beta(a=np.sum(X)+1, b=n*k-np.sum(X))\n",
    "\n",
    "p1 = Beta1.ppf(q=alpha/2)\n",
    "p2 = Beta2.ppf(q=1-alpha/2)\n",
    "print(p1, p2)"
   ],
   "id": "d18a3c7fd0cc5704",
   "outputs": [
    {
     "name": "stdout",
     "output_type": "stream",
     "text": [
      "0.40491887671269117 0.5124474083043193\n"
     ]
    }
   ],
   "execution_count": 18
  },
  {
   "metadata": {
    "ExecuteTime": {
     "end_time": "2024-10-29T15:55:12.415109Z",
     "start_time": "2024-10-29T15:55:12.409513Z"
    }
   },
   "cell_type": "code",
   "source": [
    "NormStd = norm(0, 1)\n",
    "prl = e_x/k + NormStd.ppf(alpha/2)/(k*(n*k)**0.5)*(e_x*(k-e_x))**0.5\n",
    "prr = e_x/k + NormStd.ppf(1 - alpha/2)/(k*(n*k)**0.5)*(e_x*(k-e_x))**0.5\n",
    "print(prl, prr)"
   ],
   "id": "6fe965e426062df8",
   "outputs": [
    {
     "name": "stdout",
     "output_type": "stream",
     "text": [
      "0.40542661594103535 0.5112400507256313\n"
     ]
    }
   ],
   "execution_count": 19
  },
  {
   "metadata": {
    "ExecuteTime": {
     "end_time": "2024-10-29T15:55:12.662675Z",
     "start_time": "2024-10-29T15:55:12.550895Z"
    }
   },
   "cell_type": "code",
   "source": [
    "Pk1 = [comb(j, k)*p1**j*(1-p1)**(k-j) for j in range(k+1)]\n",
    "Uk1 = [sum(Pk1[:i+1]) for i in range(len(Pk1))]\n",
    "print(Uk1)\n",
    "\n",
    "Pk2 = [comb(j, k) * p2 ** j * (1 - p2) ** (k - j) for j in range(k + 1)]\n",
    "Uk2 = [sum(Pk2[:i + 1]) for i in range(len(Pk2))]\n",
    "print(Uk2)\n",
    "\n",
    "P, bars, _ = plt.hist(X, bins=k+1)\n",
    "P = P/sum(P)\n",
    "F = [sum(P[:i+1]) for i in range(k+1)]\n",
    "print(F)\n",
    "plt.close()\n",
    "plt.step([i for i in range(k+2)], [0, *F], color=\"red\")\n",
    "plt.step([i for i in range(k+2)], [0, *Uk1], color=\"blue\", linestyle=\"dashed\")\n",
    "plt.step([i for i in range(k+2)], [0, *Uk2], color=\"green\", linestyle=\"dashed\")"
   ],
   "id": "76b95566b79a248e",
   "outputs": [
    {
     "name": "stdout",
     "output_type": "stream",
     "text": [
      "[np.float64(0.21073104576296547), np.float64(0.6409025383527246), np.float64(0.9336097857462361), np.float64(0.9999999999999999)]\n",
      "[np.float64(0.11589492215578422), np.float64(0.4813327446959569), np.float64(0.8654301082353009), np.float64(1.0)]\n",
      "[np.float64(0.15), np.float64(0.5625), np.float64(0.9125), np.float64(1.0)]\n"
     ]
    },
    {
     "data": {
      "text/plain": [
       "[<matplotlib.lines.Line2D at 0x1dce179dbe0>]"
      ]
     },
     "execution_count": 20,
     "metadata": {},
     "output_type": "execute_result"
    },
    {
     "data": {
      "text/plain": [
       "<Figure size 640x480 with 1 Axes>"
      ],
      "image/png": "[encoded data removed]"
     },
     "metadata": {},
     "output_type": "display_data"
    }
   ],
   "execution_count": 20
  },
  {
   "metadata": {},
   "cell_type": "markdown",
   "source": [
    "## ЦПТ\n",
    "![Доверительный интервал](./5_1.png) <br>\n",
    "![Доверительный интервал](./5_2.png) <br>\n",
    "![Доверительный интервал](./5_3.png) <br>\n",
    "![Доверительный интервал](./5_4.png) <br>\n"
   ],
   "id": "380b69b733bf8b49"
  },
  {
   "metadata": {
    "ExecuteTime": {
     "end_time": "2024-10-29T15:55:12.715170Z",
     "start_time": "2024-10-29T15:55:12.709747Z"
    }
   },
   "cell_type": "code",
   "source": [
    "NormStd = norm(0, 1)\n",
    "prl = e_x/k + NormStd.ppf(alpha/2)/(k*(n*k)**0.5)*(e_x*(k-e_x))**0.5\n",
    "prr = e_x/k + NormStd.ppf(1 - alpha/2)/(k*(n*k)**0.5)*(e_x*(k-e_x))**0.5\n",
    "print(prl, prr)"
   ],
   "id": "f081e4f489ca3d34",
   "outputs": [
    {
     "name": "stdout",
     "output_type": "stream",
     "text": [
      "0.40542661594103535 0.5112400507256313\n"
     ]
    }
   ],
   "execution_count": 21
  },
  {
   "metadata": {
    "ExecuteTime": {
     "end_time": "2024-10-29T15:55:12.888002Z",
     "start_time": "2024-10-29T15:55:12.776945Z"
    }
   },
   "cell_type": "code",
   "source": [
    "Pk1 = [comb(j, k)*prl**j*(1-prl)**(k-j) for j in range(k+1)]\n",
    "Uk1 = [sum(Pk1[:i+1]) for i in range(len(Pk1))]\n",
    "print(Uk1)\n",
    "\n",
    "Pk2 = [comb(j, k) * prr ** j * (1 - prr) ** (k - j) for j in range(k + 1)]\n",
    "Uk2 = [sum(Pk2[:i + 1]) for i in range(len(Pk2))]\n",
    "print(Uk2)\n",
    "\n",
    "P, bars, _ = plt.hist(X, bins=k+1)\n",
    "P = P/sum(P)\n",
    "F = [sum(P[:i+1]) for i in range(k+1)]\n",
    "print(F)\n",
    "plt.close()\n",
    "plt.step([i for i in range(k+2)], [0, *F], color=\"red\")\n",
    "plt.step([i for i in range(k+2)], [0, *Uk1], color=\"blue\", linestyle=\"dashed\")\n",
    "plt.step([i for i in range(k+2)], [0, *Uk2], color=\"green\", linestyle=\"dashed\")"
   ],
   "id": "4eb57c3304be33b9",
   "outputs": [
    {
     "name": "stdout",
     "output_type": "stream",
     "text": [
      "[np.float64(0.21019210166885294), np.float64(0.6401683237562814), np.float64(0.9333597267517597), np.float64(1.0)]\n",
      "[np.float64(0.11675805001239893), np.float64(0.4831427640192526), np.float64(0.8663790337914546), np.float64(1.0)]\n",
      "[np.float64(0.15), np.float64(0.5625), np.float64(0.9125), np.float64(1.0)]\n"
     ]
    },
    {
     "data": {
      "text/plain": [
       "[<matplotlib.lines.Line2D at 0x1dce199d070>]"
      ]
     },
     "execution_count": 22,
     "metadata": {},
     "output_type": "execute_result"
    },
    {
     "data": {
      "text/plain": [
       "<Figure size 640x480 with 1 Axes>"
      ],
      "image/png": "[encoded data removed]"
     },
     "metadata": {},
     "output_type": "display_data"
    }
   ],
   "execution_count": 22
  }
 ],
 "metadata": {
  "kernelspec": {
   "display_name": "Python 3",
   "language": "python",
   "name": "python3"
  },
  "language_info": {
   "codemirror_mode": {
    "name": "ipython",
    "version": 2
   },
   "file_extension": ".py",
   "mimetype": "text/x-python",
   "name": "python",
   "nbconvert_exporter": "python",
   "pygments_lexer": "ipython2",
   "version": "2.7.6"
  }
 },
 "nbformat": 4,
 "nbformat_minor": 5
}
