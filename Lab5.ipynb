{
 "cells": [
  {
   "cell_type": "code",
   "id": "initial_id",
   "metadata": {
    "collapsed": true,
    "ExecuteTime": {
     "end_time": "2024-10-25T13:18:25.800260Z",
     "start_time": "2024-10-25T13:18:22.486655Z"
    }
   },
   "source": [
    "import math\n",
    "import pandas as pd\n",
    "import numpy as np\n",
    "import matplotlib.pyplot as plt\n",
    "from scipy.interpolate import make_interp_spline\n",
    "from scipy.special import gamma\n",
    "from sympy import diff, symbols, integrate, Rational, solve, Pow, limit\n",
    "from scipy.integrate import quad\n",
    "from numpy.random import normal\n",
    "from scipy.stats import beta, norm"
   ],
   "outputs": [],
   "execution_count": 1
  },
  {
   "metadata": {
    "ExecuteTime": {
     "end_time": "2024-10-25T13:18:25.827624Z",
     "start_time": "2024-10-25T13:18:25.823269Z"
    }
   },
   "cell_type": "code",
   "source": "k, p, n = 3, 1/2, 160",
   "id": "ef0b66703a08b49e",
   "outputs": [],
   "execution_count": 2
  },
  {
   "metadata": {
    "ExecuteTime": {
     "end_time": "2024-10-25T13:18:26.197208Z",
     "start_time": "2024-10-25T13:18:26.186368Z"
    }
   },
   "cell_type": "code",
   "source": [
    "def comb(n, k):\n",
    "    return math.factorial(k)/(math.factorial(k-n)*math.factorial(n))\n",
    "Pk = [comb(j, k)*p**j*(1-p)**(k-j) for j in range(k+1)]\n",
    "Uk = [sum(Pk[:i+1]) for i in range(len(Pk))]\n",
    "print(Pk, Uk)\n",
    "\n",
    "X = np.empty(n)\n",
    "for i in range(n):\n",
    "    p_val = np.random.rand()\n",
    "    for j, value in enumerate(Uk):\n",
    "        if p_val < value:\n",
    "            X[i] = (j)\n",
    "            break          \n",
    "X = sorted(X)     \n",
    "print(X)"
   ],
   "id": "e6ffdd1441213b51",
   "outputs": [
    {
     "name": "stdout",
     "output_type": "stream",
     "text": [
      "[0.125, 0.375, 0.375, 0.125] [0.125, 0.5, 0.875, 1.0]\n",
      "[np.float64(0.0), np.float64(0.0), np.float64(0.0), np.float64(0.0), np.float64(0.0), np.float64(0.0), np.float64(0.0), np.float64(0.0), np.float64(0.0), np.float64(0.0), np.float64(0.0), np.float64(0.0), np.float64(0.0), np.float64(0.0), np.float64(0.0), np.float64(0.0), np.float64(0.0), np.float64(0.0), np.float64(0.0), np.float64(0.0), np.float64(1.0), np.float64(1.0), np.float64(1.0), np.float64(1.0), np.float64(1.0), np.float64(1.0), np.float64(1.0), np.float64(1.0), np.float64(1.0), np.float64(1.0), np.float64(1.0), np.float64(1.0), np.float64(1.0), np.float64(1.0), np.float64(1.0), np.float64(1.0), np.float64(1.0), np.float64(1.0), np.float64(1.0), np.float64(1.0), np.float64(1.0), np.float64(1.0), np.float64(1.0), np.float64(1.0), np.float64(1.0), np.float64(1.0), np.float64(1.0), np.float64(1.0), np.float64(1.0), np.float64(1.0), np.float64(1.0), np.float64(1.0), np.float64(1.0), np.float64(1.0), np.float64(1.0), np.float64(1.0), np.float64(1.0), np.float64(1.0), np.float64(1.0), np.float64(1.0), np.float64(1.0), np.float64(1.0), np.float64(1.0), np.float64(1.0), np.float64(2.0), np.float64(2.0), np.float64(2.0), np.float64(2.0), np.float64(2.0), np.float64(2.0), np.float64(2.0), np.float64(2.0), np.float64(2.0), np.float64(2.0), np.float64(2.0), np.float64(2.0), np.float64(2.0), np.float64(2.0), np.float64(2.0), np.float64(2.0), np.float64(2.0), np.float64(2.0), np.float64(2.0), np.float64(2.0), np.float64(2.0), np.float64(2.0), np.float64(2.0), np.float64(2.0), np.float64(2.0), np.float64(2.0), np.float64(2.0), np.float64(2.0), np.float64(2.0), np.float64(2.0), np.float64(2.0), np.float64(2.0), np.float64(2.0), np.float64(2.0), np.float64(2.0), np.float64(2.0), np.float64(2.0), np.float64(2.0), np.float64(2.0), np.float64(2.0), np.float64(2.0), np.float64(2.0), np.float64(2.0), np.float64(2.0), np.float64(2.0), np.float64(2.0), np.float64(2.0), np.float64(2.0), np.float64(2.0), np.float64(2.0), np.float64(2.0), np.float64(2.0), np.float64(2.0), np.float64(2.0), np.float64(2.0), np.float64(2.0), np.float64(2.0), np.float64(2.0), np.float64(2.0), np.float64(2.0), np.float64(2.0), np.float64(2.0), np.float64(2.0), np.float64(2.0), np.float64(2.0), np.float64(2.0), np.float64(2.0), np.float64(2.0), np.float64(2.0), np.float64(2.0), np.float64(2.0), np.float64(2.0), np.float64(2.0), np.float64(2.0), np.float64(3.0), np.float64(3.0), np.float64(3.0), np.float64(3.0), np.float64(3.0), np.float64(3.0), np.float64(3.0), np.float64(3.0), np.float64(3.0), np.float64(3.0), np.float64(3.0), np.float64(3.0), np.float64(3.0), np.float64(3.0), np.float64(3.0), np.float64(3.0), np.float64(3.0), np.float64(3.0), np.float64(3.0), np.float64(3.0), np.float64(3.0), np.float64(3.0)]\n"
     ]
    }
   ],
   "execution_count": 3
  },
  {
   "metadata": {
    "ExecuteTime": {
     "end_time": "2024-10-25T13:18:26.247462Z",
     "start_time": "2024-10-25T13:18:26.230454Z"
    }
   },
   "cell_type": "code",
   "source": [
    "alpha = 0.02\n",
    "mex = np.mean(X)\n",
    "Kx = mex * n\n",
    "Beta1 = beta(a=np.sum(X), b=n*k - np.sum(X) + 1)\n",
    "Beta2 = beta(a=np.sum(X)+1, b=n*k-np.sum(X))\n",
    "\n",
    "p1 = Beta1.ppf(q=alpha/2)\n",
    "p2 = Beta2.ppf(q=1-alpha/2)\n",
    "print(p1, p2)"
   ],
   "id": "d18a3c7fd0cc5704",
   "outputs": [
    {
     "name": "stdout",
     "output_type": "stream",
     "text": [
      "0.48338601241956 0.5909843415326962\n"
     ]
    }
   ],
   "execution_count": 4
  },
  {
   "metadata": {
    "ExecuteTime": {
     "end_time": "2024-10-25T13:18:26.292822Z",
     "start_time": "2024-10-25T13:18:26.285157Z"
    }
   },
   "cell_type": "code",
   "source": [
    "NormStd = norm(0, 1)\n",
    "prl = mex/k + NormStd.ppf(alpha/2)/(k*(n*k)**0.5)*(mex*(k-mex))**0.5\n",
    "prr = mex/k + NormStd.ppf(1 - alpha/2)/(k*(n*k)**0.5)*(mex*(k-mex))**0.5\n",
    "print(prl, prr)"
   ],
   "id": "6fe965e426062df8",
   "outputs": [
    {
     "name": "stdout",
     "output_type": "stream",
     "text": [
      "0.4845581464556806 0.5904418535443193\n"
     ]
    }
   ],
   "execution_count": 5
  },
  {
   "metadata": {
    "ExecuteTime": {
     "end_time": "2024-10-25T13:18:26.545749Z",
     "start_time": "2024-10-25T13:18:26.312Z"
    }
   },
   "cell_type": "code",
   "source": [
    "Pk1 = [comb(j, k)*p1**j*(1-p1)**(k-j) for j in range(k+1)]\n",
    "Uk1 = [sum(Pk1[:i+1]) for i in range(len(Pk1))]\n",
    "print(Uk1)\n",
    "\n",
    "Pk2 = [comb(j, k) * p2 ** j * (1 - p2) ** (k - j) for j in range(k + 1)]\n",
    "Uk2 = [sum(Pk2[:i + 1]) for i in range(len(Pk2))]\n",
    "print(Uk2)\n",
    "\n",
    "P, bars, _ = plt.hist(X, bins=k+1)\n",
    "P = P/sum(P)\n",
    "F = [sum(P[:i+1]) for i in range(k+1)]\n",
    "print(F)\n",
    "plt.close()\n",
    "plt.step([i for i in range(k+2)], [0, *F], color=\"red\")\n",
    "plt.step([i for i in range(k+2)], [0, *Uk1], color=\"blue\", linestyle=\"dashed\")\n",
    "plt.step([i for i in range(k+2)], [0, *Uk2], color=\"green\", linestyle=\"dashed\")"
   ],
   "id": "76b95566b79a248e",
   "outputs": [
    {
     "name": "stdout",
     "output_type": "stream",
     "text": [
      "[np.float64(0.1378791134293138), np.float64(0.5249118096326617), np.float64(0.8870510396793448), np.float64(1.0000000000000002)]\n",
      "[np.float64(0.06842578739305617), np.float64(0.36502985182821407), np.float64(0.7935913361806413), np.float64(1.0)]\n",
      "[np.float64(0.125), np.float64(0.4), np.float64(0.8625), np.float64(1.0)]\n"
     ]
    },
    {
     "data": {
      "text/plain": [
       "[<matplotlib.lines.Line2D at 0x24877404950>]"
      ]
     },
     "execution_count": 6,
     "metadata": {},
     "output_type": "execute_result"
    },
    {
     "data": {
      "text/plain": [
       "<Figure size 640x480 with 1 Axes>"
      ],
      "image/png": "[encoded data removed]"
     },
     "metadata": {},
     "output_type": "display_data"
    }
   ],
   "execution_count": 6
  }
 ],
 "metadata": {
  "kernelspec": {
   "display_name": "Python 3",
   "language": "python",
   "name": "python3"
  },
  "language_info": {
   "codemirror_mode": {
    "name": "ipython",
    "version": 2
   },
   "file_extension": ".py",
   "mimetype": "text/x-python",
   "name": "python",
   "nbconvert_exporter": "python",
   "pygments_lexer": "ipython2",
   "version": "2.7.6"
  }
 },
 "nbformat": 4,
 "nbformat_minor": 5
}
