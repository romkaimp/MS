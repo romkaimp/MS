{
 "cells": [
  {
   "cell_type": "code",
   "id": "initial_id",
   "metadata": {
    "collapsed": true,
    "ExecuteTime": {
     "end_time": "2024-12-26T11:32:37.463408Z",
     "start_time": "2024-12-26T11:32:37.457052Z"
    }
   },
   "source": [
    "import numpy as np\n",
    "import matplotlib.pyplot as plt\n",
    "import scipy.stats as stats\n",
    "import pandas as pd"
   ],
   "outputs": [],
   "execution_count": 11
  },
  {
   "metadata": {
    "ExecuteTime": {
     "end_time": "2024-12-26T11:32:37.537030Z",
     "start_time": "2024-12-26T11:32:37.521632Z"
    }
   },
   "cell_type": "code",
   "source": [
    "df: pd.DataFrame = pd.read_csv(\"data.csv\", sep=\";\", names=[i for i in range(10)])\n",
    "print(df)"
   ],
   "id": "fd3fda1d6c0b5da",
   "outputs": [
    {
     "name": "stdout",
     "output_type": "stream",
     "text": [
      "        0      1      2      3       4      5      6      7      8      9\n",
      "0  -4.772 -3.551 -3.498 -3.552  -6.023 -4.315 -2.888 -6.262 -5.569 -5.164\n",
      "1  -3.396 -0.389 -3.421 -2.493  -4.189 -4.537 -4.557 -4.185 -3.445 -8.546\n",
      "2  -4.056 -5.355 -1.346  0.635  -4.934 -4.044 -3.669  0.817 -0.636 -2.788\n",
      "3  -3.200 -2.915 -0.990 -7.943  -5.401 -9.015 -2.823 -0.789 -6.192 -2.745\n",
      "4  -2.574 -6.034 -5.185 -6.383  -5.883 -3.322 -2.779 -2.376 -7.034 -3.848\n",
      "5  -4.941 -4.125 -4.109 -3.298  -1.612 -5.391 -0.622 -4.092 -6.054 -4.279\n",
      "6  -2.812 -7.251 -5.361 -5.462  -3.884 -6.113 -2.173 -2.791 -7.564 -4.829\n",
      "7  -2.371 -2.310 -0.359 -3.546  -2.657 -4.063 -2.876 -4.228 -0.998 -8.238\n",
      "8  -2.917 -0.890 -1.665 -4.112  -4.852 -0.121 -3.169 -6.575 -3.896 -3.986\n",
      "9  -2.453 -5.961 -1.383 -5.573  -3.164 -3.797 -3.142 -1.534 -2.408 -1.947\n",
      "10 -0.415 -4.667 -4.274 -5.442 -10.269 -6.069 -6.395 -2.339 -2.839 -3.404\n",
      "11 -4.162 -3.475 -6.423 -1.630   0.896 -4.690 -5.902 -5.283 -5.304 -2.866\n"
     ]
    }
   ],
   "execution_count": 12
  },
  {
   "metadata": {
    "ExecuteTime": {
     "end_time": "2024-12-26T11:32:37.591124Z",
     "start_time": "2024-12-26T11:32:37.585204Z"
    }
   },
   "cell_type": "code",
   "source": [
    "#6 вариант N(a, sigma)\n",
    "alpha = 0.02"
   ],
   "id": "e06e17b844371687",
   "outputs": [],
   "execution_count": 13
  },
  {
   "metadata": {
    "ExecuteTime": {
     "end_time": "2024-12-26T11:32:37.650054Z",
     "start_time": "2024-12-26T11:32:37.642001Z"
    }
   },
   "cell_type": "code",
   "source": [
    "array = np.sort(df.to_numpy().reshape(df.shape[0]*df.shape[1]))\n",
    "n = len(array)\n",
    "print(array, array.shape, sep=\"\\n\")"
   ],
   "id": "bf30fe463e3db230",
   "outputs": [
    {
     "name": "stdout",
     "output_type": "stream",
     "text": [
      "[-10.269  -9.015  -8.546  -8.238  -7.943  -7.564  -7.251  -7.034  -6.575\n",
      "  -6.423  -6.395  -6.383  -6.262  -6.192  -6.113  -6.069  -6.054  -6.034\n",
      "  -6.023  -5.961  -5.902  -5.883  -5.573  -5.569  -5.462  -5.442  -5.401\n",
      "  -5.391  -5.361  -5.355  -5.304  -5.283  -5.185  -5.164  -4.941  -4.934\n",
      "  -4.852  -4.829  -4.772  -4.69   -4.667  -4.557  -4.537  -4.315  -4.279\n",
      "  -4.274  -4.228  -4.189  -4.185  -4.162  -4.125  -4.112  -4.109  -4.092\n",
      "  -4.063  -4.056  -4.044  -3.986  -3.896  -3.884  -3.848  -3.797  -3.669\n",
      "  -3.552  -3.551  -3.546  -3.498  -3.475  -3.445  -3.421  -3.404  -3.396\n",
      "  -3.322  -3.298  -3.2    -3.169  -3.164  -3.142  -2.917  -2.915  -2.888\n",
      "  -2.876  -2.866  -2.839  -2.823  -2.812  -2.791  -2.788  -2.779  -2.745\n",
      "  -2.657  -2.574  -2.493  -2.453  -2.408  -2.376  -2.371  -2.339  -2.31\n",
      "  -2.173  -1.947  -1.665  -1.63   -1.612  -1.534  -1.383  -1.346  -0.998\n",
      "  -0.99   -0.89   -0.789  -0.636  -0.622  -0.415  -0.389  -0.359  -0.121\n",
      "   0.635   0.817   0.896]\n",
      "(120,)\n"
     ]
    }
   ],
   "execution_count": 14
  },
  {
   "metadata": {
    "ExecuteTime": {
     "end_time": "2024-12-26T11:32:37.724167Z",
     "start_time": "2024-12-26T11:32:37.718168Z"
    }
   },
   "cell_type": "code",
   "source": [
    "intervals_count = int(np.log2(array.shape[0])) + 1\n",
    "print(intervals_count)"
   ],
   "id": "2a4ee72814dae97b",
   "outputs": [
    {
     "name": "stdout",
     "output_type": "stream",
     "text": [
      "7\n"
     ]
    }
   ],
   "execution_count": 15
  },
  {
   "metadata": {
    "ExecuteTime": {
     "end_time": "2024-12-26T11:32:38.010358Z",
     "start_time": "2024-12-26T11:32:37.796812Z"
    }
   },
   "cell_type": "code",
   "source": [
    "minv = min(array)\n",
    "maxv = max(array)\n",
    "print(minv, maxv)\n",
    "\n",
    "#  n - количество значений в интервале, bars - местоположение столбов\n",
    "m, bars, patches = plt.hist(array, bins=intervals_count, range=(minv, maxv), density=False)\n",
    "\n",
    "# #  берём среднее от координат левой и правой границ столбца\n",
    "# x = [(bars[i] + bars[i+1])/2 for i in range(len(bars)-1)]\n",
    "# print(x, m)\n",
    "# \n",
    "# #  для более похожей интерполяции добавим на границах нулевые элементы \n",
    "# x.append(10)\n",
    "# n_new = np.append(m, 0)\n",
    "print(bars)\n",
    "print(m)\n",
    "plt.close()\n",
    "freq, bars, patches = plt.hist(array, bins=intervals_count, range=(minv, maxv), density=True)"
   ],
   "id": "d3b4e5f6442e8ad1",
   "outputs": [
    {
     "name": "stdout",
     "output_type": "stream",
     "text": [
      "-10.269 0.896\n",
      "[-10.269  -8.674  -7.079  -5.484  -3.889  -2.294  -0.699   0.896]\n",
      "[ 2.  5. 17. 35. 40. 12.  9.]\n"
     ]
    },
    {
     "data": {
      "text/plain": [
       "<Figure size 640x480 with 1 Axes>"
      ],
      "image/png": "[encoded data removed]"
     },
     "metadata": {},
     "output_type": "display_data"
    }
   ],
   "execution_count": 16
  },
  {
   "metadata": {
    "ExecuteTime": {
     "end_time": "2024-12-26T11:32:38.065894Z",
     "start_time": "2024-12-26T11:32:38.058893Z"
    }
   },
   "cell_type": "code",
   "source": [
    "mx = np.mean(array)\n",
    "mu2 = np.mean(array**2)\n",
    "\n",
    "a = mx\n",
    "sigma = (mu2 - mx**2)**(1/2)"
   ],
   "id": "4e2fc7cb93fea521",
   "outputs": [],
   "execution_count": 17
  },
  {
   "metadata": {
    "ExecuteTime": {
     "end_time": "2024-12-26T11:32:38.124955Z",
     "start_time": "2024-12-26T11:32:38.111483Z"
    }
   },
   "cell_type": "code",
   "source": [
    "norm_dist = stats.norm(a, sigma)\n",
    "print(\"a:\", a, \"sigma:\", sigma)\n",
    "print(\"n:\", n)\n",
    "p_t = []\n",
    "for i in range(1, intervals_count + 1):\n",
    "    if i == 1:\n",
    "        p_t.append(norm_dist.cdf(bars[i]) * n)\n",
    "        print(i, norm_dist.cdf(bars[i]))\n",
    "    elif i == intervals_count:\n",
    "        p_t.append((1 - norm_dist.cdf(bars[i-1]))*n)\n",
    "        print(i, 1 - norm_dist.cdf(bars[i-1]))\n",
    "    else:\n",
    "        p_t.append((norm_dist.cdf(bars[i]) - norm_dist.cdf(bars[i-1]))*n)\n",
    "        print(i, norm_dist.cdf(bars[i]) - norm_dist.cdf(bars[i-1]))\n",
    "print(\"n*p:\", p_t)"
   ],
   "id": "38fc00ea57b65c1a",
   "outputs": [
    {
     "name": "stdout",
     "output_type": "stream",
     "text": [
      "a: -3.870541666666667 sigma: 2.0742204555600847\n",
      "n: 120\n",
      "1 0.010284877382607421\n",
      "2 0.05066771526262619\n",
      "3 0.15737244272565748\n",
      "4 0.2781248538476165\n",
      "5 0.27994214315279625\n",
      "6 0.16047924684872816\n",
      "7 0.063128720779968\n",
      "n*p: [np.float64(1.2341852859128906), np.float64(6.080125831515143), np.float64(18.884693127078897), np.float64(33.37498246171398), np.float64(33.59305717833555), np.float64(19.25750962184738), np.float64(7.575446493596161)]\n"
     ]
    }
   ],
   "execution_count": 18
  },
  {
   "metadata": {
    "ExecuteTime": {
     "end_time": "2024-12-26T11:32:38.288038Z",
     "start_time": "2024-12-26T11:32:38.279519Z"
    }
   },
   "cell_type": "code",
   "source": [
    "p_t_new = np.array([p_t[0], p_t[1], p_t[2], p_t[3], p_t[4], p_t[5], p_t[6]])\n",
    "m_new = np.array([m[0], m[1], m[2], m[3], m[4], m[5], m[6]])\n",
    "# p_t_new = p_t\n",
    "# freq_new = freq\n",
    "X_s = np.sum((m_new - p_t_new)**2 / p_t_new)\n",
    "print(p_t_new, m_new)"
   ],
   "id": "aa7bf7bf8056db48",
   "outputs": [
    {
     "name": "stdout",
     "output_type": "stream",
     "text": [
      "[ 1.23418529  6.08012583 18.88469313 33.37498246 33.59305718 19.25750962\n",
      "  7.57544649] [ 2.  5. 17. 35. 40. 12.  9.]\n"
     ]
    }
   ],
   "execution_count": 19
  },
  {
   "metadata": {
    "ExecuteTime": {
     "end_time": "2024-12-26T11:32:38.384097Z",
     "start_time": "2024-12-26T11:32:38.378104Z"
    }
   },
   "cell_type": "code",
   "source": [
    "X_2_alpha = stats.chi2.ppf(1 - alpha, len(m_new) - 1 - 2) # 5 - 1 - 2=2 \n",
    "print(\"X_s:\", X_s, \"X_s_alpha:\", X_2_alpha)\n",
    "if X_s < X_2_alpha:\n",
    "    print(\"H0 принимается: выборка распределена по нормальному закону\")\n",
    "else:\n",
    "    print(\"H0 отклоняется: выборка распределена по другому закону р.\")"
   ],
   "id": "61a062b784d80a24",
   "outputs": [
    {
     "name": "stdout",
     "output_type": "stream",
     "text": [
      "X_s: 5.159230621297043 X_s_alpha: 11.667843403834778\n",
      "H0 принимается: выборка распределена по нормальному закону\n"
     ]
    }
   ],
   "execution_count": 20
  },
  {
   "metadata": {
    "ExecuteTime": {
     "end_time": "2024-12-26T11:39:29.187060Z",
     "start_time": "2024-12-26T11:39:29.177851Z"
    }
   },
   "cell_type": "code",
   "source": [
    "norm = stats.norm(0, 1)\n",
    "ppf = norm.ppf(0.95)\n",
    "print(ppf)"
   ],
   "id": "2e2eccb91da0b65c",
   "outputs": [
    {
     "name": "stdout",
     "output_type": "stream",
     "text": [
      "1.6448536269514722\n"
     ]
    }
   ],
   "execution_count": 21
  },
  {
   "metadata": {
    "ExecuteTime": {
     "end_time": "2024-12-26T11:40:02.483999Z",
     "start_time": "2024-12-26T11:40:02.476832Z"
    }
   },
   "cell_type": "code",
   "source": "print(ppf/5 + 100)",
   "id": "d934b5b908730ece",
   "outputs": [
    {
     "name": "stdout",
     "output_type": "stream",
     "text": [
      "100.32897072539029\n"
     ]
    }
   ],
   "execution_count": 22
  }
 ],
 "metadata": {
  "kernelspec": {
   "display_name": "Python 3",
   "language": "python",
   "name": "python3"
  },
  "language_info": {
   "codemirror_mode": {
    "name": "ipython",
    "version": 2
   },
   "file_extension": ".py",
   "mimetype": "text/x-python",
   "name": "python",
   "nbconvert_exporter": "python",
   "pygments_lexer": "ipython2",
   "version": "2.7.6"
  }
 },
 "nbformat": 4,
 "nbformat_minor": 5
}
