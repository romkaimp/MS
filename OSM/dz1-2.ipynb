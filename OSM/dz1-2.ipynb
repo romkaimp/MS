{
 "cells": [
  {
   "cell_type": "code",
   "id": "initial_id",
   "metadata": {
    "collapsed": true,
    "ExecuteTime": {
     "end_time": "2025-03-18T16:11:46.180323Z",
     "start_time": "2025-03-18T16:11:45.455577Z"
    }
   },
   "source": [
    "import numpy as np\n",
    "import matplotlib.pyplot as plt"
   ],
   "outputs": [],
   "execution_count": 2
  },
  {
   "metadata": {
    "ExecuteTime": {
     "end_time": "2025-03-18T16:18:20.243409Z",
     "start_time": "2025-03-18T16:18:20.218680Z"
    }
   },
   "cell_type": "code",
   "source": [
    "setka = np.linspace(0, 2, 2001)\n",
    "\n",
    "h = setka[1] - setka[0]\n",
    "def func1(x):\n",
    "    return (-7/3*np.sin(4*np.pi*x/3) + 7/4*x + 1)*np.sin(np.pi*x/2)\n",
    "\n",
    "def func2(x):\n",
    "    return (-7/3*np.sin(4*np.pi*x/3) + 7/4*x + 1)*np.sin(np.pi*x)\n",
    "\n",
    "def func3(x):\n",
    "    return (-7/3*np.sin(4*np.pi*x/3) + 7/4*x + 1)*np.sin(np.pi*x*3/2)\n",
    "\n",
    "summa1, summa2, summa3 = 0, 0, 0\n",
    "for x in range(1, len(setka)):\n",
    "    summa1 += h/2 * (func1(setka[x]) + func1(setka[x - 1]))\n",
    "\n",
    "for x in range(1, len(setka)):\n",
    "    summa2 += h/2 * (func2(setka[x]) + func2(setka[x - 1]))\n",
    "\n",
    "for x in range(1, len(setka)):\n",
    "    summa3 += h/2 * (func3(setka[x]) + func3(setka[x - 1]))\n",
    "\n",
    "print(summa1, summa2, summa3)"
   ],
   "id": "1d07aa03ed676f15",
   "outputs": [
    {
     "name": "stdout",
     "output_type": "stream",
     "text": [
      "3.7119156890197718 -1.9410775575033121 -0.8760251411771391\n"
     ]
    }
   ],
   "execution_count": 3
  },
  {
   "metadata": {
    "ExecuteTime": {
     "end_time": "2025-03-18T16:49:56.125534Z",
     "start_time": "2025-03-18T16:49:56.122367Z"
    }
   },
   "cell_type": "code",
   "source": [
    "lmb = -1/3\n",
    "lmb1 = (np.pi/2/(2**0.5)) ** 2\n",
    "lmb2 = (np.pi*2/2/(2**0.5)) ** 2\n",
    "lmb3 = (np.pi*3/2/(2**0.5)) ** 2\n",
    "print(summa1/(lmb1-lmb), summa2/(lmb2-lmb), summa3/(lmb3-lmb))"
   ],
   "id": "82185af809ce7604",
   "outputs": [
    {
     "name": "stdout",
     "output_type": "stream",
     "text": [
      "2.368752665897292 -0.36845626788087477 -0.07659813306851733\n"
     ]
    }
   ],
   "execution_count": 4
  }
 ],
 "metadata": {
  "kernelspec": {
   "display_name": "Python 3",
   "language": "python",
   "name": "python3"
  },
  "language_info": {
   "codemirror_mode": {
    "name": "ipython",
    "version": 2
   },
   "file_extension": ".py",
   "mimetype": "text/x-python",
   "name": "python",
   "nbconvert_exporter": "python",
   "pygments_lexer": "ipython2",
   "version": "2.7.6"
  }
 },
 "nbformat": 4,
 "nbformat_minor": 5
}
