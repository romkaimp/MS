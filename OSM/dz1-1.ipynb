{
 "cells": [
  {
   "cell_type": "code",
   "id": "initial_id",
   "metadata": {
    "collapsed": true,
    "ExecuteTime": {
     "end_time": "2025-02-26T17:32:00.872738Z",
     "start_time": "2025-02-26T17:31:59.357484Z"
    }
   },
   "source": [
    "import numpy as np\n",
    "import matplotlib.pyplot as plt"
   ],
   "outputs": [],
   "execution_count": 1
  },
  {
   "metadata": {
    "ExecuteTime": {
     "end_time": "2025-02-26T17:32:00.910610Z",
     "start_time": "2025-02-26T17:32:00.902764Z"
    }
   },
   "cell_type": "code",
   "source": [
    "l = 41\n",
    "np.set_printoptions(precision=3, suppress=True)\n",
    "a, b = -1, 1\n",
    "A = np.linspace(a, b, l)\n",
    "print(len(A))\n",
    "h = (b - a) / l\n",
    "q_j = 4\n",
    "p_j = ...\n",
    "alfa = 4\n",
    "beta = 3/2 # 3/4"
   ],
   "id": "1b6a81924afeb6e0",
   "outputs": [
    {
     "name": "stdout",
     "output_type": "stream",
     "text": [
      "41\n"
     ]
    }
   ],
   "execution_count": 2
  },
  {
   "metadata": {
    "ExecuteTime": {
     "end_time": "2025-02-26T17:32:01.306442Z",
     "start_time": "2025-02-26T17:32:01.294068Z"
    }
   },
   "cell_type": "code",
   "source": [
    "F = [[0 for i in range(l)] for j in range(l)]\n",
    "v = [0 for i in range(l)]\n",
    "for i in range(0, l):\n",
    "    p_j = A[i]\n",
    "    x = A[i]\n",
    "    if i == 0:\n",
    "        F[i][i] = 1\n",
    "        v[i] = alfa\n",
    "        # print(\"start\", i)\n",
    "    elif i == len(F) - 1:\n",
    "        F[i][i] = 1\n",
    "        v[i] = 3*alfa + 2*beta\n",
    "        # print(\"end\", i)\n",
    "    else:\n",
    "        F[i][i-1] = (1/h**2 - p_j/(2*h))\n",
    "        F[i][i] = (-2/(h**2) - q_j)\n",
    "        F[i][i+1] = (1/h**2 + p_j/(2*h))\n",
    "        v[i] = -x**3 * alfa + 2 * (6*alfa - beta)*x**2 + (2*alfa - beta)*(3*x - 2)\n",
    "print(\"F:\", F)\n",
    "print(\"v:\", v)"
   ],
   "id": "edada46672156d27",
   "outputs": [
    {
     "name": "stdout",
     "output_type": "stream",
     "text": [
      "F: [[1, 0, 0, 0, 0, 0, 0, 0, 0, 0, 0, 0, 0, 0, 0, 0, 0, 0, 0, 0, 0, 0, 0, 0, 0, 0, 0, 0, 0, 0, 0, 0, 0, 0, 0, 0, 0, 0, 0, 0, 0], [np.float64(429.9875), -844.5, np.float64(410.5125), 0, 0, 0, 0, 0, 0, 0, 0, 0, 0, 0, 0, 0, 0, 0, 0, 0, 0, 0, 0, 0, 0, 0, 0, 0, 0, 0, 0, 0, 0, 0, 0, 0, 0, 0, 0, 0, 0], [0, np.float64(429.475), -844.5, np.float64(411.025), 0, 0, 0, 0, 0, 0, 0, 0, 0, 0, 0, 0, 0, 0, 0, 0, 0, 0, 0, 0, 0, 0, 0, 0, 0, 0, 0, 0, 0, 0, 0, 0, 0, 0, 0, 0, 0], [0, 0, np.float64(428.9625), -844.5, np.float64(411.5375), 0, 0, 0, 0, 0, 0, 0, 0, 0, 0, 0, 0, 0, 0, 0, 0, 0, 0, 0, 0, 0, 0, 0, 0, 0, 0, 0, 0, 0, 0, 0, 0, 0, 0, 0, 0], [0, 0, 0, np.float64(428.45), -844.5, np.float64(412.05), 0, 0, 0, 0, 0, 0, 0, 0, 0, 0, 0, 0, 0, 0, 0, 0, 0, 0, 0, 0, 0, 0, 0, 0, 0, 0, 0, 0, 0, 0, 0, 0, 0, 0, 0], [0, 0, 0, 0, np.float64(427.9375), -844.5, np.float64(412.5625), 0, 0, 0, 0, 0, 0, 0, 0, 0, 0, 0, 0, 0, 0, 0, 0, 0, 0, 0, 0, 0, 0, 0, 0, 0, 0, 0, 0, 0, 0, 0, 0, 0, 0], [0, 0, 0, 0, 0, np.float64(427.425), -844.5, np.float64(413.075), 0, 0, 0, 0, 0, 0, 0, 0, 0, 0, 0, 0, 0, 0, 0, 0, 0, 0, 0, 0, 0, 0, 0, 0, 0, 0, 0, 0, 0, 0, 0, 0, 0], [0, 0, 0, 0, 0, 0, np.float64(426.9125), -844.5, np.float64(413.5875), 0, 0, 0, 0, 0, 0, 0, 0, 0, 0, 0, 0, 0, 0, 0, 0, 0, 0, 0, 0, 0, 0, 0, 0, 0, 0, 0, 0, 0, 0, 0, 0], [0, 0, 0, 0, 0, 0, 0, np.float64(426.4), -844.5, np.float64(414.1), 0, 0, 0, 0, 0, 0, 0, 0, 0, 0, 0, 0, 0, 0, 0, 0, 0, 0, 0, 0, 0, 0, 0, 0, 0, 0, 0, 0, 0, 0, 0], [0, 0, 0, 0, 0, 0, 0, 0, np.float64(425.8875), -844.5, np.float64(414.6125), 0, 0, 0, 0, 0, 0, 0, 0, 0, 0, 0, 0, 0, 0, 0, 0, 0, 0, 0, 0, 0, 0, 0, 0, 0, 0, 0, 0, 0, 0], [0, 0, 0, 0, 0, 0, 0, 0, 0, np.float64(425.375), -844.5, np.float64(415.125), 0, 0, 0, 0, 0, 0, 0, 0, 0, 0, 0, 0, 0, 0, 0, 0, 0, 0, 0, 0, 0, 0, 0, 0, 0, 0, 0, 0, 0], [0, 0, 0, 0, 0, 0, 0, 0, 0, 0, np.float64(424.8625), -844.5, np.float64(415.6375), 0, 0, 0, 0, 0, 0, 0, 0, 0, 0, 0, 0, 0, 0, 0, 0, 0, 0, 0, 0, 0, 0, 0, 0, 0, 0, 0, 0], [0, 0, 0, 0, 0, 0, 0, 0, 0, 0, 0, np.float64(424.35), -844.5, np.float64(416.15), 0, 0, 0, 0, 0, 0, 0, 0, 0, 0, 0, 0, 0, 0, 0, 0, 0, 0, 0, 0, 0, 0, 0, 0, 0, 0, 0], [0, 0, 0, 0, 0, 0, 0, 0, 0, 0, 0, 0, np.float64(423.8375), -844.5, np.float64(416.6625), 0, 0, 0, 0, 0, 0, 0, 0, 0, 0, 0, 0, 0, 0, 0, 0, 0, 0, 0, 0, 0, 0, 0, 0, 0, 0], [0, 0, 0, 0, 0, 0, 0, 0, 0, 0, 0, 0, 0, np.float64(423.325), -844.5, np.float64(417.175), 0, 0, 0, 0, 0, 0, 0, 0, 0, 0, 0, 0, 0, 0, 0, 0, 0, 0, 0, 0, 0, 0, 0, 0, 0], [0, 0, 0, 0, 0, 0, 0, 0, 0, 0, 0, 0, 0, 0, np.float64(422.8125), -844.5, np.float64(417.6875), 0, 0, 0, 0, 0, 0, 0, 0, 0, 0, 0, 0, 0, 0, 0, 0, 0, 0, 0, 0, 0, 0, 0, 0], [0, 0, 0, 0, 0, 0, 0, 0, 0, 0, 0, 0, 0, 0, 0, np.float64(422.3), -844.5, np.float64(418.2), 0, 0, 0, 0, 0, 0, 0, 0, 0, 0, 0, 0, 0, 0, 0, 0, 0, 0, 0, 0, 0, 0, 0], [0, 0, 0, 0, 0, 0, 0, 0, 0, 0, 0, 0, 0, 0, 0, 0, np.float64(421.7875), -844.5, np.float64(418.7125), 0, 0, 0, 0, 0, 0, 0, 0, 0, 0, 0, 0, 0, 0, 0, 0, 0, 0, 0, 0, 0, 0], [0, 0, 0, 0, 0, 0, 0, 0, 0, 0, 0, 0, 0, 0, 0, 0, 0, np.float64(421.275), -844.5, np.float64(419.225), 0, 0, 0, 0, 0, 0, 0, 0, 0, 0, 0, 0, 0, 0, 0, 0, 0, 0, 0, 0, 0], [0, 0, 0, 0, 0, 0, 0, 0, 0, 0, 0, 0, 0, 0, 0, 0, 0, 0, np.float64(420.7625), -844.5, np.float64(419.7375), 0, 0, 0, 0, 0, 0, 0, 0, 0, 0, 0, 0, 0, 0, 0, 0, 0, 0, 0, 0], [0, 0, 0, 0, 0, 0, 0, 0, 0, 0, 0, 0, 0, 0, 0, 0, 0, 0, 0, np.float64(420.25), -844.5, np.float64(420.25), 0, 0, 0, 0, 0, 0, 0, 0, 0, 0, 0, 0, 0, 0, 0, 0, 0, 0, 0], [0, 0, 0, 0, 0, 0, 0, 0, 0, 0, 0, 0, 0, 0, 0, 0, 0, 0, 0, 0, np.float64(419.7375), -844.5, np.float64(420.7625), 0, 0, 0, 0, 0, 0, 0, 0, 0, 0, 0, 0, 0, 0, 0, 0, 0, 0], [0, 0, 0, 0, 0, 0, 0, 0, 0, 0, 0, 0, 0, 0, 0, 0, 0, 0, 0, 0, 0, np.float64(419.225), -844.5, np.float64(421.275), 0, 0, 0, 0, 0, 0, 0, 0, 0, 0, 0, 0, 0, 0, 0, 0, 0], [0, 0, 0, 0, 0, 0, 0, 0, 0, 0, 0, 0, 0, 0, 0, 0, 0, 0, 0, 0, 0, 0, np.float64(418.7125), -844.5, np.float64(421.7875), 0, 0, 0, 0, 0, 0, 0, 0, 0, 0, 0, 0, 0, 0, 0, 0], [0, 0, 0, 0, 0, 0, 0, 0, 0, 0, 0, 0, 0, 0, 0, 0, 0, 0, 0, 0, 0, 0, 0, np.float64(418.2), -844.5, np.float64(422.3), 0, 0, 0, 0, 0, 0, 0, 0, 0, 0, 0, 0, 0, 0, 0], [0, 0, 0, 0, 0, 0, 0, 0, 0, 0, 0, 0, 0, 0, 0, 0, 0, 0, 0, 0, 0, 0, 0, 0, np.float64(417.6875), -844.5, np.float64(422.8125), 0, 0, 0, 0, 0, 0, 0, 0, 0, 0, 0, 0, 0, 0], [0, 0, 0, 0, 0, 0, 0, 0, 0, 0, 0, 0, 0, 0, 0, 0, 0, 0, 0, 0, 0, 0, 0, 0, 0, np.float64(417.175), -844.5, np.float64(423.325), 0, 0, 0, 0, 0, 0, 0, 0, 0, 0, 0, 0, 0], [0, 0, 0, 0, 0, 0, 0, 0, 0, 0, 0, 0, 0, 0, 0, 0, 0, 0, 0, 0, 0, 0, 0, 0, 0, 0, np.float64(416.6625), -844.5, np.float64(423.8375), 0, 0, 0, 0, 0, 0, 0, 0, 0, 0, 0, 0], [0, 0, 0, 0, 0, 0, 0, 0, 0, 0, 0, 0, 0, 0, 0, 0, 0, 0, 0, 0, 0, 0, 0, 0, 0, 0, 0, np.float64(416.15), -844.5, np.float64(424.35), 0, 0, 0, 0, 0, 0, 0, 0, 0, 0, 0], [0, 0, 0, 0, 0, 0, 0, 0, 0, 0, 0, 0, 0, 0, 0, 0, 0, 0, 0, 0, 0, 0, 0, 0, 0, 0, 0, 0, np.float64(415.6375), -844.5, np.float64(424.8625), 0, 0, 0, 0, 0, 0, 0, 0, 0, 0], [0, 0, 0, 0, 0, 0, 0, 0, 0, 0, 0, 0, 0, 0, 0, 0, 0, 0, 0, 0, 0, 0, 0, 0, 0, 0, 0, 0, 0, np.float64(415.125), -844.5, np.float64(425.375), 0, 0, 0, 0, 0, 0, 0, 0, 0], [0, 0, 0, 0, 0, 0, 0, 0, 0, 0, 0, 0, 0, 0, 0, 0, 0, 0, 0, 0, 0, 0, 0, 0, 0, 0, 0, 0, 0, 0, np.float64(414.6125), -844.5, np.float64(425.8875), 0, 0, 0, 0, 0, 0, 0, 0], [0, 0, 0, 0, 0, 0, 0, 0, 0, 0, 0, 0, 0, 0, 0, 0, 0, 0, 0, 0, 0, 0, 0, 0, 0, 0, 0, 0, 0, 0, 0, np.float64(414.1), -844.5, np.float64(426.4), 0, 0, 0, 0, 0, 0, 0], [0, 0, 0, 0, 0, 0, 0, 0, 0, 0, 0, 0, 0, 0, 0, 0, 0, 0, 0, 0, 0, 0, 0, 0, 0, 0, 0, 0, 0, 0, 0, 0, np.float64(413.5875), -844.5, np.float64(426.9125), 0, 0, 0, 0, 0, 0], [0, 0, 0, 0, 0, 0, 0, 0, 0, 0, 0, 0, 0, 0, 0, 0, 0, 0, 0, 0, 0, 0, 0, 0, 0, 0, 0, 0, 0, 0, 0, 0, 0, np.float64(413.075), -844.5, np.float64(427.425), 0, 0, 0, 0, 0], [0, 0, 0, 0, 0, 0, 0, 0, 0, 0, 0, 0, 0, 0, 0, 0, 0, 0, 0, 0, 0, 0, 0, 0, 0, 0, 0, 0, 0, 0, 0, 0, 0, 0, np.float64(412.5625), -844.5, np.float64(427.9375), 0, 0, 0, 0], [0, 0, 0, 0, 0, 0, 0, 0, 0, 0, 0, 0, 0, 0, 0, 0, 0, 0, 0, 0, 0, 0, 0, 0, 0, 0, 0, 0, 0, 0, 0, 0, 0, 0, 0, np.float64(412.05), -844.5, np.float64(428.45), 0, 0, 0], [0, 0, 0, 0, 0, 0, 0, 0, 0, 0, 0, 0, 0, 0, 0, 0, 0, 0, 0, 0, 0, 0, 0, 0, 0, 0, 0, 0, 0, 0, 0, 0, 0, 0, 0, 0, np.float64(411.5375), -844.5, np.float64(428.9625), 0, 0], [0, 0, 0, 0, 0, 0, 0, 0, 0, 0, 0, 0, 0, 0, 0, 0, 0, 0, 0, 0, 0, 0, 0, 0, 0, 0, 0, 0, 0, 0, 0, 0, 0, 0, 0, 0, 0, np.float64(411.025), -844.5, np.float64(429.475), 0], [0, 0, 0, 0, 0, 0, 0, 0, 0, 0, 0, 0, 0, 0, 0, 0, 0, 0, 0, 0, 0, 0, 0, 0, 0, 0, 0, 0, 0, 0, 0, 0, 0, 0, 0, 0, 0, 0, np.float64(410.5125), -844.5, np.float64(429.9875)], [0, 0, 0, 0, 0, 0, 0, 0, 0, 0, 0, 0, 0, 0, 0, 0, 0, 0, 0, 0, 0, 0, 0, 0, 0, 0, 0, 0, 0, 0, 0, 0, 0, 0, 0, 0, 0, 0, 0, 0, 1]]\n",
      "v: [4, np.float64(12.516999999999996), np.float64(8.815999999999999), np.float64(5.393999999999995), np.float64(2.2480000000000047), np.float64(-0.625), np.float64(-3.2280000000000015), np.float64(-5.564), np.float64(-7.635999999999999), np.float64(-9.447), np.float64(-11.0), np.float64(-12.298), np.float64(-13.344000000000001), np.float64(-14.141), np.float64(-14.692), np.float64(-15.0), np.float64(-15.068), np.float64(-14.899000000000001), np.float64(-14.495999999999999), np.float64(-13.862), np.float64(-13.0), np.float64(-11.912999999999998), np.float64(-10.603999999999997), np.float64(-9.075999999999995), np.float64(-7.331999999999993), np.float64(-5.375), np.float64(-3.207999999999999), np.float64(-0.8339999999999952), np.float64(1.7440000000000078), np.float64(4.52300000000001), np.float64(7.5), np.float64(10.672000000000004), np.float64(14.036000000000003), np.float64(17.58900000000001), np.float64(21.328000000000014), np.float64(25.25), np.float64(29.352000000000004), np.float64(33.631), np.float64(38.084), np.float64(42.70800000000001), 15.0]\n"
     ]
    }
   ],
   "execution_count": 3
  },
  {
   "metadata": {},
   "cell_type": "markdown",
   "source": [
    "### Метод прогонки\n",
    "#### Прямой ход"
   ],
   "id": "fee26f9afe6a78b5"
  },
  {
   "metadata": {
    "ExecuteTime": {
     "end_time": "2025-02-26T17:32:01.370078Z",
     "start_time": "2025-02-26T17:32:01.360649Z"
    }
   },
   "cell_type": "code",
   "source": [
    "L = [0 for i in range(l)]\n",
    "M = [0 for i in range(l)]\n",
    "L[0] = -F[0][1] / F[0][0]\n",
    "M[0] = v[0] / F[0][0]\n",
    "for i in range(1, l - 1):\n",
    "    L[i] = - F[i][i + 1] / (L[i-1]*F[i][i-1] + F[i][i])\n",
    "    M[i] = (v[i] - M[i-1]*F[i][i-1])/(L[i-1]*F[i][i-1] + F[i][i])\n",
    "M[-1] = (v[-1] - M[-2]*F[-1][-2])/(L[-2]*F[-1][-2] + F[-1][-1])\n",
    "x = [0 for i in range(l)]\n",
    "x[-1] = M[-1]\n",
    "print(\"M:\", M[-1])"
   ],
   "id": "b6d259401e578bdd",
   "outputs": [
    {
     "name": "stdout",
     "output_type": "stream",
     "text": [
      "M: 15.0\n"
     ]
    }
   ],
   "execution_count": 4
  },
  {
   "metadata": {},
   "cell_type": "markdown",
   "source": "#### Обратный ход",
   "id": "a381d82e56a0c32"
  },
  {
   "metadata": {
    "ExecuteTime": {
     "end_time": "2025-02-26T17:32:01.417098Z",
     "start_time": "2025-02-26T17:32:01.411097Z"
    }
   },
   "cell_type": "code",
   "source": [
    "for i in range(l-2, -1, -1):\n",
    "    x[i] = x[i + 1] * L[i] + M[i]\n",
    "print(\"x:\", x)"
   ],
   "id": "2c47ba8c33efbb1f",
   "outputs": [
    {
     "name": "stdout",
     "output_type": "stream",
     "text": [
      "x: [np.float64(4.0), np.float64(3.769537509524988), np.float64(3.595362934853026), np.float64(3.4698081055413565), np.float64(3.38576939449694), np.float64(3.3367090664566716), np.float64(3.3166565462569304), np.float64(3.320209600154293), np.float64(3.3425354236440628), np.float64(3.379371629465396), np.float64(3.427027129780979), np.float64(3.4823829068743004), np.float64(3.5428926671168397), np.float64(3.606583373418387), np.float64(3.6720556518829857), np.float64(3.7384840689467076), np.float64(3.805617275867053), np.float64(3.873778018062008), np.float64(3.9438630074540195), np.float64(4.017342656654176), np.float64(4.096260674518192), np.float64(4.183233523311591), np.float64(4.281449738429776), np.float64(4.394669112322459), np.float64(4.527221744964086), np.float64(4.684006963885669), np.float64(4.870492117432103), np.float64(5.092711245526266), np.float64(5.3572636328012), np.float64(5.671312249498899), np.float64(6.042582086024093), np.float64(6.479358387479556), np.float64(6.990484794892598), np.float64(7.585361400167717), np.float64(8.273942722065986), np.float64(9.066735610716371), np.float64(9.974797088307586), np.float64(11.009732133691388), np.float64(12.183691418650804), np.float64(13.50936900355108), np.float64(15.0)]\n"
     ]
    }
   ],
   "execution_count": 5
  },
  {
   "metadata": {},
   "cell_type": "markdown",
   "source": "### Сравнение результатов с аналитическим решением",
   "id": "b28ae8ca790e3bea"
  },
  {
   "metadata": {
    "ExecuteTime": {
     "end_time": "2025-02-26T17:32:01.505523Z",
     "start_time": "2025-02-26T17:32:01.498689Z"
    }
   },
   "cell_type": "code",
   "source": [
    "phi = [0 for i in range(l)]\n",
    "for i in range(l):\n",
    "    phi[i] = 4*A[i]**4 + 4*A[i]**3 + 3/2*A[i]**2 + 3/2*A[i] + 4\n",
    "print(\"phi:\", np.array(phi))"
   ],
   "id": "b97a5f023b9b0bbf",
   "outputs": [
    {
     "name": "stdout",
     "output_type": "stream",
     "text": [
      "phi: [ 4.     3.757  3.573  3.44   3.35   3.297  3.273  3.274  3.294  3.329\n",
      "  3.375  3.428  3.486  3.547  3.609  3.672  3.734  3.797  3.861  3.928\n",
      "  4.     4.079  4.169  4.274  4.398  4.547  4.725  4.94   5.198  5.507\n",
      "  5.875  6.31   6.822  7.421  8.117  8.922  9.846 10.903 12.105 13.466\n",
      " 15.   ]\n"
     ]
    }
   ],
   "execution_count": 6
  },
  {
   "metadata": {
    "ExecuteTime": {
     "end_time": "2025-02-26T17:32:01.921378Z",
     "start_time": "2025-02-26T17:32:01.566290Z"
    }
   },
   "cell_type": "code",
   "source": [
    "plt.plot(A, phi, color=\"red\")\n",
    "plt.plot(A, x, color=\"blue\")\n",
    "plt.show()"
   ],
   "id": "5b65641a6a37773a",
   "outputs": [
    {
     "data": {
      "text/plain": [
       "<Figure size 640x480 with 1 Axes>"
      ],
      "image/png": "[encoded data removed]"
     },
     "metadata": {},
     "output_type": "display_data"
    }
   ],
   "execution_count": 7
  },
  {
   "metadata": {},
   "cell_type": "markdown",
   "source": "### нахождение погрешности по правилу Рунге",
   "id": "7314a67fe3e34544"
  },
  {
   "metadata": {
    "ExecuteTime": {
     "end_time": "2025-02-26T17:32:01.967569Z",
     "start_time": "2025-02-26T17:32:01.955147Z"
    }
   },
   "cell_type": "code",
   "source": [
    "def solve_eq(a, b, l, alfa, beta, verbose=0) -> list:\n",
    "    l = l\n",
    "    np.set_printoptions(precision=3, suppress=True)\n",
    "    a, b = a, b\n",
    "    A = np.linspace(a, b, l)\n",
    "    if verbose:\n",
    "        print(\"size of the grid:\", len(A))\n",
    "    h = (b - a) / l\n",
    "    q_j = 4\n",
    "    p_j = ...\n",
    "    alfa = alfa\n",
    "    beta = beta\n",
    "    \n",
    "    F = [[0 for i in range(l)] for j in range(l)]\n",
    "    v = [0 for i in range(l)]\n",
    "    for i in range(0, l):\n",
    "        p_j = A[i]\n",
    "        x = A[i]\n",
    "        if i == 0:\n",
    "            F[i][i] = 1\n",
    "            v[i] = alfa\n",
    "            # print(\"start\", i)\n",
    "        elif i == len(F) - 1:\n",
    "            F[i][i] = 1\n",
    "            v[i] = 3*alfa + 2*beta\n",
    "            # print(\"end\", i)\n",
    "        else:\n",
    "            F[i][i-1] = (1/h**2 - p_j/(2*h))\n",
    "            F[i][i] = (-2/(h**2) - q_j)\n",
    "            F[i][i+1] = (1/h**2 + p_j/(2*h))\n",
    "            v[i] = -x**3 * alfa + 2 * (6*alfa - beta)*x**2 + (2*alfa - beta)*(3*x - 2)\n",
    "    if verbose:\n",
    "        print(\"F:\", np.array(F))\n",
    "        print(\"v:\", np.array(v))\n",
    "        print(\"метод прогонки (run-through method):\")\n",
    "    \n",
    "    L = [0 for i in range(l)]\n",
    "    M = [0 for i in range(l)]\n",
    "    L[0] = -F[0][1] / F[0][0]\n",
    "    M[0] = v[0] / F[0][0]\n",
    "    if verbose:\n",
    "        print(\"L[0]=\", L[0])\n",
    "        print(\"M[0]=\", M[0])\n",
    "    for i in range(1, l - 1):\n",
    "        L[i] = - F[i][i + 1] / (L[i-1]*F[i][i-1] + F[i][i])\n",
    "        M[i] = (v[i] - M[i-1]*F[i][i-1])/(L[i-1]*F[i][i-1] + F[i][i])\n",
    "        if verbose:\n",
    "            print(f\"L[{i}]=\", L[i])\n",
    "            print(f\"M[{i}]=\", M[i])\n",
    "    M[-1] = (v[-1] - M[-2]*F[-1][-2])/(L[-2]*F[-1][-2] + F[-1][-1])\n",
    "    x = [0 for i in range(l)]\n",
    "    x[-1] = M[-1]\n",
    "    if verbose:\n",
    "        print(\"M[k] = x_k =\", M[-1])\n",
    "        \n",
    "    for i in range(l-2, -1, -1):\n",
    "        x[i] = x[i + 1] * L[i] + M[i]\n",
    "    if verbose:\n",
    "        print(\"x:\", np.array(x))\n",
    "    return np.array(x)"
   ],
   "id": "cd42744e5c43fe12",
   "outputs": [],
   "execution_count": 8
  },
  {
   "metadata": {
    "ExecuteTime": {
     "end_time": "2025-02-26T17:32:02.007062Z",
     "start_time": "2025-02-26T17:32:01.998571Z"
    }
   },
   "cell_type": "code",
   "source": [
    "phi = np.array(phi)\n",
    "x = np.array(x)\n",
    "x2 = solve_eq(a, b, l*2 - 1, alfa, beta, verbose=0)\n",
    "# Чебышёвская норма ошибки\n",
    "eps = np.max(np.abs(phi - x))\n",
    "# Ошибка по правилу Рунге\n",
    "print(len(x), len(x2))\n",
    "x2 = [x2[i] for i in range(0, l*2 - 1, 2)]\n",
    "print(\"x2:\", np.array(x2))\n",
    "eps2 = np.max(np.abs(x - x2)) / (2^2 - 1)\n",
    "print(eps, eps2)"
   ],
   "id": "b8076ede1d5ccef",
   "outputs": [
    {
     "name": "stdout",
     "output_type": "stream",
     "text": [
      "41 81\n",
      "x2: [ 4.     3.763  3.584  3.455  3.368  3.316  3.294  3.297  3.318  3.354\n",
      "  3.4    3.454  3.514  3.576  3.64   3.704  3.769  3.834  3.902  3.972\n",
      "  4.047  4.13   4.224  4.334  4.462  4.615  4.797  5.016  5.277  5.589\n",
      "  5.958  6.395  6.906  7.503  8.196  8.994  9.911 10.957 12.145 13.488\n",
      " 15.   ]\n",
      "0.16908338747955565 0.028270383513054814\n"
     ]
    }
   ],
   "execution_count": 9
  },
  {
   "metadata": {
    "ExecuteTime": {
     "end_time": "2025-02-26T17:32:02.284813Z",
     "start_time": "2025-02-26T17:32:02.041713Z"
    }
   },
   "cell_type": "code",
   "source": [
    "plt.plot(A, phi, color=\"red\")\n",
    "plt.plot(A, x, color=\"blue\")\n",
    "plt.show()\n",
    "\n",
    "plt.plot(A, phi, color=\"red\")\n",
    "plt.plot(A, x2, color=\"blue\")\n",
    "plt.show()"
   ],
   "id": "69bfca5c11706e3b",
   "outputs": [
    {
     "data": {
      "text/plain": [
       "<Figure size 640x480 with 1 Axes>"
      ],
      "image/png": "[encoded data removed]"
     },
     "metadata": {},
     "output_type": "display_data"
    },
    {
     "data": {
      "text/plain": [
       "<Figure size 640x480 with 1 Axes>"
      ],
      "image/png": "[encoded data removed]"
     },
     "metadata": {},
     "output_type": "display_data"
    }
   ],
   "execution_count": 10
  },
  {
   "metadata": {},
   "cell_type": "markdown",
   "source": "### Полный вывод по решению",
   "id": "72d69d7e2a5359a4"
  },
  {
   "metadata": {
    "ExecuteTime": {
     "end_time": "2025-02-26T17:32:02.313462Z",
     "start_time": "2025-02-26T17:32:02.301292Z"
    }
   },
   "cell_type": "code",
   "source": "solve_eq(a, b, l, alfa, beta, verbose=1)",
   "id": "2f2dae09a09564e9",
   "outputs": [
    {
     "name": "stdout",
     "output_type": "stream",
     "text": [
      "size of the grid: 41\n",
      "F: [[   1.       0.       0.    ...    0.       0.       0.   ]\n",
      " [ 429.988 -844.5    410.512 ...    0.       0.       0.   ]\n",
      " [   0.     429.475 -844.5   ...    0.       0.       0.   ]\n",
      " ...\n",
      " [   0.       0.       0.    ... -844.5    429.475    0.   ]\n",
      " [   0.       0.       0.    ...  410.512 -844.5    429.988]\n",
      " [   0.       0.       0.    ...    0.       0.       1.   ]]\n",
      "v: [  4.     12.517   8.816   5.394   2.248  -0.625  -3.228  -5.564  -7.636\n",
      "  -9.447 -11.    -12.298 -13.344 -14.141 -14.692 -15.    -15.068 -14.899\n",
      " -14.496 -13.862 -13.    -11.913 -10.604  -9.076  -7.332  -5.375  -3.208\n",
      "  -0.834   1.744   4.523   7.5    10.672  14.036  17.589  21.328  25.25\n",
      "  29.352  33.631  38.084  42.708  15.   ]\n",
      "метод прогонки (run-through method):\n",
      "L[0]= 0.0\n",
      "M[0]= 4.0\n",
      "L[1]= 0.486101243339254\n",
      "M[1]= 2.021827116637063\n",
      "L[2]= 0.6465385009982247\n",
      "M[2]= 1.3519984035448271\n",
      "L[3]= 0.7256119260521218\n",
      "M[3]= 1.0130534540321057\n",
      "L[4]= 0.7721909024227012\n",
      "M[4]= 0.809193009347754\n",
      "L[5]= 0.8025718393449175\n",
      "M[5]= 0.6748539216518856\n",
      "L[6]= 0.8237434638368819\n",
      "M[6]= 0.5816555895613642\n",
      "L[7]= 0.8392030991376385\n",
      "M[7]= 0.5151435136548564\n",
      "L[8]= 0.8508954256568169\n",
      "M[8]= 0.4670435625375339\n",
      "L[9]= 0.8599880194611371\n",
      "M[9]= 0.43216935548546664\n",
      "L[10]= 0.8672239251575383\n",
      "M[10]= 0.40702135637993003\n",
      "L[11]= 0.8730980097265182\n",
      "M[11]= 0.38909037053991197\n",
      "L[12]= 0.877951994380936\n",
      "M[12]= 0.37648560152304295\n",
      "L[13]= 0.8820288298558461\n",
      "M[13]= 0.36772442362249125\n",
      "L[14]= 0.8855053884280639\n",
      "M[14]= 0.3616078642782025\n",
      "L[15]= 0.8885129563600167\n",
      "M[15]= 0.3571438123913189\n",
      "L[16]= 0.8911505454807384\n",
      "M[16]= 0.35349788199980126\n",
      "L[17]= 0.8934938107869078\n",
      "M[17]= 0.34996083031040126\n",
      "L[18]= 0.8956011868629691\n",
      "M[18]= 0.3459261561193062\n",
      "L[19]= 0.8975182106206376\n",
      "M[19]= 0.34087410582492195\n",
      "L[20]= 0.8992806294468407\n",
      "M[20]= 0.33435979855141995\n",
      "L[21]= 0.9009166763770813\n",
      "M[21]= 0.32600405488991296\n",
      "L[22]= 0.902448761674315\n",
      "M[22]= 0.31548604004601144\n",
      "L[23]= 0.9038947476138637\n",
      "M[23]= 0.3025371557661515\n",
      "L[24]= 0.9052689204420502\n",
      "M[24]= 0.286935817424261\n",
      "L[25]= 0.9065827389155021\n",
      "M[25]= 0.2685028801977097\n",
      "L[26]= 0.9078454157502817\n",
      "M[26]= 0.24709755944117437\n",
      "L[27]= 0.9090643726017007\n",
      "M[27]= 0.22261374231193534\n",
      "L[28]= 0.9102455983101724\n",
      "M[28]= 0.19497662105226538\n",
      "L[29]= 0.9113939324774072\n",
      "M[29]= 0.16413959979986628\n",
      "L[30]= 0.9125132909461178\n",
      "M[30]= 0.1300814406457921\n",
      "L[31]= 0.9136068457680238\n",
      "M[31]= 0.09280362362839968\n",
      "L[32]= 0.9146771693088933\n",
      "M[32]= 0.05232790120224685\n",
      "L[33]= 0.915726349951195\n",
      "M[33]= 0.008694031584978336\n",
      "L[34]= 0.9167560852058315\n",
      "M[34]= -0.038042322010659664\n",
      "L[35]= 0.9177677567890288\n",
      "M[35]= -0.08781153744541811\n",
      "L[36]= 0.9187624912561493\n",
      "M[36]= -0.14053183490559537\n",
      "L[37]= 0.9197412090376011\n",
      "M[37]= -0.19611094223954748\n",
      "L[38]= 0.9207046641399066\n",
      "M[38]= -0.25444763250575875\n",
      "L[39]= 0.9216534763183772\n",
      "M[39]= -0.31543314122457683\n",
      "M[k] = x_k = 15.0\n",
      "x: [ 4.     3.77   3.595  3.47   3.386  3.337  3.317  3.32   3.343  3.379\n",
      "  3.427  3.482  3.543  3.607  3.672  3.738  3.806  3.874  3.944  4.017\n",
      "  4.096  4.183  4.281  4.395  4.527  4.684  4.87   5.093  5.357  5.671\n",
      "  6.043  6.479  6.99   7.585  8.274  9.067  9.975 11.01  12.184 13.509\n",
      " 15.   ]\n"
     ]
    },
    {
     "data": {
      "text/plain": [
       "array([ 4.   ,  3.77 ,  3.595,  3.47 ,  3.386,  3.337,  3.317,  3.32 ,\n",
       "        3.343,  3.379,  3.427,  3.482,  3.543,  3.607,  3.672,  3.738,\n",
       "        3.806,  3.874,  3.944,  4.017,  4.096,  4.183,  4.281,  4.395,\n",
       "        4.527,  4.684,  4.87 ,  5.093,  5.357,  5.671,  6.043,  6.479,\n",
       "        6.99 ,  7.585,  8.274,  9.067,  9.975, 11.01 , 12.184, 13.509,\n",
       "       15.   ])"
      ]
     },
     "execution_count": 11,
     "metadata": {},
     "output_type": "execute_result"
    }
   ],
   "execution_count": 11
  },
  {
   "metadata": {
    "ExecuteTime": {
     "end_time": "2025-02-26T17:32:02.402858Z",
     "start_time": "2025-02-26T17:32:02.386943Z"
    }
   },
   "cell_type": "code",
   "source": "solve_eq(a, b, l*2, alfa, beta, verbose=1)",
   "id": "811a47c54783d5d9",
   "outputs": [
    {
     "name": "stdout",
     "output_type": "stream",
     "text": [
      "size of the grid: 82\n",
      "F: [[    1.        0.        0.    ...     0.        0.        0.   ]\n",
      " [ 1700.994 -3366.     1661.006 ...     0.        0.        0.   ]\n",
      " [    0.     1700.488 -3366.    ...     0.        0.        0.   ]\n",
      " ...\n",
      " [    0.        0.        0.    ... -3366.     1700.488     0.   ]\n",
      " [    0.        0.        0.    ...  1661.006 -3366.     1700.994]\n",
      " [    0.        0.        0.    ...     0.        0.        1.   ]]\n",
      "v: [  4.     14.498  12.564  10.7     8.904   7.176   5.516   3.923   2.397\n",
      "   0.938  -0.456  -1.783  -3.044  -4.241  -5.373  -6.44   -7.443  -8.382\n",
      "  -9.259 -10.072 -10.822 -11.51  -12.137 -12.701 -13.205 -13.648 -14.03\n",
      " -14.352 -14.614 -14.817 -14.961 -15.046 -15.073 -15.042 -14.954 -14.808\n",
      " -14.606 -14.347 -14.031 -13.66  -13.234 -12.752 -12.216 -11.626 -10.981\n",
      " -10.283  -9.532  -8.728  -7.871  -6.962  -6.002  -4.989  -3.926  -2.812\n",
      "  -1.648  -0.434   0.83    2.143   3.505   4.916   6.375   7.881   9.435\n",
      "  11.036  12.684  14.379  16.119  17.905  19.736  21.612  23.533  25.498\n",
      "  27.507  29.559  31.655  33.793  35.973  38.196  40.46   42.766  45.113\n",
      "  15.   ]\n",
      "метод прогонки (run-through method):\n",
      "L[0]= 0.0\n",
      "M[0]= 4.0\n",
      "L[1]= 0.4934658861674112\n",
      "M[1]= 2.0170759521962194\n",
      "L[2]= 0.6575384116918089\n",
      "M[2]= 1.3524446795393343\n",
      "L[3]= 0.73926733717061\n",
      "M[3]= 1.0178961252360172\n",
      "L[4]= 0.7880633101137943\n",
      "M[4]= 0.8157745839653069\n",
      "L[5]= 0.8203970992451675\n",
      "M[5]= 0.6801818088848876\n",
      "L[6]= 0.8433280532466586\n",
      "M[6]= 0.582863237050979\n",
      "L[7]= 0.8603862128873512\n",
      "M[7]= 0.5096796165711799\n",
      "L[8]= 0.8735330131110409\n",
      "M[8]= 0.45276428807817337\n",
      "L[9]= 0.8839455624129887\n",
      "M[9]= 0.407386169910044\n",
      "L[10]= 0.8923731324228423\n",
      "M[10]= 0.3705239138943571\n",
      "L[11]= 0.8993154020019943\n",
      "M[11]= 0.3401530529577743\n",
      "L[12]= 0.9051184344332247\n",
      "M[12]= 0.31486222462846614\n",
      "L[13]= 0.9100295213727292\n",
      "M[13]= 0.29363393408716215\n",
      "L[14]= 0.9142300892681503\n",
      "M[14]= 0.27571307227885783\n",
      "L[15]= 0.9178562660831352\n",
      "M[15]= 0.2605247960705035\n",
      "L[16]= 0.9210121895253228\n",
      "M[16]= 0.24762144406343184\n",
      "L[17]= 0.9237788796512377\n",
      "M[17]= 0.2366471950367277\n",
      "L[18]= 0.9262203101291722\n",
      "M[18]= 0.22731393046225398\n",
      "L[19]= 0.9283876587146515\n",
      "M[19]= 0.21938437755029092\n",
      "L[20]= 0.9303223439347845\n",
      "M[20]= 0.21266010364358606\n",
      "L[21]= 0.9320582342388412\n",
      "M[21]= 0.2069728158686467\n",
      "L[22]= 0.9336232815098376\n",
      "M[22]= 0.20217795754429058\n",
      "L[23]= 0.935040746855808\n",
      "M[23]= 0.19814992889512023\n",
      "L[24]= 0.9363301328553766\n",
      "M[24]= 0.19477847473617746\n",
      "L[25]= 0.9375079012926547\n",
      "M[25]= 0.19196592249210936\n",
      "L[26]= 0.9385880319909075\n",
      "M[26]= 0.189625047749182\n",
      "L[27]= 0.9395824624593654\n",
      "M[27]= 0.18767740824355764\n",
      "L[28]= 0.9405014371062829\n",
      "M[28]= 0.18605203114969504\n",
      "L[29]= 0.9413537870992914\n",
      "M[29]= 0.18468436932583585\n",
      "L[30]= 0.9421471565102015\n",
      "M[30]= 0.18351546404281247\n",
      "L[31]= 0.9428881864693439\n",
      "M[31]= 0.18249126745282312\n",
      "L[32]= 0.9435826662100805\n",
      "M[32]= 0.1815620895032597\n",
      "L[33]= 0.9442356577932053\n",
      "M[33]= 0.18068214242355984\n",
      "L[34]= 0.9448515997482468\n",
      "M[34]= 0.17980916217224527\n",
      "L[35]= 0.9454343937046099\n",
      "M[35]= 0.17890409092562967\n",
      "L[36]= 0.9459874772049817\n",
      "M[36]= 0.1779308082402573\n",
      "L[37]= 0.9465138852217734\n",
      "M[37]= 0.17685590122748224\n",
      "L[38]= 0.9470163023809985\n",
      "M[38]= 0.1756484661560413\n",
      "L[39]= 0.9474971074980026\n",
      "M[39]= 0.1742799355033838\n",
      "L[40]= 0.9479584117174531\n",
      "M[40]= 0.17272392572353307\n",
      "L[41]= 0.9484020913049644\n",
      "M[41]= 0.17095610197319963\n",
      "L[42]= 0.9488298159440745\n",
      "M[42]= 0.16895405680202383\n",
      "L[43]= 0.9492430732382927\n",
      "M[43]= 0.16669720041481867\n",
      "L[44]= 0.9496431899947697\n",
      "M[44]= 0.16416666058959734\n",
      "L[45]= 0.950031350767064\n",
      "M[45]= 0.16134519071255904\n",
      "L[46]= 0.9504086140543723\n",
      "M[46]= 0.15821708469124818\n",
      "L[47]= 0.9507759264894622\n",
      "M[47]= 0.15476809774617206\n",
      "L[48]= 0.9511341352943471\n",
      "M[48]= 0.15098537227199943\n",
      "L[49]= 0.9514839992390668\n",
      "M[49]= 0.1468573681120244\n",
      "L[50]= 0.9518261983029205\n",
      "M[50]= 0.14237379671169106\n",
      "L[51]= 0.9521613422076538\n",
      "M[51]= 0.13752555871480743\n",
      "L[52]= 0.9524899779672698\n",
      "M[52]= 0.1323046846445191\n",
      "L[53]= 0.9528125965783807\n",
      "M[53]= 0.12670427837404724\n",
      "L[54]= 0.9531296389576056\n",
      "M[54]= 0.12071846314271763\n",
      "L[55]= 0.9534415012178451\n",
      "M[55]= 0.11434232991338693\n",
      "L[56]= 0.9537485393628627\n",
      "M[56]= 0.1075718878999873\n",
      "L[57]= 0.9540510734690664\n",
      "M[57]= 0.10040401712014455\n",
      "L[58]= 0.9543493914144155\n",
      "M[58]= 0.09283642284895051\n",
      "L[59]= 0.9546437522067104\n",
      "M[59]= 0.08486759186700421\n",
      "L[60]= 0.9549343889569415\n",
      "M[60]= 0.0764967504096021\n",
      "L[61]= 0.9552215115377217\n",
      "M[61]= 0.06772382373510676\n",
      "L[62]= 0.9555053089619389\n",
      "M[62]= 0.05854939723958801\n",
      "L[63]= 0.9557859515125435\n",
      "M[63]= 0.04897467905223096\n",
      "L[64]= 0.9560635926507183\n",
      "M[64]= 0.03900146405207903\n",
      "L[65]= 0.9563383707264866\n",
      "M[65]= 0.028632099251699992\n",
      "L[66]= 0.9566104105130362\n",
      "M[66]= 0.017869450497542173\n",
      "L[67]= 0.9568798245835995\n",
      "M[67]= 0.006716870440259848\n",
      "L[68]= 0.9571467145476066\n",
      "M[68]= -0.004821832268733272\n",
      "L[69]= 0.9574111721609492\n",
      "M[69]= -0.0167424225956673\n",
      "L[70]= 0.9576732803235563\n",
      "M[70]= -0.029040267596743108\n",
      "L[71]= 0.9579331139760275\n",
      "M[71]= -0.04171036378140364\n",
      "L[72]= 0.9581907409057918\n",
      "M[72]= -0.054747363401842636\n",
      "L[73]= 0.9584462224721293\n",
      "M[73]= -0.06814559970249405\n",
      "L[74]= 0.9586996142583911\n",
      "M[74]= -0.08189911116184134\n",
      "L[75]= 0.9589509666588639\n",
      "M[75]= -0.09600166475760233\n",
      "L[76]= 0.9592003254069396\n",
      "M[76]= -0.11044677828516337\n",
      "L[77]= 0.9594477320505466\n",
      "M[77]= -0.12522774175804077\n",
      "L[78]= 0.9596932243801801\n",
      "M[78]= -0.14033763791812748\n",
      "L[79]= 0.9599368368143092\n",
      "M[79]= -0.1557693618825273\n",
      "L[80]= 0.9601786007464461\n",
      "M[80]= -0.17151563995288355\n",
      "M[k] = x_k = 15.0\n",
      "x: [ 4.     3.875  3.766  3.67   3.588  3.518  3.459  3.41   3.371  3.341\n",
      "  3.318  3.303  3.295  3.292  3.295  3.303  3.315  3.33   3.349  3.37\n",
      "  3.394  3.419  3.446  3.475  3.504  3.535  3.565  3.597  3.628  3.66\n",
      "  3.692  3.724  3.756  3.788  3.82   3.853  3.886  3.92   3.954  3.99\n",
      "  4.027  4.066  4.107  4.151  4.197  4.247  4.3    4.358  4.421  4.489\n",
      "  4.564  4.645  4.734  4.831  4.938  5.054  5.181  5.319  5.47   5.634\n",
      "  5.813  6.007  6.218  6.446  6.693  6.96   7.248  7.558  7.892  8.25\n",
      "  8.635  9.047  9.487  9.958 10.461 10.997 11.568 12.175 12.821 13.505\n",
      " 14.231 15.   ]\n"
     ]
    },
    {
     "data": {
      "text/plain": [
       "array([ 4.   ,  3.875,  3.766,  3.67 ,  3.588,  3.518,  3.459,  3.41 ,\n",
       "        3.371,  3.341,  3.318,  3.303,  3.295,  3.292,  3.295,  3.303,\n",
       "        3.315,  3.33 ,  3.349,  3.37 ,  3.394,  3.419,  3.446,  3.475,\n",
       "        3.504,  3.535,  3.565,  3.597,  3.628,  3.66 ,  3.692,  3.724,\n",
       "        3.756,  3.788,  3.82 ,  3.853,  3.886,  3.92 ,  3.954,  3.99 ,\n",
       "        4.027,  4.066,  4.107,  4.151,  4.197,  4.247,  4.3  ,  4.358,\n",
       "        4.421,  4.489,  4.564,  4.645,  4.734,  4.831,  4.938,  5.054,\n",
       "        5.181,  5.319,  5.47 ,  5.634,  5.813,  6.007,  6.218,  6.446,\n",
       "        6.693,  6.96 ,  7.248,  7.558,  7.892,  8.25 ,  8.635,  9.047,\n",
       "        9.487,  9.958, 10.461, 10.997, 11.568, 12.175, 12.821, 13.505,\n",
       "       14.231, 15.   ])"
      ]
     },
     "execution_count": 12,
     "metadata": {},
     "output_type": "execute_result"
    }
   ],
   "execution_count": 12
  }
 ],
 "metadata": {
  "kernelspec": {
   "display_name": "Python 3",
   "language": "python",
   "name": "python3"
  },
  "language_info": {
   "codemirror_mode": {
    "name": "ipython",
    "version": 2
   },
   "file_extension": ".py",
   "mimetype": "text/x-python",
   "name": "python",
   "nbconvert_exporter": "python",
   "pygments_lexer": "ipython2",
   "version": "2.7.6"
  }
 },
 "nbformat": 4,
 "nbformat_minor": 5
}
