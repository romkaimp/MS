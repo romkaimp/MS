{
 "cells": [
  {
   "cell_type": "code",
   "id": "initial_id",
   "metadata": {
    "collapsed": true,
    "ExecuteTime": {
     "end_time": "2025-02-27T12:55:48.050909Z",
     "start_time": "2025-02-27T12:55:47.788538Z"
    }
   },
   "source": [
    "import numpy as np\n",
    "import matplotlib.pyplot as plt\n",
    "import math\n",
    "import random\n",
    "from graph_tools import plot_graph, find_stationary_matrices"
   ],
   "outputs": [],
   "execution_count": 1
  },
  {
   "metadata": {},
   "cell_type": "markdown",
   "source": [
    "### Задание\n",
    "![Задание](marketing_task.png)"
   ],
   "id": "729525301c92165"
  },
  {
   "metadata": {
    "ExecuteTime": {
     "end_time": "2025-02-27T12:55:48.075118Z",
     "start_time": "2025-02-27T12:55:48.065564Z"
    }
   },
   "cell_type": "code",
   "source": [
    "random.seed(0)\n",
    "k = 3\n",
    "i = 3\n",
    "j = 3\n",
    "p = np.random.rand(3, 3, 3)\n",
    "p = -np.sort(-p)\n",
    "p = p[:, :, np.arange(k)] / np.sum(p, axis=2, keepdims=True)\n",
    "\n",
    "R = np.random.rand(3, 3, 3)\n",
    "R = -np.sort(-R)\n",
    "R = R[:, :, np.arange(k)] / np.sum(R, axis=2, keepdims=True)\n",
    "r = 270*R + 30\n",
    "\n",
    "c = 20 * np.random.rand(3) + 10\n",
    "c = -np.sort(-c)\n",
    "beta = np.random.rand(1)"
   ],
   "id": "16592e0a262810f5",
   "outputs": [],
   "execution_count": 2
  },
  {
   "metadata": {},
   "cell_type": "markdown",
   "source": [
    "### Постановка задачи\n",
    "![Задание](Общая_задача.png)"
   ],
   "id": "7ac4f9453cbe10d9"
  },
  {
   "metadata": {
    "ExecuteTime": {
     "end_time": "2025-02-27T12:55:48.169831Z",
     "start_time": "2025-02-27T12:55:48.167611Z"
    }
   },
   "cell_type": "code",
   "source": [
    "print(R[2, :, :])\n",
    "print(r[2, :, :])"
   ],
   "id": "9f9547913bc77f4a",
   "outputs": [
    {
     "name": "stdout",
     "output_type": "stream",
     "text": [
      "[[0.60775694 0.26916512 0.12307794]\n",
      " [0.5203947  0.37614385 0.10346145]\n",
      " [0.71728065 0.23682743 0.04589192]]\n",
      "[[194.0943736  102.67458258  63.23104382]\n",
      " [170.50656887 131.5588386   57.93459252]\n",
      " [223.66577565  93.94340649  42.39081786]]\n"
     ]
    }
   ],
   "execution_count": 3
  },
  {
   "metadata": {},
   "cell_type": "markdown",
   "source": "### Неуправляемый режим (k = 3)",
   "id": "e67cf4f494de773f"
  },
  {
   "metadata": {
    "ExecuteTime": {
     "end_time": "2025-02-27T12:55:48.176769Z",
     "start_time": "2025-02-27T12:55:48.174222Z"
    }
   },
   "cell_type": "code",
   "source": [
    "P = p[2, :, :]\n",
    "R_2 = R[2, :, :]\n",
    "r_2 = r[2, :, :]\n",
    "c_2 = c[2]\n",
    "#plot_graph(P, \"Вероятности перехода между i-ми состояниями\")\n",
    "#plot_graph(R_2, \"Вероятности получения дохода\", states=[\"Отличный\", \"средний\", \"посредственный\"])"
   ],
   "id": "8a7f596cbd536f1e",
   "outputs": [],
   "execution_count": 4
  },
  {
   "metadata": {},
   "cell_type": "markdown",
   "source": [
    "### Управляемый режим\n",
    "![Задание](Алгоритм_полного_перебора.png)"
   ],
   "id": "b73871a13cf0d654"
  },
  {
   "metadata": {
    "ExecuteTime": {
     "end_time": "2025-02-27T13:04:03.140295Z",
     "start_time": "2025-02-27T13:04:03.137284Z"
    }
   },
   "cell_type": "code",
   "source": [
    "v_k_i = np.sum(p * r, axis=2)\n",
    "print(v_k_i)\n",
    "pi_k = find_stationary_matrices(p)\n",
    "pi_k = pi_k[:, 1, :].reshape((3, 3))\n",
    "\n",
    "print(pi_k)\n",
    "E = np.sum(v_k_i * pi_k, axis=1)\n",
    "print(E)"
   ],
   "id": "e8abf433b93a2bfb",
   "outputs": [
    {
     "name": "stdout",
     "output_type": "stream",
     "text": [
      "[[123.46294551 136.73480537 123.21545923]\n",
      " [146.53668898 157.60339701 142.64056137]\n",
      " [130.39304781 158.36480809 179.94643222]]\n",
      "[[0.54819565 0.39211666 0.05968769]\n",
      " [0.53405761 0.36673585 0.09920653]\n",
      " [0.54171643 0.3188643  0.13941927]]\n",
      "[128.65229101 150.2087263  146.22094033]\n"
     ]
    }
   ],
   "execution_count": 11
  }
 ],
 "metadata": {
  "kernelspec": {
   "display_name": "Python 3",
   "language": "python",
   "name": "python3"
  },
  "language_info": {
   "codemirror_mode": {
    "name": "ipython",
    "version": 2
   },
   "file_extension": ".py",
   "mimetype": "text/x-python",
   "name": "python",
   "nbconvert_exporter": "python",
   "pygments_lexer": "ipython2",
   "version": "2.7.6"
  }
 },
 "nbformat": 4,
 "nbformat_minor": 5
}
