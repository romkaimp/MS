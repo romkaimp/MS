{
 "cells": [
  {
   "cell_type": "code",
   "id": "556e0fca11d6b7c0",
   "metadata": {
    "ExecuteTime": {
     "end_time": "2024-10-02T20:20:36.415786Z",
     "start_time": "2024-10-02T20:20:35.298088Z"
    }
   },
   "source": [
    "import matplotlib.pyplot as plt\n",
    "import matplotlib.animation as animation\n",
    "import numpy as np\n",
    "import time\n",
    "import os\n",
    "from sympy import diff, symbols, integrate, Rational, solve, Pow, limit, pi, cos, sin, summation\n",
    "\n",
    "os.environ['ffmpeg'] = 'E:/ffmpeg/ffmpeg-7.0.2-essentials_build/bin/ffmpeg'\n",
    "plt.rcParams['animation.ffmpeg_path'] = 'E:/ffmpeg/ffmpeg-7.0.2-essentials_build/bin/ffmpeg'\n",
    "plt.rcParams['savefig.bbox'] = 'tight'\n",
    "\n",
    "x_range = np.linspace(0, 3, 30)\n",
    "t_range = np.linspace(0, np.pi/2*10, 200)\n",
    "\n",
    "x, t, j = symbols(\"x t j\")\n",
    "a = 1\n",
    "y = (((1 - 3/(a**2 * pi**3 * 100 - 3*pi))*cos(a*pi*t/3) + 3*cos(t/10)/(a**2*pi**3*100-3*pi))*sin(pi*x/3) +\n",
    "     summation( ((- 3/(a**2 * (j*pi)**3 * 100 - 3*pi*j)) * cos(a*pi*t*j/3) + 3*cos(t/10)/(a**2*(pi*j)**3*100-3*pi*j)\n",
    "                )*sin(pi*x*j/3) , (j, 2, 20)) +\n",
    "cos(t/10) - x/3*cos(t/10))\n",
    "\n",
    "y_diff = diff(y, t)\n",
    "#print(y.subs({x:0}))\n",
    "#print(y.subs({x:3}))\n",
    "#print(y.subs({t:0}))\n",
    "#print(y_diff.subs({t:0}))\n",
    "\n",
    "\n",
    "fig, ax = plt.subplots()\n",
    "line, = ax.plot([], [], lw=1,)\n",
    "ax.set_xlim(0, 3)\n",
    "ax.set_ylim(-np.pi, np.pi)"
   ],
   "outputs": [
    {
     "data": {
      "text/plain": [
       "(-50.0, 400.0)"
      ]
     },
     "execution_count": 1,
     "metadata": {},
     "output_type": "execute_result"
    },
    {
     "data": {
      "text/plain": [
       "<Figure size 640x480 with 1 Axes>"
      ],
      "image/png": "[encoded data removed]"
     },
     "metadata": {},
     "output_type": "display_data"
    }
   ],
   "execution_count": 1
  },
  {
   "metadata": {
    "collapsed": true,
    "ExecuteTime": {
     "end_time": "2024-10-02T20:21:25.691013900Z",
     "start_time": "2024-10-02T20:21:11.697203Z"
    }
   },
   "cell_type": "code",
   "source": [
    "\n",
    "def updater(tt):\n",
    "    print(tt)\n",
    "    return [y.evalf(n=2, subs={x:r, t:tt}) for r in x_range]\n",
    "y_x = [updater(i) for i in t_range]"
   ],
   "id": "initial_id",
   "outputs": [
    {
     "name": "stdout",
     "output_type": "stream",
     "text": [
      "0.0\n",
      "0.07893448878366315\n",
      "0.1578689775673263\n",
      "0.23680346635098942\n",
      "0.3157379551346526\n",
      "0.39467244391831574\n",
      "0.47360693270197884\n",
      "0.552541421485642\n",
      "0.6314759102693052\n",
      "0.7104103990529683\n",
      "0.7893448878366315\n",
      "0.8682793766202946\n",
      "0.9472138654039577\n",
      "1.0261483541876208\n",
      "1.105082842971284\n",
      "1.1840173317549472\n",
      "1.2629518205386103\n",
      "1.3418863093222735\n",
      "1.4208207981059366\n",
      "1.4997552868895998\n",
      "1.578689775673263\n"
     ]
    },
    {
     "ename": "KeyboardInterrupt",
     "evalue": "",
     "output_type": "error",
     "traceback": [
      "\u001B[1;31m---------------------------------------------------------------------------\u001B[0m",
      "\u001B[1;31mKeyboardInterrupt\u001B[0m                         Traceback (most recent call last)",
      "Cell \u001B[1;32mIn[3], line 4\u001B[0m\n\u001B[0;32m      2\u001B[0m     \u001B[38;5;28mprint\u001B[39m(tt)\n\u001B[0;32m      3\u001B[0m     \u001B[38;5;28;01mreturn\u001B[39;00m [y\u001B[38;5;241m.\u001B[39mevalf(n\u001B[38;5;241m=\u001B[39m\u001B[38;5;241m1\u001B[39m, subs\u001B[38;5;241m=\u001B[39m{x:r, t:tt}) \u001B[38;5;28;01mfor\u001B[39;00m r \u001B[38;5;129;01min\u001B[39;00m x_range]\n\u001B[1;32m----> 4\u001B[0m y_x \u001B[38;5;241m=\u001B[39m [\u001B[43mupdater\u001B[49m\u001B[43m(\u001B[49m\u001B[43mi\u001B[49m\u001B[43m)\u001B[49m \u001B[38;5;28;01mfor\u001B[39;00m i \u001B[38;5;129;01min\u001B[39;00m t_range]\n",
      "Cell \u001B[1;32mIn[3], line 3\u001B[0m, in \u001B[0;36mupdater\u001B[1;34m(tt)\u001B[0m\n\u001B[0;32m      1\u001B[0m \u001B[38;5;28;01mdef\u001B[39;00m \u001B[38;5;21mupdater\u001B[39m(tt):\n\u001B[0;32m      2\u001B[0m     \u001B[38;5;28mprint\u001B[39m(tt)\n\u001B[1;32m----> 3\u001B[0m     \u001B[38;5;28;01mreturn\u001B[39;00m [\u001B[43my\u001B[49m\u001B[38;5;241;43m.\u001B[39;49m\u001B[43mevalf\u001B[49m\u001B[43m(\u001B[49m\u001B[43mn\u001B[49m\u001B[38;5;241;43m=\u001B[39;49m\u001B[38;5;241;43m1\u001B[39;49m\u001B[43m,\u001B[49m\u001B[43m \u001B[49m\u001B[43msubs\u001B[49m\u001B[38;5;241;43m=\u001B[39;49m\u001B[43m{\u001B[49m\u001B[43mx\u001B[49m\u001B[43m:\u001B[49m\u001B[43mr\u001B[49m\u001B[43m,\u001B[49m\u001B[43m \u001B[49m\u001B[43mt\u001B[49m\u001B[43m:\u001B[49m\u001B[43mtt\u001B[49m\u001B[43m}\u001B[49m\u001B[43m)\u001B[49m \u001B[38;5;28;01mfor\u001B[39;00m r \u001B[38;5;129;01min\u001B[39;00m x_range]\n",
      "File \u001B[1;32mE:\\FASTAPI\\labs_MS\\.venv\\Lib\\site-packages\\sympy\\core\\evalf.py:1648\u001B[0m, in \u001B[0;36mEvalfMixin.evalf\u001B[1;34m(self, n, subs, maxn, chop, strict, quad, verbose)\u001B[0m\n\u001B[0;32m   1646\u001B[0m     options[\u001B[38;5;124m'\u001B[39m\u001B[38;5;124mquad\u001B[39m\u001B[38;5;124m'\u001B[39m] \u001B[38;5;241m=\u001B[39m quad\n\u001B[0;32m   1647\u001B[0m \u001B[38;5;28;01mtry\u001B[39;00m:\n\u001B[1;32m-> 1648\u001B[0m     result \u001B[38;5;241m=\u001B[39m \u001B[43mevalf\u001B[49m\u001B[43m(\u001B[49m\u001B[38;5;28;43mself\u001B[39;49m\u001B[43m,\u001B[49m\u001B[43m \u001B[49m\u001B[43mprec\u001B[49m\u001B[43m \u001B[49m\u001B[38;5;241;43m+\u001B[39;49m\u001B[43m \u001B[49m\u001B[38;5;241;43m4\u001B[39;49m\u001B[43m,\u001B[49m\u001B[43m \u001B[49m\u001B[43moptions\u001B[49m\u001B[43m)\u001B[49m\n\u001B[0;32m   1649\u001B[0m \u001B[38;5;28;01mexcept\u001B[39;00m \u001B[38;5;167;01mNotImplementedError\u001B[39;00m:\n\u001B[0;32m   1650\u001B[0m     \u001B[38;5;66;03m# Fall back to the ordinary evalf\u001B[39;00m\n\u001B[0;32m   1651\u001B[0m     \u001B[38;5;28;01mif\u001B[39;00m \u001B[38;5;28mhasattr\u001B[39m(\u001B[38;5;28mself\u001B[39m, \u001B[38;5;124m'\u001B[39m\u001B[38;5;124msubs\u001B[39m\u001B[38;5;124m'\u001B[39m) \u001B[38;5;129;01mand\u001B[39;00m subs \u001B[38;5;129;01mis\u001B[39;00m \u001B[38;5;129;01mnot\u001B[39;00m \u001B[38;5;28;01mNone\u001B[39;00m:  \u001B[38;5;66;03m# issue 20291\u001B[39;00m\n",
      "File \u001B[1;32mE:\\FASTAPI\\labs_MS\\.venv\\Lib\\site-packages\\sympy\\core\\evalf.py:1483\u001B[0m, in \u001B[0;36mevalf\u001B[1;34m(x, prec, options)\u001B[0m\n\u001B[0;32m   1481\u001B[0m \u001B[38;5;28;01mtry\u001B[39;00m:\n\u001B[0;32m   1482\u001B[0m     rf \u001B[38;5;241m=\u001B[39m evalf_table[\u001B[38;5;28mtype\u001B[39m(x)]\n\u001B[1;32m-> 1483\u001B[0m     r \u001B[38;5;241m=\u001B[39m \u001B[43mrf\u001B[49m\u001B[43m(\u001B[49m\u001B[43mx\u001B[49m\u001B[43m,\u001B[49m\u001B[43m \u001B[49m\u001B[43mprec\u001B[49m\u001B[43m,\u001B[49m\u001B[43m \u001B[49m\u001B[43moptions\u001B[49m\u001B[43m)\u001B[49m\n\u001B[0;32m   1484\u001B[0m \u001B[38;5;28;01mexcept\u001B[39;00m \u001B[38;5;167;01mKeyError\u001B[39;00m:\n\u001B[0;32m   1485\u001B[0m     \u001B[38;5;66;03m# Fall back to ordinary evalf if possible\u001B[39;00m\n\u001B[0;32m   1486\u001B[0m     \u001B[38;5;28;01mif\u001B[39;00m \u001B[38;5;124m'\u001B[39m\u001B[38;5;124msubs\u001B[39m\u001B[38;5;124m'\u001B[39m \u001B[38;5;129;01min\u001B[39;00m options:\n",
      "File \u001B[1;32mE:\\FASTAPI\\labs_MS\\.venv\\Lib\\site-packages\\sympy\\core\\evalf.py:601\u001B[0m, in \u001B[0;36mevalf_add\u001B[1;34m(v, prec, options)\u001B[0m\n\u001B[0;32m    598\u001B[0m \u001B[38;5;28;01mwhile\u001B[39;00m \u001B[38;5;241m1\u001B[39m:\n\u001B[0;32m    599\u001B[0m     options[\u001B[38;5;124m'\u001B[39m\u001B[38;5;124mmaxprec\u001B[39m\u001B[38;5;124m'\u001B[39m] \u001B[38;5;241m=\u001B[39m \u001B[38;5;28mmin\u001B[39m(oldmaxprec, \u001B[38;5;241m2\u001B[39m\u001B[38;5;241m*\u001B[39mprec)\n\u001B[1;32m--> 601\u001B[0m     terms \u001B[38;5;241m=\u001B[39m [\u001B[43mevalf\u001B[49m\u001B[43m(\u001B[49m\u001B[43marg\u001B[49m\u001B[43m,\u001B[49m\u001B[43m \u001B[49m\u001B[43mprec\u001B[49m\u001B[43m \u001B[49m\u001B[38;5;241;43m+\u001B[39;49m\u001B[43m \u001B[49m\u001B[38;5;241;43m10\u001B[39;49m\u001B[43m,\u001B[49m\u001B[43m \u001B[49m\u001B[43moptions\u001B[49m\u001B[43m)\u001B[49m \u001B[38;5;28;01mfor\u001B[39;00m arg \u001B[38;5;129;01min\u001B[39;00m v\u001B[38;5;241m.\u001B[39margs]\n\u001B[0;32m    602\u001B[0m     n \u001B[38;5;241m=\u001B[39m terms\u001B[38;5;241m.\u001B[39mcount(S\u001B[38;5;241m.\u001B[39mComplexInfinity)\n\u001B[0;32m    603\u001B[0m     \u001B[38;5;28;01mif\u001B[39;00m n \u001B[38;5;241m>\u001B[39m\u001B[38;5;241m=\u001B[39m \u001B[38;5;241m2\u001B[39m:\n",
      "File \u001B[1;32mE:\\FASTAPI\\labs_MS\\.venv\\Lib\\site-packages\\sympy\\core\\evalf.py:1483\u001B[0m, in \u001B[0;36mevalf\u001B[1;34m(x, prec, options)\u001B[0m\n\u001B[0;32m   1481\u001B[0m \u001B[38;5;28;01mtry\u001B[39;00m:\n\u001B[0;32m   1482\u001B[0m     rf \u001B[38;5;241m=\u001B[39m evalf_table[\u001B[38;5;28mtype\u001B[39m(x)]\n\u001B[1;32m-> 1483\u001B[0m     r \u001B[38;5;241m=\u001B[39m \u001B[43mrf\u001B[49m\u001B[43m(\u001B[49m\u001B[43mx\u001B[49m\u001B[43m,\u001B[49m\u001B[43m \u001B[49m\u001B[43mprec\u001B[49m\u001B[43m,\u001B[49m\u001B[43m \u001B[49m\u001B[43moptions\u001B[49m\u001B[43m)\u001B[49m\n\u001B[0;32m   1484\u001B[0m \u001B[38;5;28;01mexcept\u001B[39;00m \u001B[38;5;167;01mKeyError\u001B[39;00m:\n\u001B[0;32m   1485\u001B[0m     \u001B[38;5;66;03m# Fall back to ordinary evalf if possible\u001B[39;00m\n\u001B[0;32m   1486\u001B[0m     \u001B[38;5;28;01mif\u001B[39;00m \u001B[38;5;124m'\u001B[39m\u001B[38;5;124msubs\u001B[39m\u001B[38;5;124m'\u001B[39m \u001B[38;5;129;01min\u001B[39;00m options:\n",
      "File \u001B[1;32mE:\\FASTAPI\\labs_MS\\.venv\\Lib\\site-packages\\sympy\\core\\evalf.py:697\u001B[0m, in \u001B[0;36mevalf_mul\u001B[1;34m(v, prec, options)\u001B[0m\n\u001B[0;32m    695\u001B[0m \u001B[38;5;28;01melif\u001B[39;00m i \u001B[38;5;241m==\u001B[39m last \u001B[38;5;129;01mand\u001B[39;00m arg \u001B[38;5;129;01mis\u001B[39;00m S\u001B[38;5;241m.\u001B[39mOne:\n\u001B[0;32m    696\u001B[0m     \u001B[38;5;28;01mcontinue\u001B[39;00m\n\u001B[1;32m--> 697\u001B[0m re, im, re_acc, im_acc \u001B[38;5;241m=\u001B[39m \u001B[43mevalf\u001B[49m\u001B[43m(\u001B[49m\u001B[43marg\u001B[49m\u001B[43m,\u001B[49m\u001B[43m \u001B[49m\u001B[43mworking_prec\u001B[49m\u001B[43m,\u001B[49m\u001B[43m \u001B[49m\u001B[43moptions\u001B[49m\u001B[43m)\u001B[49m\n\u001B[0;32m    698\u001B[0m \u001B[38;5;28;01mif\u001B[39;00m re \u001B[38;5;129;01mand\u001B[39;00m im:\n\u001B[0;32m    699\u001B[0m     complex_factors\u001B[38;5;241m.\u001B[39mappend((re, im, re_acc, im_acc))\n",
      "File \u001B[1;32mE:\\FASTAPI\\labs_MS\\.venv\\Lib\\site-packages\\sympy\\core\\evalf.py:1483\u001B[0m, in \u001B[0;36mevalf\u001B[1;34m(x, prec, options)\u001B[0m\n\u001B[0;32m   1481\u001B[0m \u001B[38;5;28;01mtry\u001B[39;00m:\n\u001B[0;32m   1482\u001B[0m     rf \u001B[38;5;241m=\u001B[39m evalf_table[\u001B[38;5;28mtype\u001B[39m(x)]\n\u001B[1;32m-> 1483\u001B[0m     r \u001B[38;5;241m=\u001B[39m \u001B[43mrf\u001B[49m\u001B[43m(\u001B[49m\u001B[43mx\u001B[49m\u001B[43m,\u001B[49m\u001B[43m \u001B[49m\u001B[43mprec\u001B[49m\u001B[43m,\u001B[49m\u001B[43m \u001B[49m\u001B[43moptions\u001B[49m\u001B[43m)\u001B[49m\n\u001B[0;32m   1484\u001B[0m \u001B[38;5;28;01mexcept\u001B[39;00m \u001B[38;5;167;01mKeyError\u001B[39;00m:\n\u001B[0;32m   1485\u001B[0m     \u001B[38;5;66;03m# Fall back to ordinary evalf if possible\u001B[39;00m\n\u001B[0;32m   1486\u001B[0m     \u001B[38;5;28;01mif\u001B[39;00m \u001B[38;5;124m'\u001B[39m\u001B[38;5;124msubs\u001B[39m\u001B[38;5;124m'\u001B[39m \u001B[38;5;129;01min\u001B[39;00m options:\n",
      "File \u001B[1;32mE:\\FASTAPI\\labs_MS\\.venv\\Lib\\site-packages\\sympy\\core\\evalf.py:601\u001B[0m, in \u001B[0;36mevalf_add\u001B[1;34m(v, prec, options)\u001B[0m\n\u001B[0;32m    598\u001B[0m \u001B[38;5;28;01mwhile\u001B[39;00m \u001B[38;5;241m1\u001B[39m:\n\u001B[0;32m    599\u001B[0m     options[\u001B[38;5;124m'\u001B[39m\u001B[38;5;124mmaxprec\u001B[39m\u001B[38;5;124m'\u001B[39m] \u001B[38;5;241m=\u001B[39m \u001B[38;5;28mmin\u001B[39m(oldmaxprec, \u001B[38;5;241m2\u001B[39m\u001B[38;5;241m*\u001B[39mprec)\n\u001B[1;32m--> 601\u001B[0m     terms \u001B[38;5;241m=\u001B[39m [\u001B[43mevalf\u001B[49m\u001B[43m(\u001B[49m\u001B[43marg\u001B[49m\u001B[43m,\u001B[49m\u001B[43m \u001B[49m\u001B[43mprec\u001B[49m\u001B[43m \u001B[49m\u001B[38;5;241;43m+\u001B[39;49m\u001B[43m \u001B[49m\u001B[38;5;241;43m10\u001B[39;49m\u001B[43m,\u001B[49m\u001B[43m \u001B[49m\u001B[43moptions\u001B[49m\u001B[43m)\u001B[49m \u001B[38;5;28;01mfor\u001B[39;00m arg \u001B[38;5;129;01min\u001B[39;00m v\u001B[38;5;241m.\u001B[39margs]\n\u001B[0;32m    602\u001B[0m     n \u001B[38;5;241m=\u001B[39m terms\u001B[38;5;241m.\u001B[39mcount(S\u001B[38;5;241m.\u001B[39mComplexInfinity)\n\u001B[0;32m    603\u001B[0m     \u001B[38;5;28;01mif\u001B[39;00m n \u001B[38;5;241m>\u001B[39m\u001B[38;5;241m=\u001B[39m \u001B[38;5;241m2\u001B[39m:\n",
      "File \u001B[1;32mE:\\FASTAPI\\labs_MS\\.venv\\Lib\\site-packages\\sympy\\core\\evalf.py:1483\u001B[0m, in \u001B[0;36mevalf\u001B[1;34m(x, prec, options)\u001B[0m\n\u001B[0;32m   1481\u001B[0m \u001B[38;5;28;01mtry\u001B[39;00m:\n\u001B[0;32m   1482\u001B[0m     rf \u001B[38;5;241m=\u001B[39m evalf_table[\u001B[38;5;28mtype\u001B[39m(x)]\n\u001B[1;32m-> 1483\u001B[0m     r \u001B[38;5;241m=\u001B[39m \u001B[43mrf\u001B[49m\u001B[43m(\u001B[49m\u001B[43mx\u001B[49m\u001B[43m,\u001B[49m\u001B[43m \u001B[49m\u001B[43mprec\u001B[49m\u001B[43m,\u001B[49m\u001B[43m \u001B[49m\u001B[43moptions\u001B[49m\u001B[43m)\u001B[49m\n\u001B[0;32m   1484\u001B[0m \u001B[38;5;28;01mexcept\u001B[39;00m \u001B[38;5;167;01mKeyError\u001B[39;00m:\n\u001B[0;32m   1485\u001B[0m     \u001B[38;5;66;03m# Fall back to ordinary evalf if possible\u001B[39;00m\n\u001B[0;32m   1486\u001B[0m     \u001B[38;5;28;01mif\u001B[39;00m \u001B[38;5;124m'\u001B[39m\u001B[38;5;124msubs\u001B[39m\u001B[38;5;124m'\u001B[39m \u001B[38;5;129;01min\u001B[39;00m options:\n",
      "File \u001B[1;32mE:\\FASTAPI\\labs_MS\\.venv\\Lib\\site-packages\\sympy\\core\\evalf.py:649\u001B[0m, in \u001B[0;36mevalf_mul\u001B[1;34m(v, prec, options)\u001B[0m\n\u001B[0;32m    647\u001B[0m \u001B[38;5;28;01mfrom\u001B[39;00m \u001B[38;5;21;01m.\u001B[39;00m\u001B[38;5;21;01mnumbers\u001B[39;00m \u001B[38;5;28;01mimport\u001B[39;00m Float\n\u001B[0;32m    648\u001B[0m \u001B[38;5;28;01mfor\u001B[39;00m arg \u001B[38;5;129;01min\u001B[39;00m args:\n\u001B[1;32m--> 649\u001B[0m     result \u001B[38;5;241m=\u001B[39m \u001B[43mevalf\u001B[49m\u001B[43m(\u001B[49m\u001B[43marg\u001B[49m\u001B[43m,\u001B[49m\u001B[43m \u001B[49m\u001B[43mprec\u001B[49m\u001B[43m,\u001B[49m\u001B[43m \u001B[49m\u001B[43moptions\u001B[49m\u001B[43m)\u001B[49m\n\u001B[0;32m    650\u001B[0m     \u001B[38;5;28;01mif\u001B[39;00m result \u001B[38;5;129;01mis\u001B[39;00m S\u001B[38;5;241m.\u001B[39mComplexInfinity:\n\u001B[0;32m    651\u001B[0m         special\u001B[38;5;241m.\u001B[39mappend(result)\n",
      "File \u001B[1;32mE:\\FASTAPI\\labs_MS\\.venv\\Lib\\site-packages\\sympy\\core\\evalf.py:1483\u001B[0m, in \u001B[0;36mevalf\u001B[1;34m(x, prec, options)\u001B[0m\n\u001B[0;32m   1481\u001B[0m \u001B[38;5;28;01mtry\u001B[39;00m:\n\u001B[0;32m   1482\u001B[0m     rf \u001B[38;5;241m=\u001B[39m evalf_table[\u001B[38;5;28mtype\u001B[39m(x)]\n\u001B[1;32m-> 1483\u001B[0m     r \u001B[38;5;241m=\u001B[39m \u001B[43mrf\u001B[49m\u001B[43m(\u001B[49m\u001B[43mx\u001B[49m\u001B[43m,\u001B[49m\u001B[43m \u001B[49m\u001B[43mprec\u001B[49m\u001B[43m,\u001B[49m\u001B[43m \u001B[49m\u001B[43moptions\u001B[49m\u001B[43m)\u001B[49m\n\u001B[0;32m   1484\u001B[0m \u001B[38;5;28;01mexcept\u001B[39;00m \u001B[38;5;167;01mKeyError\u001B[39;00m:\n\u001B[0;32m   1485\u001B[0m     \u001B[38;5;66;03m# Fall back to ordinary evalf if possible\u001B[39;00m\n\u001B[0;32m   1486\u001B[0m     \u001B[38;5;28;01mif\u001B[39;00m \u001B[38;5;124m'\u001B[39m\u001B[38;5;124msubs\u001B[39m\u001B[38;5;124m'\u001B[39m \u001B[38;5;129;01min\u001B[39;00m options:\n",
      "File \u001B[1;32mE:\\FASTAPI\\labs_MS\\.venv\\Lib\\site-packages\\sympy\\core\\evalf.py:777\u001B[0m, in \u001B[0;36mevalf_pow\u001B[1;34m(v, prec, options)\u001B[0m\n\u001B[0;32m    774\u001B[0m \u001B[38;5;66;03m# Exponentiation by p magnifies relative error by |p|, so the\u001B[39;00m\n\u001B[0;32m    775\u001B[0m \u001B[38;5;66;03m# base must be evaluated with increased precision if p is large\u001B[39;00m\n\u001B[0;32m    776\u001B[0m prec \u001B[38;5;241m+\u001B[39m\u001B[38;5;241m=\u001B[39m \u001B[38;5;28mint\u001B[39m(math\u001B[38;5;241m.\u001B[39mlog2(\u001B[38;5;28mabs\u001B[39m(p)))\n\u001B[1;32m--> 777\u001B[0m result \u001B[38;5;241m=\u001B[39m \u001B[43mevalf\u001B[49m\u001B[43m(\u001B[49m\u001B[43mbase\u001B[49m\u001B[43m,\u001B[49m\u001B[43m \u001B[49m\u001B[43mprec\u001B[49m\u001B[43m \u001B[49m\u001B[38;5;241;43m+\u001B[39;49m\u001B[43m \u001B[49m\u001B[38;5;241;43m5\u001B[39;49m\u001B[43m,\u001B[49m\u001B[43m \u001B[49m\u001B[43moptions\u001B[49m\u001B[43m)\u001B[49m\n\u001B[0;32m    778\u001B[0m \u001B[38;5;28;01mif\u001B[39;00m result \u001B[38;5;129;01mis\u001B[39;00m S\u001B[38;5;241m.\u001B[39mComplexInfinity:\n\u001B[0;32m    779\u001B[0m     \u001B[38;5;28;01mif\u001B[39;00m p \u001B[38;5;241m<\u001B[39m \u001B[38;5;241m0\u001B[39m:\n",
      "File \u001B[1;32mE:\\FASTAPI\\labs_MS\\.venv\\Lib\\site-packages\\sympy\\core\\evalf.py:1483\u001B[0m, in \u001B[0;36mevalf\u001B[1;34m(x, prec, options)\u001B[0m\n\u001B[0;32m   1481\u001B[0m \u001B[38;5;28;01mtry\u001B[39;00m:\n\u001B[0;32m   1482\u001B[0m     rf \u001B[38;5;241m=\u001B[39m evalf_table[\u001B[38;5;28mtype\u001B[39m(x)]\n\u001B[1;32m-> 1483\u001B[0m     r \u001B[38;5;241m=\u001B[39m \u001B[43mrf\u001B[49m\u001B[43m(\u001B[49m\u001B[43mx\u001B[49m\u001B[43m,\u001B[49m\u001B[43m \u001B[49m\u001B[43mprec\u001B[49m\u001B[43m,\u001B[49m\u001B[43m \u001B[49m\u001B[43moptions\u001B[49m\u001B[43m)\u001B[49m\n\u001B[0;32m   1484\u001B[0m \u001B[38;5;28;01mexcept\u001B[39;00m \u001B[38;5;167;01mKeyError\u001B[39;00m:\n\u001B[0;32m   1485\u001B[0m     \u001B[38;5;66;03m# Fall back to ordinary evalf if possible\u001B[39;00m\n\u001B[0;32m   1486\u001B[0m     \u001B[38;5;28;01mif\u001B[39;00m \u001B[38;5;124m'\u001B[39m\u001B[38;5;124msubs\u001B[39m\u001B[38;5;124m'\u001B[39m \u001B[38;5;129;01min\u001B[39;00m options:\n",
      "File \u001B[1;32mE:\\FASTAPI\\labs_MS\\.venv\\Lib\\site-packages\\sympy\\core\\evalf.py:601\u001B[0m, in \u001B[0;36mevalf_add\u001B[1;34m(v, prec, options)\u001B[0m\n\u001B[0;32m    598\u001B[0m \u001B[38;5;28;01mwhile\u001B[39;00m \u001B[38;5;241m1\u001B[39m:\n\u001B[0;32m    599\u001B[0m     options[\u001B[38;5;124m'\u001B[39m\u001B[38;5;124mmaxprec\u001B[39m\u001B[38;5;124m'\u001B[39m] \u001B[38;5;241m=\u001B[39m \u001B[38;5;28mmin\u001B[39m(oldmaxprec, \u001B[38;5;241m2\u001B[39m\u001B[38;5;241m*\u001B[39mprec)\n\u001B[1;32m--> 601\u001B[0m     terms \u001B[38;5;241m=\u001B[39m [\u001B[43mevalf\u001B[49m\u001B[43m(\u001B[49m\u001B[43marg\u001B[49m\u001B[43m,\u001B[49m\u001B[43m \u001B[49m\u001B[43mprec\u001B[49m\u001B[43m \u001B[49m\u001B[38;5;241;43m+\u001B[39;49m\u001B[43m \u001B[49m\u001B[38;5;241;43m10\u001B[39;49m\u001B[43m,\u001B[49m\u001B[43m \u001B[49m\u001B[43moptions\u001B[49m\u001B[43m)\u001B[49m \u001B[38;5;28;01mfor\u001B[39;00m arg \u001B[38;5;129;01min\u001B[39;00m v\u001B[38;5;241m.\u001B[39margs]\n\u001B[0;32m    602\u001B[0m     n \u001B[38;5;241m=\u001B[39m terms\u001B[38;5;241m.\u001B[39mcount(S\u001B[38;5;241m.\u001B[39mComplexInfinity)\n\u001B[0;32m    603\u001B[0m     \u001B[38;5;28;01mif\u001B[39;00m n \u001B[38;5;241m>\u001B[39m\u001B[38;5;241m=\u001B[39m \u001B[38;5;241m2\u001B[39m:\n",
      "File \u001B[1;32mE:\\FASTAPI\\labs_MS\\.venv\\Lib\\site-packages\\sympy\\core\\evalf.py:1483\u001B[0m, in \u001B[0;36mevalf\u001B[1;34m(x, prec, options)\u001B[0m\n\u001B[0;32m   1481\u001B[0m \u001B[38;5;28;01mtry\u001B[39;00m:\n\u001B[0;32m   1482\u001B[0m     rf \u001B[38;5;241m=\u001B[39m evalf_table[\u001B[38;5;28mtype\u001B[39m(x)]\n\u001B[1;32m-> 1483\u001B[0m     r \u001B[38;5;241m=\u001B[39m \u001B[43mrf\u001B[49m\u001B[43m(\u001B[49m\u001B[43mx\u001B[49m\u001B[43m,\u001B[49m\u001B[43m \u001B[49m\u001B[43mprec\u001B[49m\u001B[43m,\u001B[49m\u001B[43m \u001B[49m\u001B[43moptions\u001B[49m\u001B[43m)\u001B[49m\n\u001B[0;32m   1484\u001B[0m \u001B[38;5;28;01mexcept\u001B[39;00m \u001B[38;5;167;01mKeyError\u001B[39;00m:\n\u001B[0;32m   1485\u001B[0m     \u001B[38;5;66;03m# Fall back to ordinary evalf if possible\u001B[39;00m\n\u001B[0;32m   1486\u001B[0m     \u001B[38;5;28;01mif\u001B[39;00m \u001B[38;5;124m'\u001B[39m\u001B[38;5;124msubs\u001B[39m\u001B[38;5;124m'\u001B[39m \u001B[38;5;129;01min\u001B[39;00m options:\n",
      "File \u001B[1;32mE:\\FASTAPI\\labs_MS\\.venv\\Lib\\site-packages\\sympy\\core\\evalf.py:716\u001B[0m, in \u001B[0;36mevalf_mul\u001B[1;34m(v, prec, options)\u001B[0m\n\u001B[0;32m    714\u001B[0m         exp \u001B[38;5;241m+\u001B[39m\u001B[38;5;241m=\u001B[39m working_prec\n\u001B[0;32m    715\u001B[0m         bc \u001B[38;5;241m-\u001B[39m\u001B[38;5;241m=\u001B[39m working_prec\n\u001B[1;32m--> 716\u001B[0m     acc \u001B[38;5;241m=\u001B[39m \u001B[38;5;28mmin\u001B[39m(acc, w_acc)\n\u001B[0;32m    717\u001B[0m sign \u001B[38;5;241m=\u001B[39m (direction \u001B[38;5;241m&\u001B[39m \u001B[38;5;241m2\u001B[39m) \u001B[38;5;241m>>\u001B[39m \u001B[38;5;241m1\u001B[39m\n\u001B[0;32m    718\u001B[0m \u001B[38;5;28;01mif\u001B[39;00m \u001B[38;5;129;01mnot\u001B[39;00m complex_factors:\n",
      "\u001B[1;31mKeyboardInterrupt\u001B[0m: "
     ]
    }
   ],
   "execution_count": 3
  },
  {
   "metadata": {
    "ExecuteTime": {
     "end_time": "2024-09-10T09:46:17.399704Z",
     "start_time": "2024-09-10T09:46:17.395966Z"
    }
   },
   "cell_type": "code",
   "source": "print(len(y_x))",
   "id": "882ac922faf9c136",
   "outputs": [
    {
     "name": "stdout",
     "output_type": "stream",
     "text": [
      "200\n"
     ]
    }
   ],
   "execution_count": 11
  },
  {
   "metadata": {
    "ExecuteTime": {
     "end_time": "2024-10-02T20:20:40.244864Z",
     "start_time": "2024-10-02T20:20:39.703888Z"
    }
   },
   "cell_type": "code",
   "source": [
    "text = ax.text(2, 2.5, '', \n",
    "               horizontalalignment='center', \n",
    "               verticalalignment='center',  \n",
    "               fontsize=12)\n",
    "def update_plot(frame):\n",
    "    new_y = y_x[frame-1]\n",
    "    line.set_data(x_range, new_y)\n",
    "    text.set_text(f't=: {t_range[frame-1]}')\n",
    "    return line, text\n",
    "\n",
    "ani = animation.FuncAnimation(\n",
    "    fig, update_plot, frames=200, interval=10\n",
    ")\n",
    "Writer = animation.FFMpegWriter(fps=30, extra_args=['-vcodec', 'libx264'])\n",
    "print(Writer.bin_path())\n",
    "ani.save('animation2.mp4', writer=Writer)\n",
    "# Показываем анимацию\n",
    "plt.show()"
   ],
   "id": "f56755acd7970e68",
   "outputs": [
    {
     "name": "stdout",
     "output_type": "stream",
     "text": [
      "E:/ffmpeg/ffmpeg-7.0.2-essentials_build/bin/ffmpeg\n"
     ]
    },
    {
     "ename": "NameError",
     "evalue": "name 'y_x' is not defined",
     "output_type": "error",
     "traceback": [
      "\u001B[1;31m---------------------------------------------------------------------------\u001B[0m",
      "\u001B[1;31mNameError\u001B[0m                                 Traceback (most recent call last)",
      "Cell \u001B[1;32mIn[2], line 16\u001B[0m\n\u001B[0;32m     14\u001B[0m Writer \u001B[38;5;241m=\u001B[39m animation\u001B[38;5;241m.\u001B[39mFFMpegWriter(fps\u001B[38;5;241m=\u001B[39m\u001B[38;5;241m30\u001B[39m, extra_args\u001B[38;5;241m=\u001B[39m[\u001B[38;5;124m'\u001B[39m\u001B[38;5;124m-vcodec\u001B[39m\u001B[38;5;124m'\u001B[39m, \u001B[38;5;124m'\u001B[39m\u001B[38;5;124mlibx264\u001B[39m\u001B[38;5;124m'\u001B[39m])\n\u001B[0;32m     15\u001B[0m \u001B[38;5;28mprint\u001B[39m(Writer\u001B[38;5;241m.\u001B[39mbin_path())\n\u001B[1;32m---> 16\u001B[0m \u001B[43mani\u001B[49m\u001B[38;5;241;43m.\u001B[39;49m\u001B[43msave\u001B[49m\u001B[43m(\u001B[49m\u001B[38;5;124;43m'\u001B[39;49m\u001B[38;5;124;43manimation2.mp4\u001B[39;49m\u001B[38;5;124;43m'\u001B[39;49m\u001B[43m,\u001B[49m\u001B[43m \u001B[49m\u001B[43mwriter\u001B[49m\u001B[38;5;241;43m=\u001B[39;49m\u001B[43mWriter\u001B[49m\u001B[43m)\u001B[49m\n\u001B[0;32m     17\u001B[0m \u001B[38;5;66;03m# Показываем анимацию\u001B[39;00m\n\u001B[0;32m     18\u001B[0m plt\u001B[38;5;241m.\u001B[39mshow()\n",
      "File \u001B[1;32mE:\\FASTAPI\\labs_MS\\.venv\\Lib\\site-packages\\matplotlib\\animation.py:1072\u001B[0m, in \u001B[0;36mAnimation.save\u001B[1;34m(self, filename, writer, fps, dpi, codec, bitrate, extra_args, metadata, extra_anim, savefig_kwargs, progress_callback)\u001B[0m\n\u001B[0;32m   1069\u001B[0m \u001B[38;5;28;01mwith\u001B[39;00m writer\u001B[38;5;241m.\u001B[39msaving(\u001B[38;5;28mself\u001B[39m\u001B[38;5;241m.\u001B[39m_fig, filename, dpi), \\\n\u001B[0;32m   1070\u001B[0m      cbook\u001B[38;5;241m.\u001B[39m_setattr_cm(\u001B[38;5;28mself\u001B[39m\u001B[38;5;241m.\u001B[39m_fig\u001B[38;5;241m.\u001B[39mcanvas, _is_saving\u001B[38;5;241m=\u001B[39m\u001B[38;5;28;01mTrue\u001B[39;00m, manager\u001B[38;5;241m=\u001B[39m\u001B[38;5;28;01mNone\u001B[39;00m):\n\u001B[0;32m   1071\u001B[0m     \u001B[38;5;28;01mfor\u001B[39;00m anim \u001B[38;5;129;01min\u001B[39;00m all_anim:\n\u001B[1;32m-> 1072\u001B[0m         \u001B[43manim\u001B[49m\u001B[38;5;241;43m.\u001B[39;49m\u001B[43m_init_draw\u001B[49m\u001B[43m(\u001B[49m\u001B[43m)\u001B[49m  \u001B[38;5;66;03m# Clear the initial frame\u001B[39;00m\n\u001B[0;32m   1073\u001B[0m     frame_number \u001B[38;5;241m=\u001B[39m \u001B[38;5;241m0\u001B[39m\n\u001B[0;32m   1074\u001B[0m     \u001B[38;5;66;03m# TODO: Currently only FuncAnimation has a save_count\u001B[39;00m\n\u001B[0;32m   1075\u001B[0m     \u001B[38;5;66;03m#       attribute. Can we generalize this to all Animations?\u001B[39;00m\n",
      "File \u001B[1;32mE:\\FASTAPI\\labs_MS\\.venv\\Lib\\site-packages\\matplotlib\\animation.py:1727\u001B[0m, in \u001B[0;36mFuncAnimation._init_draw\u001B[1;34m(self)\u001B[0m\n\u001B[0;32m   1719\u001B[0m         warnings\u001B[38;5;241m.\u001B[39mwarn(\n\u001B[0;32m   1720\u001B[0m             \u001B[38;5;124m\"\u001B[39m\u001B[38;5;124mCan not start iterating the frames for the initial draw. \u001B[39m\u001B[38;5;124m\"\u001B[39m\n\u001B[0;32m   1721\u001B[0m             \u001B[38;5;124m\"\u001B[39m\u001B[38;5;124mThis can be caused by passing in a 0 length sequence \u001B[39m\u001B[38;5;124m\"\u001B[39m\n\u001B[1;32m   (...)\u001B[0m\n\u001B[0;32m   1724\u001B[0m             \u001B[38;5;124m\"\u001B[39m\u001B[38;5;124mit may be exhausted due to a previous display or save.\u001B[39m\u001B[38;5;124m\"\u001B[39m\n\u001B[0;32m   1725\u001B[0m         )\n\u001B[0;32m   1726\u001B[0m         \u001B[38;5;28;01mreturn\u001B[39;00m\n\u001B[1;32m-> 1727\u001B[0m     \u001B[38;5;28;43mself\u001B[39;49m\u001B[38;5;241;43m.\u001B[39;49m\u001B[43m_draw_frame\u001B[49m\u001B[43m(\u001B[49m\u001B[43mframe_data\u001B[49m\u001B[43m)\u001B[49m\n\u001B[0;32m   1728\u001B[0m \u001B[38;5;28;01melse\u001B[39;00m:\n\u001B[0;32m   1729\u001B[0m     \u001B[38;5;28mself\u001B[39m\u001B[38;5;241m.\u001B[39m_drawn_artists \u001B[38;5;241m=\u001B[39m \u001B[38;5;28mself\u001B[39m\u001B[38;5;241m.\u001B[39m_init_func()\n",
      "File \u001B[1;32mE:\\FASTAPI\\labs_MS\\.venv\\Lib\\site-packages\\matplotlib\\animation.py:1746\u001B[0m, in \u001B[0;36mFuncAnimation._draw_frame\u001B[1;34m(self, framedata)\u001B[0m\n\u001B[0;32m   1742\u001B[0m     \u001B[38;5;28mself\u001B[39m\u001B[38;5;241m.\u001B[39m_save_seq \u001B[38;5;241m=\u001B[39m \u001B[38;5;28mself\u001B[39m\u001B[38;5;241m.\u001B[39m_save_seq[\u001B[38;5;241m-\u001B[39m\u001B[38;5;28mself\u001B[39m\u001B[38;5;241m.\u001B[39m_save_count:]\n\u001B[0;32m   1744\u001B[0m \u001B[38;5;66;03m# Call the func with framedata and args. If blitting is desired,\u001B[39;00m\n\u001B[0;32m   1745\u001B[0m \u001B[38;5;66;03m# func needs to return a sequence of any artists that were modified.\u001B[39;00m\n\u001B[1;32m-> 1746\u001B[0m \u001B[38;5;28mself\u001B[39m\u001B[38;5;241m.\u001B[39m_drawn_artists \u001B[38;5;241m=\u001B[39m \u001B[38;5;28;43mself\u001B[39;49m\u001B[38;5;241;43m.\u001B[39;49m\u001B[43m_func\u001B[49m\u001B[43m(\u001B[49m\u001B[43mframedata\u001B[49m\u001B[43m,\u001B[49m\u001B[43m \u001B[49m\u001B[38;5;241;43m*\u001B[39;49m\u001B[38;5;28;43mself\u001B[39;49m\u001B[38;5;241;43m.\u001B[39;49m\u001B[43m_args\u001B[49m\u001B[43m)\u001B[49m\n\u001B[0;32m   1748\u001B[0m \u001B[38;5;28;01mif\u001B[39;00m \u001B[38;5;28mself\u001B[39m\u001B[38;5;241m.\u001B[39m_blit:\n\u001B[0;32m   1750\u001B[0m     err \u001B[38;5;241m=\u001B[39m \u001B[38;5;167;01mRuntimeError\u001B[39;00m(\u001B[38;5;124m'\u001B[39m\u001B[38;5;124mThe animation function must return a sequence \u001B[39m\u001B[38;5;124m'\u001B[39m\n\u001B[0;32m   1751\u001B[0m                        \u001B[38;5;124m'\u001B[39m\u001B[38;5;124mof Artist objects.\u001B[39m\u001B[38;5;124m'\u001B[39m)\n",
      "Cell \u001B[1;32mIn[2], line 6\u001B[0m, in \u001B[0;36mupdate_plot\u001B[1;34m(frame)\u001B[0m\n\u001B[0;32m      5\u001B[0m \u001B[38;5;28;01mdef\u001B[39;00m \u001B[38;5;21mupdate_plot\u001B[39m(frame):\n\u001B[1;32m----> 6\u001B[0m     new_y \u001B[38;5;241m=\u001B[39m \u001B[43my_x\u001B[49m[frame\u001B[38;5;241m-\u001B[39m\u001B[38;5;241m1\u001B[39m]\n\u001B[0;32m      7\u001B[0m     line\u001B[38;5;241m.\u001B[39mset_data(x_range, new_y)\n\u001B[0;32m      8\u001B[0m     text\u001B[38;5;241m.\u001B[39mset_text(\u001B[38;5;124mf\u001B[39m\u001B[38;5;124m'\u001B[39m\u001B[38;5;124mt=: \u001B[39m\u001B[38;5;132;01m{\u001B[39;00mt_range[frame\u001B[38;5;241m-\u001B[39m\u001B[38;5;241m1\u001B[39m]\u001B[38;5;132;01m}\u001B[39;00m\u001B[38;5;124m'\u001B[39m)\n",
      "\u001B[1;31mNameError\u001B[0m: name 'y_x' is not defined"
     ]
    }
   ],
   "execution_count": 2
  }
 ],
 "metadata": {
  "kernelspec": {
   "display_name": "Python 3",
   "language": "python",
   "name": "python3"
  },
  "language_info": {
   "codemirror_mode": {
    "name": "ipython",
    "version": 2
   },
   "file_extension": ".py",
   "mimetype": "text/x-python",
   "name": "python",
   "nbconvert_exporter": "python",
   "pygments_lexer": "ipython2",
   "version": "2.7.6"
  }
 },
 "nbformat": 4,
 "nbformat_minor": 5
}
