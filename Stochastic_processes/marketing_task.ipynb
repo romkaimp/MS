{
 "cells": [
  {
   "cell_type": "code",
   "id": "initial_id",
   "metadata": {
    "collapsed": true,
    "ExecuteTime": {
     "end_time": "2025-02-26T16:06:48.929066Z",
     "start_time": "2025-02-26T16:06:48.926154Z"
    }
   },
   "source": [
    "import numpy as np\n",
    "import matplotlib.pyplot as plt\n",
    "import math\n",
    "import random\n",
    "from graph_tools import plot_graph"
   ],
   "outputs": [],
   "execution_count": 49
  },
  {
   "metadata": {
    "ExecuteTime": {
     "end_time": "2025-02-26T16:06:48.963071Z",
     "start_time": "2025-02-26T16:06:48.958070Z"
    }
   },
   "cell_type": "code",
   "source": [
    "random.seed(0)\n",
    "k = 3\n",
    "i = 3\n",
    "j = 3\n",
    "p = np.random.rand(3, 3, 3)\n",
    "p = -np.sort(-p)\n",
    "p = p[:, :, np.arange(k)] / np.sum(p, axis=2, keepdims=True)\n",
    "\n",
    "R = np.random.rand(3, 3, 3)\n",
    "R = -np.sort(-R)\n",
    "R = R[:, :, np.arange(k)] / np.sum(R, axis=2, keepdims=True)\n",
    "r = 270*R + 30\n",
    "\n",
    "c = 20 * np.random.rand(3) + 10\n",
    "c = -np.sort(-c)\n",
    "beta = np.random.rand(1)"
   ],
   "id": "16592e0a262810f5",
   "outputs": [],
   "execution_count": 50
  },
  {
   "metadata": {
    "ExecuteTime": {
     "end_time": "2025-02-26T16:06:48.993482Z",
     "start_time": "2025-02-26T16:06:48.989567Z"
    }
   },
   "cell_type": "code",
   "source": [
    "print(R[2, :, :])\n",
    "print(r[2, :, :])"
   ],
   "id": "9f9547913bc77f4a",
   "outputs": [
    {
     "name": "stdout",
     "output_type": "stream",
     "text": [
      "[[0.66487337 0.20476381 0.13036282]\n",
      " [0.39877865 0.31075829 0.29046305]\n",
      " [0.37941251 0.32728926 0.29329824]]\n",
      "[[209.51580874  85.28622907  65.19796219]\n",
      " [137.67023683 113.904739   108.42502417]\n",
      " [132.44137738 118.36809888 109.19052374]]\n"
     ]
    }
   ],
   "execution_count": 51
  },
  {
   "metadata": {},
   "cell_type": "markdown",
   "source": "### Неуправляемый режим (k = 3)",
   "id": "e67cf4f494de773f"
  },
  {
   "metadata": {
    "ExecuteTime": {
     "end_time": "2025-02-26T16:06:49.033243Z",
     "start_time": "2025-02-26T16:06:49.028424Z"
    }
   },
   "cell_type": "code",
   "source": [
    "P = p[2, :, :]\n",
    "R_2 = R[2, :, :]\n",
    "r_2 = r[2, :, :]\n",
    "c_2 = c[2]\n",
    "plot_graph(P, \"Вероятности перехода между i-ми состояниями\")\n",
    "plot_graph(R, \"Вероятности получения дохода\", states=[f\"Отличный {}\"])"
   ],
   "id": "8a7f596cbd536f1e",
   "outputs": [
    {
     "ename": "SyntaxError",
     "evalue": "f-string: valid expression required before '}' (3862607685.py, line 6)",
     "output_type": "error",
     "traceback": [
      "\u001B[1;36m  Cell \u001B[1;32mIn[52], line 6\u001B[1;36m\u001B[0m\n\u001B[1;33m    plot_graph(R, \"Вероятности получения дохода\", states=[f\"Отличный {}\"])\u001B[0m\n\u001B[1;37m                                                                      ^\u001B[0m\n\u001B[1;31mSyntaxError\u001B[0m\u001B[1;31m:\u001B[0m f-string: valid expression required before '}'\n"
     ]
    }
   ],
   "execution_count": 52
  }
 ],
 "metadata": {
  "kernelspec": {
   "display_name": "Python 3",
   "language": "python",
   "name": "python3"
  },
  "language_info": {
   "codemirror_mode": {
    "name": "ipython",
    "version": 2
   },
   "file_extension": ".py",
   "mimetype": "text/x-python",
   "name": "python",
   "nbconvert_exporter": "python",
   "pygments_lexer": "ipython2",
   "version": "2.7.6"
  }
 },
 "nbformat": 4,
 "nbformat_minor": 5
}
