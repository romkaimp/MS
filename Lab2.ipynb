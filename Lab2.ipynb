{
 "cells": [
  {
   "cell_type": "code",
   "id": "initial_id",
   "metadata": {
    "collapsed": true,
    "ExecuteTime": {
     "end_time": "2024-09-06T11:11:46.207757Z",
     "start_time": "2024-09-06T11:11:46.204548Z"
    }
   },
   "source": [
    "import math\n",
    "import pandas as pd\n",
    "import numpy as np\n",
    "import matplotlib.pyplot as plt\n",
    "from scipy.interpolate import make_interp_spline\n",
    "from scipy.special import gamma"
   ],
   "outputs": [],
   "execution_count": 142
  },
  {
   "metadata": {
    "ExecuteTime": {
     "end_time": "2024-09-06T11:11:46.223158Z",
     "start_time": "2024-09-06T11:11:46.218497Z"
    }
   },
   "cell_type": "code",
   "source": "k, p, n = 3, 1/2, 160",
   "id": "b2112dd49bc482b0",
   "outputs": [],
   "execution_count": 143
  },
  {
   "metadata": {
    "ExecuteTime": {
     "end_time": "2024-09-06T11:11:46.237307Z",
     "start_time": "2024-09-06T11:11:46.232682Z"
    }
   },
   "cell_type": "code",
   "source": [
    "def comb(n, k):\n",
    "    return math.factorial(k)/(math.factorial(k-n)*math.factorial(n))\n",
    "Pk = [comb(j, k)*p**j*(1-p)**(k-j) for j in range(k+1)]\n",
    "Uk = [sum(Pk[:i+1]) for i in range(len(Pk))]\n",
    "print(Pk, Uk)"
   ],
   "id": "aadcaaf0d9d80923",
   "outputs": [
    {
     "name": "stdout",
     "output_type": "stream",
     "text": [
      "[0.125, 0.375, 0.375, 0.125] [0.125, 0.5, 0.875, 1.0]\n"
     ]
    }
   ],
   "execution_count": 144
  },
  {
   "metadata": {
    "ExecuteTime": {
     "end_time": "2024-09-06T11:11:46.259203Z",
     "start_time": "2024-09-06T11:11:46.254719Z"
    }
   },
   "cell_type": "code",
   "source": [
    "X = np.empty(n)\n",
    "for i in range(n):\n",
    "    p_val = np.random.rand()\n",
    "    for j, value in enumerate(Uk):\n",
    "        if p_val < value:\n",
    "            X[i] = (j)\n",
    "            break          \n",
    "X = sorted(X)     \n",
    "print(X)"
   ],
   "id": "fdb2a0d8901bae6",
   "outputs": [
    {
     "name": "stdout",
     "output_type": "stream",
     "text": [
      "[np.float64(0.0), np.float64(0.0), np.float64(0.0), np.float64(0.0), np.float64(0.0), np.float64(0.0), np.float64(0.0), np.float64(0.0), np.float64(0.0), np.float64(0.0), np.float64(0.0), np.float64(0.0), np.float64(0.0), np.float64(0.0), np.float64(0.0), np.float64(0.0), np.float64(0.0), np.float64(0.0), np.float64(0.0), np.float64(0.0), np.float64(0.0), np.float64(0.0), np.float64(0.0), np.float64(1.0), np.float64(1.0), np.float64(1.0), np.float64(1.0), np.float64(1.0), np.float64(1.0), np.float64(1.0), np.float64(1.0), np.float64(1.0), np.float64(1.0), np.float64(1.0), np.float64(1.0), np.float64(1.0), np.float64(1.0), np.float64(1.0), np.float64(1.0), np.float64(1.0), np.float64(1.0), np.float64(1.0), np.float64(1.0), np.float64(1.0), np.float64(1.0), np.float64(1.0), np.float64(1.0), np.float64(1.0), np.float64(1.0), np.float64(1.0), np.float64(1.0), np.float64(1.0), np.float64(1.0), np.float64(1.0), np.float64(1.0), np.float64(1.0), np.float64(1.0), np.float64(1.0), np.float64(1.0), np.float64(1.0), np.float64(1.0), np.float64(1.0), np.float64(1.0), np.float64(1.0), np.float64(1.0), np.float64(1.0), np.float64(1.0), np.float64(1.0), np.float64(1.0), np.float64(1.0), np.float64(1.0), np.float64(1.0), np.float64(1.0), np.float64(1.0), np.float64(1.0), np.float64(1.0), np.float64(1.0), np.float64(1.0), np.float64(1.0), np.float64(1.0), np.float64(1.0), np.float64(1.0), np.float64(1.0), np.float64(1.0), np.float64(1.0), np.float64(2.0), np.float64(2.0), np.float64(2.0), np.float64(2.0), np.float64(2.0), np.float64(2.0), np.float64(2.0), np.float64(2.0), np.float64(2.0), np.float64(2.0), np.float64(2.0), np.float64(2.0), np.float64(2.0), np.float64(2.0), np.float64(2.0), np.float64(2.0), np.float64(2.0), np.float64(2.0), np.float64(2.0), np.float64(2.0), np.float64(2.0), np.float64(2.0), np.float64(2.0), np.float64(2.0), np.float64(2.0), np.float64(2.0), np.float64(2.0), np.float64(2.0), np.float64(2.0), np.float64(2.0), np.float64(2.0), np.float64(2.0), np.float64(2.0), np.float64(2.0), np.float64(2.0), np.float64(2.0), np.float64(2.0), np.float64(2.0), np.float64(2.0), np.float64(2.0), np.float64(2.0), np.float64(2.0), np.float64(2.0), np.float64(2.0), np.float64(2.0), np.float64(2.0), np.float64(2.0), np.float64(2.0), np.float64(2.0), np.float64(2.0), np.float64(2.0), np.float64(2.0), np.float64(2.0), np.float64(3.0), np.float64(3.0), np.float64(3.0), np.float64(3.0), np.float64(3.0), np.float64(3.0), np.float64(3.0), np.float64(3.0), np.float64(3.0), np.float64(3.0), np.float64(3.0), np.float64(3.0), np.float64(3.0), np.float64(3.0), np.float64(3.0), np.float64(3.0), np.float64(3.0), np.float64(3.0), np.float64(3.0), np.float64(3.0), np.float64(3.0), np.float64(3.0)]\n"
     ]
    }
   ],
   "execution_count": 145
  },
  {
   "metadata": {
    "ExecuteTime": {
     "end_time": "2024-09-06T11:11:46.370056Z",
     "start_time": "2024-09-06T11:11:46.282831Z"
    }
   },
   "cell_type": "code",
   "source": "P, bars, _ = plt.hist(X, bins=k+1)",
   "id": "3d11e56aa6ff5dc4",
   "outputs": [
    {
     "data": {
      "text/plain": [
       "<Figure size 640x480 with 1 Axes>"
      ],
      "image/png": "[encoded data removed]"
     },
     "metadata": {},
     "output_type": "display_data"
    }
   ],
   "execution_count": 146
  },
  {
   "metadata": {
    "ExecuteTime": {
     "end_time": "2024-09-06T11:11:46.383913Z",
     "start_time": "2024-09-06T11:11:46.379853Z"
    }
   },
   "cell_type": "code",
   "source": [
    "P = P/sum(P)\n",
    "F = [sum(P[:i+1]) for i in range(k+1)]\n",
    "print(F)"
   ],
   "id": "677e6580ccf0ddad",
   "outputs": [
    {
     "name": "stdout",
     "output_type": "stream",
     "text": [
      "[np.float64(0.14375), np.float64(0.53125), np.float64(0.8625), np.float64(1.0)]\n"
     ]
    }
   ],
   "execution_count": 147
  },
  {
   "metadata": {
    "ExecuteTime": {
     "end_time": "2024-09-06T11:11:46.616372Z",
     "start_time": "2024-09-06T11:11:46.516984Z"
    }
   },
   "cell_type": "code",
   "source": [
    "print(F)\n",
    "print(Uk)\n",
    "plt.step([i for i in range(k+2)], [0, *F], color=\"red\")\n",
    "plt.step([i for i in range(k+2)], [0, *Uk], color=\"blue\", linestyle=\"dashed\")"
   ],
   "id": "202b86b756412194",
   "outputs": [
    {
     "name": "stdout",
     "output_type": "stream",
     "text": [
      "[np.float64(0.14375), np.float64(0.53125), np.float64(0.8625), np.float64(1.0)]\n",
      "[0.125, 0.5, 0.875, 1.0]\n"
     ]
    },
    {
     "data": {
      "text/plain": [
       "[<matplotlib.lines.Line2D at 0x18500e623c0>]"
      ]
     },
     "execution_count": 148,
     "metadata": {},
     "output_type": "execute_result"
    },
    {
     "data": {
      "text/plain": [
       "<Figure size 640x480 with 1 Axes>"
      ],
      "image/png": "[encoded data removed]"
     },
     "metadata": {},
     "output_type": "display_data"
    }
   ],
   "execution_count": 148
  },
  {
   "metadata": {
    "ExecuteTime": {
     "end_time": "2024-09-06T11:11:46.655220Z",
     "start_time": "2024-09-06T11:11:46.651963Z"
    }
   },
   "cell_type": "code",
   "source": "print(f\"Статистика Колмогорова: {max([abs(uk-fk) for uk, fk in zip(Uk, F)]):.4f}\")",
   "id": "cc56e423c3490313",
   "outputs": [
    {
     "name": "stdout",
     "output_type": "stream",
     "text": [
      "Статистика Колмогорова: 0.0312\n"
     ]
    }
   ],
   "execution_count": 149
  },
  {
   "metadata": {
    "ExecuteTime": {
     "end_time": "2024-09-06T11:11:46.696471Z",
     "start_time": "2024-09-06T11:11:46.692312Z"
    }
   },
   "cell_type": "code",
   "source": [
    "mx = np.mean(X)\n",
    "s2 = np.mean([x*x for x in X]) - mx**2\n",
    "mx_t = k*p\n",
    "D = k*p*(1-p)\n",
    "print(f\"Выборочное среднее: {mx:.4f}, теоретическое среднее: {mx_t:.4f}, разность величин: {abs(mx-mx_t):.4f}\")\n",
    "print(f\"Выборочная дисперсия: {s2:.4f}, теоретическая дисперсия: {D:.4f}, соотношение величин под корнем: {(s2/D)**0.5:.4f}\")"
   ],
   "id": "ed6d06f493a9a9ad",
   "outputs": [
    {
     "name": "stdout",
     "output_type": "stream",
     "text": [
      "Выборочное среднее: 1.4625, теоретическое среднее: 1.5000, разность величин: 0.0375\n",
      "Выборочная дисперсия: 0.8111, теоретическая дисперсия: 0.7500, соотношение величин под корнем: 1.0399\n"
     ]
    }
   ],
   "execution_count": 150
  }
 ],
 "metadata": {
  "kernelspec": {
   "display_name": "Python 3",
   "language": "python",
   "name": "python3"
  },
  "language_info": {
   "codemirror_mode": {
    "name": "ipython",
    "version": 2
   },
   "file_extension": ".py",
   "mimetype": "text/x-python",
   "name": "python",
   "nbconvert_exporter": "python",
   "pygments_lexer": "ipython2",
   "version": "2.7.6"
  }
 },
 "nbformat": 4,
 "nbformat_minor": 5
}
