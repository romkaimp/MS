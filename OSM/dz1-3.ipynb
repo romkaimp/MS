{
 "cells": [
  {
   "cell_type": "code",
   "id": "initial_id",
   "metadata": {
    "collapsed": true,
    "ExecuteTime": {
     "end_time": "2025-03-21T13:25:49.142822Z",
     "start_time": "2025-03-21T13:25:48.456262Z"
    }
   },
   "source": [
    "import numpy as np\n",
    "import matplotlib.pyplot as plt"
   ],
   "outputs": [],
   "execution_count": 1
  },
  {
   "metadata": {
    "ExecuteTime": {
     "end_time": "2025-03-21T13:26:45.617702Z",
     "start_time": "2025-03-21T13:26:45.611212Z"
    }
   },
   "cell_type": "code",
   "source": [
    "A  = np.linspace(0.2, 2.2, 41)\n",
    "B = (A[1:] + A[:-1]) / 2\n"
   ],
   "id": "9e68e9b4cb96f885",
   "outputs": [],
   "execution_count": 2
  },
  {
   "metadata": {},
   "cell_type": "code",
   "outputs": [],
   "execution_count": null,
   "source": [
    "n = 63\n",
    "N = 3\n",
    "def f(t, x):\n",
    "    return (2*N + 3)/(N + 2) * (n - 58) * np.sin((n - 58)*(3*(n - 7) + 3)/((N + 7) * t) * x)"
   ],
   "id": "3e6caab8a9eb678d"
  },
  {
   "metadata": {},
   "cell_type": "code",
   "outputs": [],
   "execution_count": null,
   "source": [
    "x0 = 0.2\n",
    "u0 = 3"
   ],
   "id": "a78ed7859c8c9dfe"
  },
  {
   "metadata": {
    "ExecuteTime": {
     "end_time": "2025-03-21T13:55:54.537936Z",
     "start_time": "2025-03-21T13:55:54.528589Z"
    }
   },
   "cell_type": "code",
   "source": [
    "A = np.array([[1, 2], [2, 0]])\n",
    "B = np.array([[1, 1], [3, 0]])\n",
    "C = np.array([[3, 1], [2, 1]])\n",
    "D = np.array([[2, 3], [1, 0]])\n",
    "Q = np.array([[1, 1], [0, 4]])\n",
    "\n",
    "T = np.array([[7, 1], [2, 2]])\n",
    "K = np.array([[4, 6], [5, 6]])\n",
    "\n",
    "print(A@T@K@B.T)"
   ],
   "id": "5317bc548c28b0c5",
   "outputs": [
    {
     "name": "stdout",
     "output_type": "stream",
     "text": [
      "[[165 207]\n",
      " [162 198]]\n"
     ]
    }
   ],
   "execution_count": 3
  },
  {
   "metadata": {
    "ExecuteTime": {
     "end_time": "2025-03-21T14:12:23.920955Z",
     "start_time": "2025-03-21T14:12:23.914955Z"
    }
   },
   "cell_type": "code",
   "source": "print(B@T@T)",
   "id": "eccc96bb4bb42fc1",
   "outputs": [
    {
     "name": "stdout",
     "output_type": "stream",
     "text": [
      "[[ 69  15]\n",
      " [153  27]]\n"
     ]
    }
   ],
   "execution_count": 4
  },
  {
   "metadata": {
    "ExecuteTime": {
     "end_time": "2025-03-21T14:46:36.289739Z",
     "start_time": "2025-03-21T14:46:36.284472Z"
    }
   },
   "cell_type": "code",
   "source": "print(C@A@D.T)",
   "id": "8258e15f7f1cdda5",
   "outputs": [
    {
     "name": "stdout",
     "output_type": "stream",
     "text": [
      "[[28  5]\n",
      " [20  4]]\n"
     ]
    }
   ],
   "execution_count": 5
  },
  {
   "metadata": {},
   "cell_type": "code",
   "outputs": [],
   "execution_count": null,
   "source": "",
   "id": "7b87fd236117a950"
  }
 ],
 "metadata": {
  "kernelspec": {
   "display_name": "Python 3",
   "language": "python",
   "name": "python3"
  },
  "language_info": {
   "codemirror_mode": {
    "name": "ipython",
    "version": 2
   },
   "file_extension": ".py",
   "mimetype": "text/x-python",
   "name": "python",
   "nbconvert_exporter": "python",
   "pygments_lexer": "ipython2",
   "version": "2.7.6"
  }
 },
 "nbformat": 4,
 "nbformat_minor": 5
}
