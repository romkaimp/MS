{
 "cells": [
  {
   "metadata": {
    "ExecuteTime": {
     "end_time": "2025-02-19T17:36:33.299605Z",
     "start_time": "2025-02-19T17:36:33.294122Z"
    }
   },
   "cell_type": "code",
   "source": [
    "import numpy as np\n",
    "import numpy.linalg as la\n",
    "from graphviz import Digraph"
   ],
   "id": "7daa7e0c38ac4536",
   "outputs": [],
   "execution_count": 10
  },
  {
   "metadata": {
    "ExecuteTime": {
     "end_time": "2025-02-19T17:37:23.269688Z",
     "start_time": "2025-02-19T17:37:23.262690Z"
    }
   },
   "cell_type": "code",
   "source": [
    "m = 5\n",
    "k = 25\n",
    "n = 120\n",
    "matrix = [[0 for i in range(m)] for j in range(m)]\n",
    "matrix[0][1] = 0.6\n",
    "matrix[1][2] = 0.2\n",
    "matrix[2][3] = 0.3\n",
    "matrix[3][4] = 0.4\n",
    "matrix[4][0] = 0.5"
   ],
   "id": "cd068bf0e8416649",
   "outputs": [],
   "execution_count": 19
  },
  {
   "metadata": {
    "ExecuteTime": {
     "end_time": "2025-02-19T17:37:24.966053Z",
     "start_time": "2025-02-19T17:37:24.959704Z"
    }
   },
   "cell_type": "code",
   "source": [
    "for i in range(m):\n",
    "    matrix[i][i] = 1 - sum(matrix[i])\n",
    "print(np.array(matrix))"
   ],
   "id": "ef1c36e8f955d3e3",
   "outputs": [
    {
     "name": "stdout",
     "output_type": "stream",
     "text": [
      "[[0.4 0.6 0.  0.  0. ]\n",
      " [0.  0.8 0.2 0.  0. ]\n",
      " [0.  0.  0.7 0.3 0. ]\n",
      " [0.  0.  0.  0.6 0.4]\n",
      " [0.5 0.  0.  0.  0.5]]\n"
     ]
    }
   ],
   "execution_count": 20
  },
  {
   "metadata": {
    "ExecuteTime": {
     "end_time": "2025-02-19T17:37:27.023787Z",
     "start_time": "2025-02-19T17:37:27.015582Z"
    }
   },
   "cell_type": "code",
   "source": [
    "def plot_graph(matrix):\n",
    "    dot = Digraph(format='png', engine='dot')\n",
    "    num_states = len(matrix)\n",
    "\n",
    "    for i in range(num_states):\n",
    "        dot.node(str(i), f\"State {i + 1}\")\n",
    "\n",
    "    for i in range(num_states):\n",
    "        for j in range(num_states):\n",
    "            prob = matrix[i][j]\n",
    "            if prob > 0:\n",
    "                dot.edge(str(i), str(j), label=f\"{prob:.2f}\")\n",
    "\n",
    "    dot.render('markov_chain', view=True)\n",
    "\n",
    "#plot_graph(matrix)"
   ],
   "id": "729538e0f67fc50f",
   "outputs": [],
   "execution_count": 21
  },
  {
   "metadata": {
    "ExecuteTime": {
     "end_time": "2025-02-19T17:37:29.771280Z",
     "start_time": "2025-02-19T17:37:29.762278Z"
    }
   },
   "cell_type": "code",
   "source": [
    "matrix = np.array(matrix)\n",
    "np.set_printoptions(precision=3, suppress=True)\n",
    "stationary_matrix = np.copy(matrix)\n",
    "for i in range(50):\n",
    "    stationary_matrix = stationary_matrix @ matrix\n",
    "print(\"matrix:\", stationary_matrix)\n",
    "print(\"matrix2:\", stationary_matrix@matrix)"
   ],
   "id": "42f56f77be2b0660",
   "outputs": [
    {
     "name": "stdout",
     "output_type": "stream",
     "text": [
      "matrix: [[0.115 0.345 0.23  0.172 0.138]\n",
      " [0.115 0.345 0.23  0.172 0.138]\n",
      " [0.115 0.345 0.23  0.172 0.138]\n",
      " [0.115 0.345 0.23  0.172 0.138]\n",
      " [0.115 0.345 0.23  0.172 0.138]]\n",
      "matrix2: [[0.115 0.345 0.23  0.172 0.138]\n",
      " [0.115 0.345 0.23  0.172 0.138]\n",
      " [0.115 0.345 0.23  0.172 0.138]\n",
      " [0.115 0.345 0.23  0.172 0.138]\n",
      " [0.115 0.345 0.23  0.172 0.138]]\n"
     ]
    }
   ],
   "execution_count": 22
  },
  {
   "metadata": {
    "ExecuteTime": {
     "end_time": "2025-02-19T17:37:33.094243Z",
     "start_time": "2025-02-19T17:37:33.086243Z"
    }
   },
   "cell_type": "code",
   "source": [
    "def generate_initial_state(num_states, verbose=False):\n",
    "    r = np.random.rand(num_states - 1)\n",
    "    r = np.sort(r)\n",
    "    r = np.append(np.array([0]), r)\n",
    "    r = np.append(r, np.array([1]))\n",
    "    if verbose:\n",
    "        print(\"generated r:\", r)\n",
    "    r = np.diff(r)\n",
    "    if verbose:\n",
    "        print(\"differentiated r:\", r)\n",
    "    return r\n",
    "\n",
    "initial_state = generate_initial_state(m, verbose=True)"
   ],
   "id": "f53d3794fab10325",
   "outputs": [
    {
     "name": "stdout",
     "output_type": "stream",
     "text": [
      "generated r: [0.    0.204 0.22  0.235 0.459 1.   ]\n",
      "differentiated r: [0.204 0.016 0.015 0.223 0.541]\n"
     ]
    }
   ],
   "execution_count": 24
  },
  {
   "metadata": {
    "ExecuteTime": {
     "end_time": "2025-02-19T17:37:49.758475Z",
     "start_time": "2025-02-19T17:37:49.752074Z"
    }
   },
   "cell_type": "code",
   "source": [
    "p_k = initial_state @ la.matrix_power(matrix, k)\n",
    "print(p_k)"
   ],
   "id": "dfc56e88ced70f2c",
   "outputs": [
    {
     "name": "stdout",
     "output_type": "stream",
     "text": [
      "[0.114 0.344 0.231 0.173 0.138]\n"
     ]
    }
   ],
   "execution_count": 25
  },
  {
   "metadata": {
    "ExecuteTime": {
     "end_time": "2025-02-19T17:41:29.554936Z",
     "start_time": "2025-02-19T17:41:29.547630Z"
    }
   },
   "cell_type": "code",
   "source": [
    "def roll_state(p: list, verbose: False) -> int:\n",
    "    if verbose:\n",
    "        print(\"probabilities:\", p)\n",
    "    cumulated_p = np.cumsum(p)\n",
    "    if verbose:\n",
    "        print(\"cumulated p:\", cumulated_p)\n",
    "    k = np.random.rand(1)\n",
    "    if verbose:\n",
    "        print(\"random num:\", k)\n",
    "    for i, el in enumerate(cumulated_p):\n",
    "        if k < el:\n",
    "            if verbose:\n",
    "                print(\"->\", i+1, \"state\")\n",
    "            return i \n",
    "    "
   ],
   "id": "613a251d1150fa79",
   "outputs": [],
   "execution_count": 33
  },
  {
   "metadata": {
    "ExecuteTime": {
     "end_time": "2025-02-19T17:44:16.689795Z",
     "start_time": "2025-02-19T17:44:16.620594Z"
    }
   },
   "cell_type": "code",
   "source": [
    "trajectories = np.zeros((n, k + 1)) # timestamps {0,...,k}; trajectories {0,...,n - 1}\n",
    "p_states = np.zeros((n, k + 2, m)) # states {0 (initial),..., k+1 (on k step)}\n",
    "p_states[:, 0, :] = initial_state\n",
    "print(\"initial state:\", initial_state)\n",
    "for i in range(n):\n",
    "    for j in range(k + 1):\n",
    "        if i == 0:\n",
    "            verb = True\n",
    "        else:\n",
    "            verb = False\n",
    "        next_state = roll_state(p_states[i][j], verbose=verb) # index {0...m-1}\n",
    "        p_states[i, j + 1, :] = matrix[next_state]\n",
    "        trajectories[i, j] = next_state + 1\n",
    "print(trajectories[0, :])"
   ],
   "id": "e3a2979df846d445",
   "outputs": [
    {
     "name": "stdout",
     "output_type": "stream",
     "text": [
      "initial state: [0.204 0.016 0.015 0.223 0.541]\n",
      "probabilities: [0.204 0.016 0.015 0.223 0.541]\n",
      "cumulated p: [0.204 0.22  0.235 0.459 1.   ]\n",
      "random num: [0.926]\n",
      "-> 5 state\n",
      "probabilities: [0.5 0.  0.  0.  0.5]\n",
      "cumulated p: [0.5 0.5 0.5 0.5 1. ]\n",
      "random num: [0.905]\n",
      "-> 5 state\n",
      "probabilities: [0.5 0.  0.  0.  0.5]\n",
      "cumulated p: [0.5 0.5 0.5 0.5 1. ]\n",
      "random num: [0.417]\n",
      "-> 1 state\n",
      "probabilities: [0.4 0.6 0.  0.  0. ]\n",
      "cumulated p: [0.4 1.  1.  1.  1. ]\n",
      "random num: [0.442]\n",
      "-> 2 state\n",
      "probabilities: [0.  0.8 0.2 0.  0. ]\n",
      "cumulated p: [0.  0.8 1.  1.  1. ]\n",
      "random num: [0.749]\n",
      "-> 2 state\n",
      "probabilities: [0.  0.8 0.2 0.  0. ]\n",
      "cumulated p: [0.  0.8 1.  1.  1. ]\n",
      "random num: [0.032]\n",
      "-> 2 state\n",
      "probabilities: [0.  0.8 0.2 0.  0. ]\n",
      "cumulated p: [0.  0.8 1.  1.  1. ]\n",
      "random num: [0.836]\n",
      "-> 3 state\n",
      "probabilities: [0.  0.  0.7 0.3 0. ]\n",
      "cumulated p: [0.  0.  0.7 1.  1. ]\n",
      "random num: [0.988]\n",
      "-> 4 state\n",
      "probabilities: [0.  0.  0.  0.6 0.4]\n",
      "cumulated p: [0.  0.  0.  0.6 1. ]\n",
      "random num: [0.464]\n",
      "-> 4 state\n",
      "probabilities: [0.  0.  0.  0.6 0.4]\n",
      "cumulated p: [0.  0.  0.  0.6 1. ]\n",
      "random num: [0.363]\n",
      "-> 4 state\n",
      "probabilities: [0.  0.  0.  0.6 0.4]\n",
      "cumulated p: [0.  0.  0.  0.6 1. ]\n",
      "random num: [0.909]\n",
      "-> 5 state\n",
      "probabilities: [0.5 0.  0.  0.  0.5]\n",
      "cumulated p: [0.5 0.5 0.5 0.5 1. ]\n",
      "random num: [0.931]\n",
      "-> 5 state\n",
      "probabilities: [0.5 0.  0.  0.  0.5]\n",
      "cumulated p: [0.5 0.5 0.5 0.5 1. ]\n",
      "random num: [0.76]\n",
      "-> 5 state\n",
      "probabilities: [0.5 0.  0.  0.  0.5]\n",
      "cumulated p: [0.5 0.5 0.5 0.5 1. ]\n",
      "random num: [0.068]\n",
      "-> 1 state\n",
      "probabilities: [0.4 0.6 0.  0.  0. ]\n",
      "cumulated p: [0.4 1.  1.  1.  1. ]\n",
      "random num: [0.616]\n",
      "-> 2 state\n",
      "probabilities: [0.  0.8 0.2 0.  0. ]\n",
      "cumulated p: [0.  0.8 1.  1.  1. ]\n",
      "random num: [0.036]\n",
      "-> 2 state\n",
      "probabilities: [0.  0.8 0.2 0.  0. ]\n",
      "cumulated p: [0.  0.8 1.  1.  1. ]\n",
      "random num: [0.659]\n",
      "-> 2 state\n",
      "probabilities: [0.  0.8 0.2 0.  0. ]\n",
      "cumulated p: [0.  0.8 1.  1.  1. ]\n",
      "random num: [0.799]\n",
      "-> 2 state\n",
      "probabilities: [0.  0.8 0.2 0.  0. ]\n",
      "cumulated p: [0.  0.8 1.  1.  1. ]\n",
      "random num: [0.616]\n",
      "-> 2 state\n",
      "probabilities: [0.  0.8 0.2 0.  0. ]\n",
      "cumulated p: [0.  0.8 1.  1.  1. ]\n",
      "random num: [0.581]\n",
      "-> 2 state\n",
      "probabilities: [0.  0.8 0.2 0.  0. ]\n",
      "cumulated p: [0.  0.8 1.  1.  1. ]\n",
      "random num: [0.007]\n",
      "-> 2 state\n",
      "probabilities: [0.  0.8 0.2 0.  0. ]\n",
      "cumulated p: [0.  0.8 1.  1.  1. ]\n",
      "random num: [0.528]\n",
      "-> 2 state\n",
      "probabilities: [0.  0.8 0.2 0.  0. ]\n",
      "cumulated p: [0.  0.8 1.  1.  1. ]\n",
      "random num: [0.01]\n",
      "-> 2 state\n",
      "probabilities: [0.  0.8 0.2 0.  0. ]\n",
      "cumulated p: [0.  0.8 1.  1.  1. ]\n",
      "random num: [0.981]\n",
      "-> 3 state\n",
      "probabilities: [0.  0.  0.7 0.3 0. ]\n",
      "cumulated p: [0.  0.  0.7 1.  1. ]\n",
      "random num: [0.377]\n",
      "-> 3 state\n",
      "probabilities: [0.  0.  0.7 0.3 0. ]\n",
      "cumulated p: [0.  0.  0.7 1.  1. ]\n",
      "random num: [0.626]\n",
      "-> 3 state\n",
      "[5. 5. 1. 2. 2. 2. 3. 4. 4. 4. 5. 5. 5. 1. 2. 2. 2. 2. 2. 2. 2. 2. 2. 3.\n",
      " 3. 3.]\n"
     ]
    }
   ],
   "execution_count": 35
  },
  {
   "metadata": {
    "ExecuteTime": {
     "end_time": "2025-02-19T17:48:56.667525Z",
     "start_time": "2025-02-19T17:48:56.660392Z"
    }
   },
   "cell_type": "code",
   "source": [
    "_, state_counts = np.unique(trajectories[:, k], return_counts=True)\n",
    "p_states_on_k_step = state_counts / sum(state_counts)\n",
    "print(\"empirical:\", p_states_on_k_step)\n",
    "print(\"theoretical:\", p_k)"
   ],
   "id": "2552275621a2e9a3",
   "outputs": [
    {
     "name": "stdout",
     "output_type": "stream",
     "text": [
      "[0.1   0.35  0.258 0.158 0.133]\n",
      "[0.114 0.344 0.231 0.173 0.138]\n"
     ]
    }
   ],
   "execution_count": 39
  },
  {
   "metadata": {
    "ExecuteTime": {
     "end_time": "2025-02-19T17:58:11.291071Z",
     "start_time": "2025-02-19T17:58:11.286898Z"
    }
   },
   "cell_type": "code",
   "source": [
    "SLAU = np.empty((m, m))\n",
    "b = np.empty(m)\n",
    "for i in range(m - 1):\n",
    "    for j in range(m):\n",
    "        SLAU[i, j] = matrix[j][i]\n",
    "    b[i] = 0\n",
    "    SLAU[i, i] -= 1\n",
    "# normalizing\n",
    "for i in range(m):\n",
    "    SLAU[-1, i] = 1\n",
    "b[-1] = 1\n",
    "print(\"SLAU:\", SLAU)\n",
    "print(\"b:\", b)"
   ],
   "id": "8a1ba7a86e794212",
   "outputs": [
    {
     "name": "stdout",
     "output_type": "stream",
     "text": [
      "SLAU: [[-0.6  0.   0.   0.   0.5]\n",
      " [ 0.6 -0.2  0.   0.   0. ]\n",
      " [ 0.   0.2 -0.3  0.   0. ]\n",
      " [ 0.   0.   0.3 -0.4  0. ]\n",
      " [ 1.   1.   1.   1.   1. ]]\n",
      "b: [0. 0. 0. 0. 1.]\n"
     ]
    }
   ],
   "execution_count": 47
  },
  {
   "metadata": {
    "ExecuteTime": {
     "end_time": "2025-02-19T17:58:43.053412Z",
     "start_time": "2025-02-19T17:58:43.046157Z"
    }
   },
   "cell_type": "code",
   "source": [
    "stationary_probs = la.solve(SLAU, b)\n",
    "print(stationary_probs)\n",
    "print(p_k)"
   ],
   "id": "ce33565019330518",
   "outputs": [
    {
     "name": "stdout",
     "output_type": "stream",
     "text": [
      "[0.115 0.345 0.23  0.172 0.138]\n",
      "[0.114 0.344 0.231 0.173 0.138]\n"
     ]
    }
   ],
   "execution_count": 48
  },
  {
   "metadata": {},
   "cell_type": "code",
   "outputs": [],
   "execution_count": null,
   "source": "",
   "id": "4296b2956f478dee"
  }
 ],
 "metadata": {
  "kernelspec": {
   "display_name": "Python 3",
   "language": "python",
   "name": "python3"
  },
  "language_info": {
   "codemirror_mode": {
    "name": "ipython",
    "version": 2
   },
   "file_extension": ".py",
   "mimetype": "text/x-python",
   "name": "python",
   "nbconvert_exporter": "python",
   "pygments_lexer": "ipython2",
   "version": "2.7.6"
  }
 },
 "nbformat": 4,
 "nbformat_minor": 5
}
