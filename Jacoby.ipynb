{
 "cells": [
  {
   "cell_type": "code",
   "id": "initial_id",
   "metadata": {
    "collapsed": true,
    "ExecuteTime": {
     "end_time": "2024-10-20T09:19:25.464346Z",
     "start_time": "2024-10-20T09:19:24.090744Z"
    }
   },
   "source": [
    "import numpy as np\n",
    "import matplotlib.pyplot as plt"
   ],
   "outputs": [],
   "execution_count": 1
  },
  {
   "metadata": {
    "ExecuteTime": {
     "end_time": "2024-10-20T09:19:25.499155Z",
     "start_time": "2024-10-20T09:19:25.494359Z"
    }
   },
   "cell_type": "code",
   "source": [
    "b = 1 + 0.1*(52 - 53)\n",
    "N = 4"
   ],
   "id": "1fd22990565b8686",
   "outputs": [],
   "execution_count": 2
  },
  {
   "metadata": {
    "ExecuteTime": {
     "end_time": "2024-10-20T09:20:50.221431Z",
     "start_time": "2024-10-20T09:20:50.212584Z"
    }
   },
   "cell_type": "code",
   "source": [
    "matrix = np.array([[10*b, 1, 2, 3],\n",
    "                   [1, 10*b, -3, 2],\n",
    "                   [2, -3, 10*b, 1],\n",
    "                   [3, 2, 1, 10*b]])\n",
    "initial_matrix = matrix.copy()\n",
    "np.set_printoptions(precision=3)\n",
    "\n",
    "def index_max_el(matrix: np.ndarray) -> tuple:\n",
    "    max_value = None\n",
    "    max_index = (-1, -1)\n",
    "\n",
    "    for i in range(len(matrix)):\n",
    "        for j in range(len(matrix[i])):\n",
    "            if i != j:\n",
    "                if max_value is None or abs(matrix[i][j]) > max_value:\n",
    "                    max_value = abs(matrix[i][j])\n",
    "                    max_index = (i, j)\n",
    "    \n",
    "    return max_index"
   ],
   "id": "fe954978ffc76514",
   "outputs": [],
   "execution_count": 6
  },
  {
   "metadata": {
    "ExecuteTime": {
     "end_time": "2024-10-20T09:20:52.235143Z",
     "start_time": "2024-10-20T09:20:52.222675Z"
    }
   },
   "cell_type": "code",
   "source": [
    "row_indices, col_indices = np.indices(matrix.shape)\n",
    "non_diagonal_mask = row_indices != col_indices\n",
    "initial_vectors = np.eye(matrix.shape[0])\n",
    "iteration = 1\n",
    "\n",
    "while np.abs(matrix[non_diagonal_mask]).max() > 0.01:\n",
    "    print(\"итерация:\", iteration)\n",
    "    iteration += 1\n",
    "    alpha, beta = index_max_el(matrix)\n",
    "    \n",
    "    rotate_matrix = np.eye(matrix.shape[0])\n",
    "    phi = 1/2*(np.pi / 2 - np.arctan((matrix[alpha][alpha] - matrix[beta][beta])/2/matrix[alpha][beta]))\n",
    "    \n",
    "    rotate_matrix[alpha][alpha] = np.cos(phi)\n",
    "    rotate_matrix[beta][beta] = np.cos(phi)\n",
    "    rotate_matrix[alpha][beta] = -np.sin(phi)\n",
    "    rotate_matrix[beta][alpha] = np.sin(phi)\n",
    "    print(\"матрица поворота: \\n\", rotate_matrix)\n",
    "    initial_vectors = (initial_vectors @ rotate_matrix).copy()\n",
    "    \n",
    "    matrix = (rotate_matrix.T @ matrix @ rotate_matrix).copy()\n",
    "    print(\"матрица A после преобразования: \\n\", matrix)\n",
    "\n",
    "print(\"Полученная диагональная матрица с собственными значениями:\\n\", matrix)\n",
    "print(\"Полученная матрица после перемножения матриц Q:\\n\", initial_vectors)"
   ],
   "id": "29d609ac16ba7198",
   "outputs": [
    {
     "name": "stdout",
     "output_type": "stream",
     "text": [
      "итерация: 1\n",
      "матрица поворота: \n",
      " [[ 0.707  0.     0.    -0.707]\n",
      " [ 0.     1.     0.     0.   ]\n",
      " [ 0.     0.     1.     0.   ]\n",
      " [ 0.707  0.     0.     0.707]]\n",
      "матрица A после преобразования: \n",
      " [[ 1.200e+01  2.121e+00  2.121e+00  2.461e-16]\n",
      " [ 2.121e+00  9.000e+00 -3.000e+00  7.071e-01]\n",
      " [ 2.121e+00 -3.000e+00  9.000e+00 -7.071e-01]\n",
      " [ 1.231e-16  7.071e-01 -7.071e-01  6.000e+00]]\n",
      "итерация: 2\n",
      "матрица поворота: \n",
      " [[ 1.     0.     0.     0.   ]\n",
      " [ 0.     0.707 -0.707  0.   ]\n",
      " [ 0.     0.707  0.707  0.   ]\n",
      " [ 0.     0.     0.     1.   ]]\n",
      "матрица A после преобразования: \n",
      " [[ 1.200e+01  3.000e+00  6.153e-17  2.461e-16]\n",
      " [ 3.000e+00  6.000e+00  1.231e-16  4.266e-17]\n",
      " [ 6.153e-17  2.461e-16  1.200e+01 -1.000e+00]\n",
      " [ 1.231e-16  4.266e-17 -1.000e+00  6.000e+00]]\n",
      "итерация: 3\n",
      "матрица поворота: \n",
      " [[ 0.924 -0.383  0.     0.   ]\n",
      " [ 0.383  0.924  0.     0.   ]\n",
      " [ 0.     0.     1.     0.   ]\n",
      " [ 0.     0.     0.     1.   ]]\n",
      "матрица A после преобразования: \n",
      " [[ 1.324e+01  4.903e-16  1.039e-16  2.437e-16]\n",
      " [-3.079e-17  4.757e+00  9.015e-17 -5.478e-17]\n",
      " [ 1.510e-16  2.039e-16  1.200e+01 -1.000e+00]\n",
      " [ 1.300e-16 -7.680e-18 -1.000e+00  6.000e+00]]\n",
      "итерация: 4\n",
      "матрица поворота: \n",
      " [[ 1.     0.     0.     0.   ]\n",
      " [ 0.     1.     0.     0.   ]\n",
      " [ 0.     0.     0.16  -0.987]\n",
      " [ 0.     0.     0.987  0.16 ]]\n",
      "матрица A после преобразования: \n",
      " [[ 1.324e+01  4.903e-16  2.572e-16 -6.356e-17]\n",
      " [-3.079e-17  4.757e+00 -3.963e-17 -9.776e-17]\n",
      " [ 1.525e-16  2.507e-17  5.838e+00 -1.232e-17]\n",
      " [-1.283e-16 -2.025e-16 -4.154e-16  1.216e+01]]\n",
      "Полученная диагональная матрица с собственными значениями:\n",
      " [[ 1.324e+01  4.903e-16  2.572e-16 -6.356e-17]\n",
      " [-3.079e-17  4.757e+00 -3.963e-17 -9.776e-17]\n",
      " [ 1.525e-16  2.507e-17  5.838e+00 -1.232e-17]\n",
      " [-1.283e-16 -2.025e-16 -4.154e-16  1.216e+01]]\n",
      "Полученная матрица после перемножения матриц Q:\n",
      " [[ 0.653 -0.271 -0.698 -0.113]\n",
      " [ 0.271  0.653 -0.113  0.698]\n",
      " [ 0.271  0.653  0.113 -0.698]\n",
      " [ 0.653 -0.271  0.698  0.113]]\n"
     ]
    }
   ],
   "execution_count": 7
  },
  {
   "metadata": {
    "ExecuteTime": {
     "end_time": "2024-10-20T09:19:25.975943Z",
     "start_time": "2024-10-20T09:19:25.970111Z"
    }
   },
   "cell_type": "code",
   "source": [
    "i = 0\n",
    "q = initial_vectors[:, i]\n",
    "#print(initial_matrix, q)\n",
    "print(initial_matrix @ q, matrix[i][i] * q, sep=\"\\n\")\n",
    "print(initial_matrix @ q - matrix[i][i] * q)"
   ],
   "id": "5f725365aa86dc2d",
   "outputs": [
    {
     "name": "stdout",
     "output_type": "stream",
     "text": [
      "[8.65117194 3.58343275 3.58343275 8.65117194]\n",
      "[8.65117194 3.58343275 3.58343275 8.65117194]\n",
      "[1.77635684e-15 0.00000000e+00 0.00000000e+00 1.77635684e-15]\n"
     ]
    }
   ],
   "execution_count": 5
  }
 ],
 "metadata": {
  "kernelspec": {
   "display_name": "Python 3",
   "language": "python",
   "name": "python3"
  },
  "language_info": {
   "codemirror_mode": {
    "name": "ipython",
    "version": 2
   },
   "file_extension": ".py",
   "mimetype": "text/x-python",
   "name": "python",
   "nbconvert_exporter": "python",
   "pygments_lexer": "ipython2",
   "version": "2.7.6"
  }
 },
 "nbformat": 4,
 "nbformat_minor": 5
}
