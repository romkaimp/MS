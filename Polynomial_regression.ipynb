{
 "cells": [
  {
   "metadata": {},
   "cell_type": "markdown",
   "source": "Polynomial regression with l2 reg. ",
   "id": "8f1272450094072c"
  },
  {
   "cell_type": "code",
   "id": "initial_id",
   "metadata": {
    "collapsed": true,
    "ExecuteTime": {
     "end_time": "2024-09-06T03:57:39.030215Z",
     "start_time": "2024-09-06T03:57:37.921876Z"
    }
   },
   "source": [
    "import numpy as np\n",
    "import pandas as pd\n",
    "import matplotlib.pyplot as plt\n",
    "import seaborn as sns\n",
    "from scipy.special import softmax\n",
    "from sklearn.preprocessing import MinMaxScaler\n"
   ],
   "outputs": [],
   "execution_count": 2
  },
  {
   "metadata": {
    "ExecuteTime": {
     "end_time": "2024-09-06T03:57:40.087869Z",
     "start_time": "2024-09-06T03:57:39.688579Z"
    }
   },
   "cell_type": "code",
   "source": [
    "df = pd.read_csv(\"Student_Performance.csv\")\n",
    "df.describe()"
   ],
   "id": "b305b042c8e168aa",
   "outputs": [
    {
     "data": {
      "text/plain": [
       "       Hours Studied  Previous Scores   Sleep Hours  \\\n",
       "count   10000.000000     10000.000000  10000.000000   \n",
       "mean        4.992900        69.445700      6.530600   \n",
       "std         2.589309        17.343152      1.695863   \n",
       "min         1.000000        40.000000      4.000000   \n",
       "25%         3.000000        54.000000      5.000000   \n",
       "50%         5.000000        69.000000      7.000000   \n",
       "75%         7.000000        85.000000      8.000000   \n",
       "max         9.000000        99.000000      9.000000   \n",
       "\n",
       "       Sample Question Papers Practiced  Performance Index  \n",
       "count                      10000.000000       10000.000000  \n",
       "mean                           4.583300          55.224800  \n",
       "std                            2.867348          19.212558  \n",
       "min                            0.000000          10.000000  \n",
       "25%                            2.000000          40.000000  \n",
       "50%                            5.000000          55.000000  \n",
       "75%                            7.000000          71.000000  \n",
       "max                            9.000000         100.000000  "
      ],
      "text/html": [
       "<div>\n",
       "<style scoped>\n",
       "    .dataframe tbody tr th:only-of-type {\n",
       "        vertical-align: middle;\n",
       "    }\n",
       "\n",
       "    .dataframe tbody tr th {\n",
       "        vertical-align: top;\n",
       "    }\n",
       "\n",
       "    .dataframe thead th {\n",
       "        text-align: right;\n",
       "    }\n",
       "</style>\n",
       "<table border=\"1\" class=\"dataframe\">\n",
       "  <thead>\n",
       "    <tr style=\"text-align: right;\">\n",
       "      <th></th>\n",
       "      <th>Hours Studied</th>\n",
       "      <th>Previous Scores</th>\n",
       "      <th>Sleep Hours</th>\n",
       "      <th>Sample Question Papers Practiced</th>\n",
       "      <th>Performance Index</th>\n",
       "    </tr>\n",
       "  </thead>\n",
       "  <tbody>\n",
       "    <tr>\n",
       "      <th>count</th>\n",
       "      <td>10000.000000</td>\n",
       "      <td>10000.000000</td>\n",
       "      <td>10000.000000</td>\n",
       "      <td>10000.000000</td>\n",
       "      <td>10000.000000</td>\n",
       "    </tr>\n",
       "    <tr>\n",
       "      <th>mean</th>\n",
       "      <td>4.992900</td>\n",
       "      <td>69.445700</td>\n",
       "      <td>6.530600</td>\n",
       "      <td>4.583300</td>\n",
       "      <td>55.224800</td>\n",
       "    </tr>\n",
       "    <tr>\n",
       "      <th>std</th>\n",
       "      <td>2.589309</td>\n",
       "      <td>17.343152</td>\n",
       "      <td>1.695863</td>\n",
       "      <td>2.867348</td>\n",
       "      <td>19.212558</td>\n",
       "    </tr>\n",
       "    <tr>\n",
       "      <th>min</th>\n",
       "      <td>1.000000</td>\n",
       "      <td>40.000000</td>\n",
       "      <td>4.000000</td>\n",
       "      <td>0.000000</td>\n",
       "      <td>10.000000</td>\n",
       "    </tr>\n",
       "    <tr>\n",
       "      <th>25%</th>\n",
       "      <td>3.000000</td>\n",
       "      <td>54.000000</td>\n",
       "      <td>5.000000</td>\n",
       "      <td>2.000000</td>\n",
       "      <td>40.000000</td>\n",
       "    </tr>\n",
       "    <tr>\n",
       "      <th>50%</th>\n",
       "      <td>5.000000</td>\n",
       "      <td>69.000000</td>\n",
       "      <td>7.000000</td>\n",
       "      <td>5.000000</td>\n",
       "      <td>55.000000</td>\n",
       "    </tr>\n",
       "    <tr>\n",
       "      <th>75%</th>\n",
       "      <td>7.000000</td>\n",
       "      <td>85.000000</td>\n",
       "      <td>8.000000</td>\n",
       "      <td>7.000000</td>\n",
       "      <td>71.000000</td>\n",
       "    </tr>\n",
       "    <tr>\n",
       "      <th>max</th>\n",
       "      <td>9.000000</td>\n",
       "      <td>99.000000</td>\n",
       "      <td>9.000000</td>\n",
       "      <td>9.000000</td>\n",
       "      <td>100.000000</td>\n",
       "    </tr>\n",
       "  </tbody>\n",
       "</table>\n",
       "</div>"
      ]
     },
     "execution_count": 3,
     "metadata": {},
     "output_type": "execute_result"
    }
   ],
   "execution_count": 3
  },
  {
   "metadata": {
    "ExecuteTime": {
     "end_time": "2024-09-06T03:57:42.013956Z",
     "start_time": "2024-09-06T03:57:42.005349Z"
    }
   },
   "cell_type": "code",
   "source": "df.head()",
   "id": "801454253f095b21",
   "outputs": [
    {
     "data": {
      "text/plain": [
       "   Hours Studied  Previous Scores Extracurricular Activities  Sleep Hours  \\\n",
       "0              7               99                        Yes            9   \n",
       "1              4               82                         No            4   \n",
       "2              8               51                        Yes            7   \n",
       "3              5               52                        Yes            5   \n",
       "4              7               75                         No            8   \n",
       "\n",
       "   Sample Question Papers Practiced  Performance Index  \n",
       "0                                 1               91.0  \n",
       "1                                 2               65.0  \n",
       "2                                 2               45.0  \n",
       "3                                 2               36.0  \n",
       "4                                 5               66.0  "
      ],
      "text/html": [
       "<div>\n",
       "<style scoped>\n",
       "    .dataframe tbody tr th:only-of-type {\n",
       "        vertical-align: middle;\n",
       "    }\n",
       "\n",
       "    .dataframe tbody tr th {\n",
       "        vertical-align: top;\n",
       "    }\n",
       "\n",
       "    .dataframe thead th {\n",
       "        text-align: right;\n",
       "    }\n",
       "</style>\n",
       "<table border=\"1\" class=\"dataframe\">\n",
       "  <thead>\n",
       "    <tr style=\"text-align: right;\">\n",
       "      <th></th>\n",
       "      <th>Hours Studied</th>\n",
       "      <th>Previous Scores</th>\n",
       "      <th>Extracurricular Activities</th>\n",
       "      <th>Sleep Hours</th>\n",
       "      <th>Sample Question Papers Practiced</th>\n",
       "      <th>Performance Index</th>\n",
       "    </tr>\n",
       "  </thead>\n",
       "  <tbody>\n",
       "    <tr>\n",
       "      <th>0</th>\n",
       "      <td>7</td>\n",
       "      <td>99</td>\n",
       "      <td>Yes</td>\n",
       "      <td>9</td>\n",
       "      <td>1</td>\n",
       "      <td>91.0</td>\n",
       "    </tr>\n",
       "    <tr>\n",
       "      <th>1</th>\n",
       "      <td>4</td>\n",
       "      <td>82</td>\n",
       "      <td>No</td>\n",
       "      <td>4</td>\n",
       "      <td>2</td>\n",
       "      <td>65.0</td>\n",
       "    </tr>\n",
       "    <tr>\n",
       "      <th>2</th>\n",
       "      <td>8</td>\n",
       "      <td>51</td>\n",
       "      <td>Yes</td>\n",
       "      <td>7</td>\n",
       "      <td>2</td>\n",
       "      <td>45.0</td>\n",
       "    </tr>\n",
       "    <tr>\n",
       "      <th>3</th>\n",
       "      <td>5</td>\n",
       "      <td>52</td>\n",
       "      <td>Yes</td>\n",
       "      <td>5</td>\n",
       "      <td>2</td>\n",
       "      <td>36.0</td>\n",
       "    </tr>\n",
       "    <tr>\n",
       "      <th>4</th>\n",
       "      <td>7</td>\n",
       "      <td>75</td>\n",
       "      <td>No</td>\n",
       "      <td>8</td>\n",
       "      <td>5</td>\n",
       "      <td>66.0</td>\n",
       "    </tr>\n",
       "  </tbody>\n",
       "</table>\n",
       "</div>"
      ]
     },
     "execution_count": 4,
     "metadata": {},
     "output_type": "execute_result"
    }
   ],
   "execution_count": 4
  },
  {
   "metadata": {},
   "cell_type": "markdown",
   "source": "Добавляем новые колонки - произведения существующих, проверяем, что столбцы линейно независимы",
   "id": "5a49239b7a16ce37"
  },
  {
   "metadata": {
    "ExecuteTime": {
     "end_time": "2024-09-06T03:57:43.725340Z",
     "start_time": "2024-09-06T03:57:43.620340Z"
    }
   },
   "cell_type": "code",
   "source": [
    "df[\"Extracurricular Activities\"] = df[\"Extracurricular Activities\"].apply(lambda x: 1 if x == \"Yes\" else 0)\n",
    "\n",
    "x: np.ndarray = df.drop(columns=[\"Performance Index\"]).to_numpy()\n",
    "scaler = MinMaxScaler()\n",
    "x = scaler.fit_transform(x)\n",
    "columns = x.shape[1]\n",
    "print(columns)\n",
    "for col1 in range(columns):\n",
    "    for col2 in range(columns):\n",
    "        if col1 != 2 and col2 != 2:\n",
    "            x = np.column_stack((x, x[:, col1] * x[:, col2]))\n",
    "#  добавляем столбец 1 (y = wx + b => y = WX, где X = x + 1, W = w + b)\n",
    "x = np.column_stack((x, np.ones(x.shape[0])))\n",
    "print(x.shape[1]) #  x.shape[1] + (x.shape[1]-1)**2 + 1 - количетсво признаков, после генерации новых"
   ],
   "id": "19c79d4c1536a982",
   "outputs": [
    {
     "name": "stdout",
     "output_type": "stream",
     "text": [
      "5\n",
      "22\n"
     ]
    }
   ],
   "execution_count": 5
  },
  {
   "metadata": {
    "ExecuteTime": {
     "end_time": "2024-09-06T05:15:23.606643Z",
     "start_time": "2024-09-06T05:15:23.488169Z"
    }
   },
   "cell_type": "code",
   "source": [
    "y: np.ndarray = df[\"Performance Index\"].to_numpy()\n",
    "alpha = 0.005\n",
    "\n",
    "print(x[0])\n",
    "w = np.linalg.inv(x.T @ x + alpha * np.eye(x.shape[1])) @ x.T @ y\n",
    "y_fit = x@w\n",
    "MSE = np.mean((y_fit-y)**2)\n",
    "print(MSE)\n",
    "\n",
    "plt.hist(w)\n",
    "plt.show()"
   ],
   "id": "332bf090f9a887f1",
   "outputs": [
    {
     "name": "stdout",
     "output_type": "stream",
     "text": [
      "[0.75       1.         1.         1.         0.11111111 0.5625\n",
      " 0.75       0.75       0.08333333 0.75       1.         1.\n",
      " 0.11111111 0.75       1.         1.         0.11111111 0.08333333\n",
      " 0.11111111 0.11111111 0.01234568 1.        ]\n",
      "4.146419734800338\n"
     ]
    },
    {
     "data": {
      "text/plain": [
       "<Figure size 640x480 with 1 Axes>"
      ],
      "image/png": "[encoded data removed]"
     },
     "metadata": {},
     "output_type": "display_data"
    }
   ],
   "execution_count": 56
  },
  {
   "metadata": {
    "ExecuteTime": {
     "end_time": "2024-09-06T03:57:50.491365Z",
     "start_time": "2024-09-06T03:57:50.486423Z"
    }
   },
   "cell_type": "code",
   "source": "print(w, len(w))",
   "id": "358d914ea0d74427",
   "outputs": [
    {
     "name": "stdout",
     "output_type": "stream",
     "text": [
      "[ 2.23516558e+01  6.03196514e+01  6.14686085e-01  1.75704308e+00\n",
      "  1.55772974e+00  3.04305237e-01 -3.47778138e-02  1.58993354e-01\n",
      "  4.23348952e-02 -3.47778168e-02 -3.06619376e-01  1.43878563e-01\n",
      " -3.31928542e-02  1.58993359e-01  1.43878569e-01  2.02449079e-01\n",
      "  1.37448364e-01  4.23348939e-02 -3.31928619e-02  1.37448356e-01\n",
      "  3.92751849e-02  1.16719474e+01] 22\n"
     ]
    }
   ],
   "execution_count": 7
  },
  {
   "metadata": {},
   "cell_type": "markdown",
   "source": "Как мы видим, многие веса модели крайне малы, гораздо эффективнее с их минимизацией справится l1 регуляризация.",
   "id": "db97618c309138db"
  },
  {
   "metadata": {
    "ExecuteTime": {
     "end_time": "2024-09-06T05:18:33.661741Z",
     "start_time": "2024-09-06T05:18:33.654335Z"
    }
   },
   "cell_type": "code",
   "source": [
    "def MSE(y, y_pred):\n",
    "    return ((y - y_pred)**2).mean()\n",
    "\n",
    "alpha = 0.01\n",
    "beta = 1\n",
    "\n",
    "l1_array = np.zeros(shape=(x.shape[1]))\n",
    "for coordinate in range(x.shape[1]):\n",
    "    if abs(w[coordinate]) < 10 ** -7:\n",
    "        l1_array[coordinate] = 0\n",
    "    elif w[coordinate] > 0:\n",
    "        l1_array[coordinate] = -1/2\n",
    "    else:\n",
    "        l1_array[coordinate] = 1/2\n",
    "        \n",
    "w_elastic = np.linalg.pinv(x.T @ x + alpha * np.eye(x.shape[1])) @ (x.T @ y + beta * l1_array)\n",
    "    \n",
    "print(f\"{MSE(y, x@w_elastic)} - MSE\")\n",
    "print(w_elastic)\n"
   ],
   "id": "be941655e1e83b45",
   "outputs": [
    {
     "name": "stdout",
     "output_type": "stream",
     "text": [
      "4.146426838146202 - MSE\n",
      "[ 2.23459616e+01  6.02863646e+01  6.14586937e-01  1.75840421e+00\n",
      "  1.55420473e+00  3.04632108e-01 -2.88884089e-02  1.58594370e-01\n",
      "  4.19296216e-02 -2.88884138e-02 -2.85702144e-01  1.43886441e-01\n",
      " -2.74440919e-02  1.58594379e-01  1.43886437e-01  2.02013957e-01\n",
      "  1.36776412e-01  4.19296128e-02 -2.74440919e-02  1.36776416e-01\n",
      "  3.79120206e-02  1.16809234e+01]\n"
     ]
    }
   ],
   "execution_count": 58
  },
  {
   "metadata": {
    "ExecuteTime": {
     "end_time": "2024-09-06T05:18:37.032150Z",
     "start_time": "2024-09-06T05:18:36.918088Z"
    }
   },
   "cell_type": "code",
   "source": [
    "plt.hist(w_elastic)\n",
    "plt.show()"
   ],
   "id": "79ae8c6b4a77660a",
   "outputs": [
    {
     "data": {
      "text/plain": [
       "<Figure size 640x480 with 1 Axes>"
      ],
      "image/png": "[encoded data removed]"
     },
     "metadata": {},
     "output_type": "display_data"
    }
   ],
   "execution_count": 59
  }
 ],
 "metadata": {
  "kernelspec": {
   "display_name": "Python 3",
   "language": "python",
   "name": "python3"
  },
  "language_info": {
   "codemirror_mode": {
    "name": "ipython",
    "version": 2
   },
   "file_extension": ".py",
   "mimetype": "text/x-python",
   "name": "python",
   "nbconvert_exporter": "python",
   "pygments_lexer": "ipython2",
   "version": "2.7.6"
  }
 },
 "nbformat": 4,
 "nbformat_minor": 5
}
