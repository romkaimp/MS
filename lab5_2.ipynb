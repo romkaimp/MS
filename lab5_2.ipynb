{
 "cells": [
  {
   "cell_type": "code",
   "id": "initial_id",
   "metadata": {
    "collapsed": true,
    "ExecuteTime": {
     "end_time": "2024-11-22T14:28:38.308262Z",
     "start_time": "2024-11-22T14:28:38.302458Z"
    }
   },
   "source": [
    "import numpy as np\n",
    "import matplotlib.pyplot as plt\n",
    "import scipy.stats as stats\n",
    "import pandas as pd"
   ],
   "outputs": [],
   "execution_count": 47
  },
  {
   "metadata": {
    "ExecuteTime": {
     "end_time": "2024-11-22T14:28:38.400918Z",
     "start_time": "2024-11-22T14:28:38.395459Z"
    }
   },
   "cell_type": "code",
   "source": [
    "alpha = 0.01\n",
    "a0 = -12.7\n",
    "#H2: a > a0\n",
    "sigma0 = 3.5\n",
    "#H3: sigma > sigma0\n",
    "a1 = -11.9\n",
    "#H1: a = a1\n",
    "sigma1 = 3.8\n",
    "eps = 0.1\n",
    "n = 120"
   ],
   "id": "edd5c2088fe48e95",
   "outputs": [],
   "execution_count": 48
  },
  {
   "metadata": {
    "ExecuteTime": {
     "end_time": "2024-11-22T14:28:38.438239Z",
     "start_time": "2024-11-22T14:28:38.427209Z"
    }
   },
   "cell_type": "code",
   "source": [
    "df = pd.read_csv(\"MS_5-6.csv\", header=None, encoding='utf-8')\n",
    "\n",
    "df.head()"
   ],
   "id": "75488135977f3db8",
   "outputs": [
    {
     "data": {
      "text/plain": [
       "        0\n",
       "0 -24.076\n",
       "1  -2.905\n",
       "2  -7.380\n",
       "3 -13.266\n",
       "4 -10.997"
      ],
      "text/html": [
       "<div>\n",
       "<style scoped>\n",
       "    .dataframe tbody tr th:only-of-type {\n",
       "        vertical-align: middle;\n",
       "    }\n",
       "\n",
       "    .dataframe tbody tr th {\n",
       "        vertical-align: top;\n",
       "    }\n",
       "\n",
       "    .dataframe thead th {\n",
       "        text-align: right;\n",
       "    }\n",
       "</style>\n",
       "<table border=\"1\" class=\"dataframe\">\n",
       "  <thead>\n",
       "    <tr style=\"text-align: right;\">\n",
       "      <th></th>\n",
       "      <th>0</th>\n",
       "    </tr>\n",
       "  </thead>\n",
       "  <tbody>\n",
       "    <tr>\n",
       "      <th>0</th>\n",
       "      <td>-24.076</td>\n",
       "    </tr>\n",
       "    <tr>\n",
       "      <th>1</th>\n",
       "      <td>-2.905</td>\n",
       "    </tr>\n",
       "    <tr>\n",
       "      <th>2</th>\n",
       "      <td>-7.380</td>\n",
       "    </tr>\n",
       "    <tr>\n",
       "      <th>3</th>\n",
       "      <td>-13.266</td>\n",
       "    </tr>\n",
       "    <tr>\n",
       "      <th>4</th>\n",
       "      <td>-10.997</td>\n",
       "    </tr>\n",
       "  </tbody>\n",
       "</table>\n",
       "</div>"
      ]
     },
     "execution_count": 49,
     "metadata": {},
     "output_type": "execute_result"
    }
   ],
   "execution_count": 49
  },
  {
   "metadata": {
    "ExecuteTime": {
     "end_time": "2024-11-22T14:28:38.712075Z",
     "start_time": "2024-11-22T14:28:38.547865Z"
    }
   },
   "cell_type": "code",
   "source": [
    "data = df.iloc[:, 0].to_numpy()\n",
    "num_bins = int(1 + np.log(n)*3.32)\n",
    "plt.hist(data, bins=num_bins)"
   ],
   "id": "f4f902311b4d93c5",
   "outputs": [
    {
     "data": {
      "text/plain": [
       "(array([ 2.,  2.,  0.,  1.,  5., 17.,  9.,  9., 24., 18., 14., 12.,  2.,\n",
       "         2.,  2.,  1.]),\n",
       " array([-24.076  , -22.63975, -21.2035 , -19.76725, -18.331  , -16.89475,\n",
       "        -15.4585 , -14.02225, -12.586  , -11.14975,  -9.7135 ,  -8.27725,\n",
       "         -6.841  ,  -5.40475,  -3.9685 ,  -2.53225,  -1.096  ]),\n",
       " <BarContainer object of 16 artists>)"
      ]
     },
     "execution_count": 50,
     "metadata": {},
     "output_type": "execute_result"
    },
    {
     "data": {
      "text/plain": [
       "<Figure size 640x480 with 1 Axes>"
      ],
      "image/png": "[encoded data removed]"
     },
     "metadata": {},
     "output_type": "display_data"
    }
   ],
   "execution_count": 50
  },
  {
   "metadata": {
    "ExecuteTime": {
     "end_time": "2024-11-22T14:28:38.825099Z",
     "start_time": "2024-11-22T14:28:38.818238Z"
    }
   },
   "cell_type": "code",
   "source": [
    "sample_mean = np.mean(data)\n",
    "sample_std = 1/(n - 1) * np.sum((data - sample_mean)**2)\n",
    "print(\"sample mean:\", sample_mean)\n",
    "print(\"sample std:\", sample_std)\n",
    "print('крит мн-во: S = {sample_me_x > C}')\n",
    "print('статистика: (sample_me_x - a) * sqrt(n) / sqrt(s_2) ~ t(n-1)')\n",
    "C = a0 + stats.t.ppf(1 - alpha, n - 1) * np.sqrt(sample_std / n) \n",
    "print(\"C:\", C)\n",
    "if sample_mean > C:\n",
    "    print(\"H0 отклонена, a > -12.7\")\n",
    "else:\n",
    "    print(\"H0 принята, a = -12.7\")"
   ],
   "id": "50d59d4ff4a6c73d",
   "outputs": [
    {
     "name": "stdout",
     "output_type": "stream",
     "text": [
      "sample mean: -12.03045\n",
      "sample std: 15.662343274789917\n",
      "крит мн-во: S = {sample_me_x > C}\n",
      "статистика: (sample_me_x - a) * sqrt(n) / sqrt(s_2) ~ t(n-1)\n",
      "C: -11.848080432815411\n",
      "H0 принята, a = -12.7\n"
     ]
    }
   ],
   "execution_count": 51
  },
  {
   "metadata": {
    "ExecuteTime": {
     "end_time": "2024-11-22T14:28:38.933341Z",
     "start_time": "2024-11-22T14:28:38.928098Z"
    }
   },
   "cell_type": "code",
   "source": [
    "print('крит мн-во: S = {s_2 > C}')\n",
    "print('статистика: s_2 * (n - 1) / sigma^2 ~ Chi2(n-1)')\n",
    "\n",
    "C = stats.chi2.ppf(1 - alpha, n - 1) * sigma0**2 / (n - 1)\n",
    "print(C)\n",
    "if sample_std > C:\n",
    "    print(\"H0 отклонена, sigma > 3.5\")\n",
    "else:\n",
    "    print(\"H0 принята, sigma = 3.5\")"
   ],
   "id": "dd2c87fdf7828e0a",
   "outputs": [
    {
     "name": "stdout",
     "output_type": "stream",
     "text": [
      "крит мн-во: S = {s_2 > C}\n",
      "статистика: s_2 * (n - 1) / sigma^2 ~ Chi2(n-1)\n",
      "16.244070413546062\n",
      "H0 принята, sigma = 3.5\n"
     ]
    }
   ],
   "execution_count": 52
  },
  {
   "metadata": {
    "ExecuteTime": {
     "end_time": "2024-11-22T14:28:39.040659Z",
     "start_time": "2024-11-22T14:28:39.034618Z"
    }
   },
   "cell_type": "code",
   "source": [
    "print('крит мн-во: S = {me_x < C}')\n",
    "print('статистика: (me_x - a0) * sqrt(n) / sigma1 ~ N(0, 1)')\n",
    "\n",
    "C = a0 + sigma1 * stats.norm.ppf(1 - alpha, 0, 1) / np.sqrt(n) \n",
    "\n",
    "print(\"C:\", C)\n",
    "if sample_mean > C:\n",
    "    print(\"H0 отклонена, a = -11.9\")\n",
    "else:\n",
    "    print(\"H0 принята, a = -12.7\")"
   ],
   "id": "a0400a44f071f22a",
   "outputs": [
    {
     "name": "stdout",
     "output_type": "stream",
     "text": [
      "крит мн-во: S = {me_x < C}\n",
      "статистика: (me_x - a0) * sqrt(n) / sigma1 ~ N(0, 1)\n",
      "C: -11.893010968762974\n",
      "H0 принята, a = -12.7\n"
     ]
    }
   ],
   "execution_count": 53
  },
  {
   "metadata": {
    "ExecuteTime": {
     "end_time": "2024-11-22T14:28:39.136496Z",
     "start_time": "2024-11-22T14:28:39.130757Z"
    }
   },
   "cell_type": "code",
   "source": [
    "beta = stats.norm.cdf((C + 11.448452324761577) * np.sqrt(n) / sigma1, 0, 1)\n",
    "print(\"beta:\", beta)"
   ],
   "id": "732dce9d2d027853",
   "outputs": [
    {
     "name": "stdout",
     "output_type": "stream",
     "text": [
      "beta: 0.10000000000000031\n"
     ]
    }
   ],
   "execution_count": 54
  },
  {
   "metadata": {
    "ExecuteTime": {
     "end_time": "2024-11-22T14:28:39.256055Z",
     "start_time": "2024-11-22T14:28:39.250093Z"
    }
   },
   "cell_type": "code",
   "source": [
    "a_opt = C - stats.norm.ppf(eps, 0, 1) * sigma1 / np.sqrt(n)\n",
    "print(\"a_opt:\", a_opt)"
   ],
   "id": "67ba5b1539b40a22",
   "outputs": [
    {
     "name": "stdout",
     "output_type": "stream",
     "text": [
      "a_opt: -11.448452324761577\n"
     ]
    }
   ],
   "execution_count": 55
  },
  {
   "metadata": {
    "ExecuteTime": {
     "end_time": "2024-11-22T14:28:39.587599Z",
     "start_time": "2024-11-22T14:28:39.431122Z"
    }
   },
   "cell_type": "code",
   "source": [
    "x = np.linspace(min(data), max(data), 1000)\n",
    "\n",
    "plt.hist(data, bins=7, density=True, alpha=0.5, label='Гистограмма выборки', color='lightblue')\n",
    "print(a0, a1)\n",
    "pdf_a0 = stats.norm.pdf(x, loc=a0, scale=sigma1)\n",
    "pdf_a1 = stats.norm.pdf(x, loc=a1, scale=sigma1)\n",
    "\n",
    "plt.plot(x, pdf_a0, 'r-', label=f'Плотность N({a0}, {sigma1})', linewidth=2)\n",
    "plt.plot(x, pdf_a1, 'g-', label=f'Плотность N({a1}, {sigma1})', linewidth=2)\n"
   ],
   "id": "9bc9bcd07e2a720f",
   "outputs": [
    {
     "name": "stdout",
     "output_type": "stream",
     "text": [
      "-12.7 -11.9\n"
     ]
    },
    {
     "data": {
      "text/plain": [
       "[<matplotlib.lines.Line2D at 0x1b747e07cb0>]"
      ]
     },
     "execution_count": 56,
     "metadata": {},
     "output_type": "execute_result"
    },
    {
     "data": {
      "text/plain": [
       "<Figure size 640x480 with 1 Axes>"
      ],
      "image/png": "[encoded data removed]"
     },
     "metadata": {},
     "output_type": "display_data"
    }
   ],
   "execution_count": 56
  },
  {
   "metadata": {
    "ExecuteTime": {
     "end_time": "2024-11-22T14:28:39.701352Z",
     "start_time": "2024-11-22T14:28:39.698410Z"
    }
   },
   "cell_type": "code",
   "source": "",
   "id": "4e28c362b21db96e",
   "outputs": [],
   "execution_count": null
  }
 ],
 "metadata": {
  "kernelspec": {
   "display_name": "Python 3",
   "language": "python",
   "name": "python3"
  },
  "language_info": {
   "codemirror_mode": {
    "name": "ipython",
    "version": 2
   },
   "file_extension": ".py",
   "mimetype": "text/x-python",
   "name": "python",
   "nbconvert_exporter": "python",
   "pygments_lexer": "ipython2",
   "version": "2.7.6"
  }
 },
 "nbformat": 4,
 "nbformat_minor": 5
}
